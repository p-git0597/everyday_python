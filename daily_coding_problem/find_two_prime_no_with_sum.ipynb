{
 "cells": [
  {
   "cell_type": "markdown",
   "metadata": {},
   "source": [
    "## Find two prime numbers with given sum\n",
    "This problem was asked by Alibaba.\n",
    "\n",
    "Given an even number (greater than 2), return two prime numbers whose sum will be equal to the given number.\n",
    "\n",
    "A solution will always exist. See Goldbach’s conjecture.\n",
    "\n",
    "Example:\n",
    "```\n",
    "Input: 4\n",
    "Output: 2 + 2 = 4\n",
    "```\n",
    "If there are more than one solution possible, return the lexicographically smaller solution.\n",
    "\n",
    "If `[a, b]` is one solution with `a <= b`, and `[c, d]` is another solution with `c <= d`, then\n",
    "\n",
    "`[a, b] < [c, d]`\n",
    "If a < c OR a==c AND b < d.\n",
    "\n",
    "You can implement a function that checks for prime numbers and then iterates through numbers starting from 2 to the given even number, checking if the current number and the difference between the even number and the current number are both prime."
   ]
  },
  {
   "cell_type": "code",
   "execution_count": 1,
   "metadata": {},
   "outputs": [
    {
     "name": "stdout",
     "output_type": "stream",
     "text": [
      "output: 2 + 2 = 4\n"
     ]
    }
   ],
   "source": [
    "def is_prime(n):\n",
    "    if n <= 1:\n",
    "        return False\n",
    "    if n<= 3:\n",
    "        return True\n",
    "    if n %2 == 0 or n % 3 == 0:\n",
    "        return False\n",
    "    i = 5\n",
    "    while i * i <= n:\n",
    "        if n % i ==0 or n % (i + 2) == 0:\n",
    "            return False\n",
    "        i += 6\n",
    "    return True\n",
    "\n",
    "def prime_sum_pairs(n):\n",
    "    for i in range(2, n // 2 +1):\n",
    "        if is_prime(i) and is_prime(n - i):\n",
    "            return i, n-i\n",
    "        \n",
    "        \n",
    "# Example usage\n",
    "\n",
    "n = 4\n",
    "result = prime_sum_pairs(n)\n",
    "print(f\"output: {result[0]} + {result[1]} = {n}\")"
   ]
  },
  {
   "cell_type": "code",
   "execution_count": 2,
   "metadata": {},
   "outputs": [
    {
     "name": "stdout",
     "output_type": "stream",
     "text": [
      "output: 2 + 5 = 7\n"
     ]
    }
   ],
   "source": [
    "n = 7\n",
    "result = prime_sum_pairs(n)\n",
    "print(f\"output: {result[0]} + {result[1]} = {n}\")"
   ]
  },
  {
   "cell_type": "markdown",
   "metadata": {},
   "source": [
    "### Explanation:\n",
    "\n",
    "- The `is_prime` function checks if a number is prime using the trial division method, which checks divisibility by all numbers up to the square root of the given number.\n",
    "- The `prime_sum_pairs` function iterates through numbers from 2 to half of the given even number `(n // 2)`. For each number `i`, it checks if both `i` and `n - i` are prime using the `is_prime` function.\n",
    "- If both numbers are prime, it returns them as the result.\n",
    "\n",
    "This solution ensures that the returned prime numbers are the lexicographically smallest solution as required by the problem statement.\n",
    "\n",
    "\n",
    "###  let's walk through the function `prime_sum_pairs` with an example input `n = 4`:\n",
    "\n",
    "1. The function starts iterating through numbers from 2 to half of the given even number, which is n // 2 = 2.\n",
    "\n",
    "    - At `i = 2`, it checks if `2` and `4 - 2 = 2` are prime numbers.\n",
    "    - Since both `2` and `2` are prime, the function returns `(2, 2)`.\n",
    "2. The function returns `(2, 2)` as the result, indicating that `2 + 2 = 4`.\n",
    "\n",
    "So, the output for the input `4` is `2 + 2 = 4`.\n",
    "\n",
    "### Explanation:\n",
    "\n",
    "- The function checks if `2` and `4 - 2` = `2` are prime numbers.\n",
    "- Since both `2` and `2` are prime, they form a pair of prime numbers whose sum equals `4`.\n",
    "- The function returns the lexicographically smallest solution, which is `(2, 2)`.\n",
    "\n",
    "This way, the function finds two prime numbers whose sum equals the given even number."
   ]
  },
  {
   "cell_type": "code",
   "execution_count": null,
   "metadata": {},
   "outputs": [],
   "source": []
  }
 ],
 "metadata": {
  "kernelspec": {
   "display_name": "Python 3",
   "language": "python",
   "name": "python3"
  },
  "language_info": {
   "codemirror_mode": {
    "name": "ipython",
    "version": 3
   },
   "file_extension": ".py",
   "mimetype": "text/x-python",
   "name": "python",
   "nbconvert_exporter": "python",
   "pygments_lexer": "ipython3",
   "version": "3.12.0"
  }
 },
 "nbformat": 4,
 "nbformat_minor": 2
}
