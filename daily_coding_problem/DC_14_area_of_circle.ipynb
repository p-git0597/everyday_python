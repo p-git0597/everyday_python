{
 "cells": [
  {
   "cell_type": "markdown",
   "metadata": {},
   "source": [
    "### Estimating π Using the Monte Carlo Method.\n",
    "\n",
    "This problem was asked by Google.\n",
    "\n",
    "The area of a circle is defined as πr^2. Estimate π to 3 decimal places using a Monte Carlo method.\n",
    "\n",
    "Hint: The basic equation of a circle is x2 + y2 = r2."
   ]
  },
  {
   "cell_type": "markdown",
   "metadata": {},
   "source": [
    "### Solution Approach\n",
    "The Monte Carlo method is a statistical approach that uses random sampling to obtain numerical results. To estimate π, we use a square enclosing a quarter-circle and count random points inside both shapes.\n",
    "\n",
    "#### Concept\n",
    "Imagine a unit square with side length 2, centered at the origin, containing a quarter-circle of radius 1 in the first quadrant.\n",
    "\n",
    "1. Generate random points \\((x, y)\\) inside the square where \\(0 \\leq x \\leq 1\\) and \\(0 \\leq y \\leq 1\\).\n",
    "2. Check if the point is inside the quarter-circle using the equation:\n",
    "\n",
    "   \\[\n",
    "   x^2 + y^2 \\leq 1\n",
    "   \\]\n",
    "\n",
    "3. The ratio of points inside the circle to total points approximates the area of the quarter-circle compared to the square:\n",
    "\n",
    "   \\[\n",
    "   \\frac{\\text{Points Inside Circle}}{\\text{Total Points}} \\approx \\frac{\\pi r^2}{4 r^2}\n",
    "   \\]\n",
    "\n",
    "4. Since \\(r = 1\\), we get:\n",
    "\n",
    "   \\[\n",
    "   \\frac{\\pi}{4} \\approx \\frac{\\text{Points Inside Circle}}{\\text{Total Points}}\n",
    "   \\]\n",
    "\n",
    "5. Solving for π:\n",
    "\n",
    "   \\[\n",
    "   \\pi \\approx 4 \\times \\frac{\\text{Points Inside Circle}}{\\text{Total Points}}\n",
    "   \\]\n"
   ]
  },
  {
   "cell_type": "code",
   "execution_count": null,
   "metadata": {},
   "outputs": [
    {
     "name": "stdout",
     "output_type": "stream",
     "text": [
      "3.141\n"
     ]
    },
    {
     "ename": "",
     "evalue": "",
     "output_type": "error",
     "traceback": [
      "\u001b[1;31mThe Kernel crashed while executing code in the current cell or a previous cell. \n",
      "\u001b[1;31mPlease review the code in the cell(s) to identify a possible cause of the failure. \n",
      "\u001b[1;31mClick <a href='https://aka.ms/vscodeJupyterKernelCrash'>here</a> for more info. \n",
      "\u001b[1;31mView Jupyter <a href='command:jupyter.viewOutput'>log</a> for further details."
     ]
    }
   ],
   "source": [
    "import random\n",
    "\n",
    "def estimate_pi(num_samples = 1000000):\n",
    "    inside_circle = 0\n",
    "    \n",
    "    for _ in range(num_samples):\n",
    "        x, y = random.uniform(0, 1), random.uniform(0, 1)\n",
    "        if x**2 + y**2 <= 1:\n",
    "            inside_circle += 1\n",
    "    \n",
    "    return round(4 * (inside_circle / num_samples), 3)\n",
    "\n",
    "print(estimate_pi())"
   ]
  }
 ],
 "metadata": {
  "kernelspec": {
   "display_name": "Python 3",
   "language": "python",
   "name": "python3"
  },
  "language_info": {
   "codemirror_mode": {
    "name": "ipython",
    "version": 3
   },
   "file_extension": ".py",
   "mimetype": "text/x-python",
   "name": "python",
   "nbconvert_exporter": "python",
   "pygments_lexer": "ipython3",
   "version": "3.12.0"
  }
 },
 "nbformat": 4,
 "nbformat_minor": 2
}
