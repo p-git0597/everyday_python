{
 "cells": [
  {
   "cell_type": "markdown",
   "metadata": {},
   "source": [
    "## Maximum Sum of Non-Adjacent Numbers #9 [Hard]\n",
    "This problem was asked by Airbnb.\n",
    "\n",
    "- Given a list of integers, write a function that returns the largest sum of non-adjacent numbers. Numbers can be 0 or negative.\n",
    "\n",
    "- For example, `[2, 4, 6, 2, 5]` should return `13`, since we pick `2`, `6`, and `5`. `[5, 1, 1, 5]` should return 10, since we pick `5` and `5`.\n",
    "\n",
    "- Follow-up: Can you do this in `O(N)` time and constant space?"
   ]
  },
  {
   "cell_type": "code",
   "execution_count": 3,
   "metadata": {},
   "outputs": [
    {
     "name": "stdout",
     "output_type": "stream",
     "text": [
      "13\n",
      "10\n"
     ]
    }
   ],
   "source": [
    "def sum_of_nonAdjacent_number(nums):\n",
    "    \n",
    "    incl = 0 # Maximum sum incuding the current number\n",
    "    excl = 0 # Maximum sum excluding the current number\n",
    "    \n",
    "    for num in nums:\n",
    "        # Calsulate the new maximum sum incuding the current number\n",
    "        new_incl = excl + num\n",
    "        # Update the maximum sum excluding the current number\n",
    "        excl = max(incl, excl)\n",
    "        # update the maximum of the final maximum sum incuding and excluding the last number\n",
    "        incl = new_incl\n",
    "    return max(incl, excl)\n",
    "\n",
    "\n",
    "# Example usage:\n",
    "print(sum_of_nonAdjacent_number([2, 4, 6, 2, 5]))  # Output: 13\n",
    "print(sum_of_nonAdjacent_number([5, 1, 1, 5]))     # Output: 10"
   ]
  },
  {
   "cell_type": "markdown",
   "metadata": {},
   "source": [
    "## Logic:\n",
    "- We use dynamic programming to solve this problem efficiently in O(N) time and constant space.\n",
    "- We maintain two variables: incl to represent the maximum sum including the current number, and excl to represent the maximum sum excluding the current number.\n",
    "- We iterate through the list of numbers, and for each number, we update incl and excl accordingly based on the previous values.\n",
    "- At each step, we calculate the new maximum sum including the current number (new_incl) by adding the current number to the previous maximum sum excluding the current number (excl).\n",
    "- We then update excl to be the maximum of the previous incl and excl, and incl to be the new maximum sum including the current number (new_incl).\n",
    "- Finally, we return the maximum of the final incl and excl as the result.\n",
    "\n",
    "## Algorithm:\n",
    "- Initialize incl and excl variables to 0.\n",
    "- Iterate through the list of numbers.\n",
    "- For each number:\n",
    "    - Calculate the new maximum sum including the current number (new_incl) by adding the current number to the previous maximum sum excluding the current number (excl).\n",
    "    - Update excl to be the maximum of the previous incl and excl.\n",
    "    - Update incl to be the new maximum sum including the current number (new_incl).\n",
    "- Return the maximum of the final incl and excl as the result.\n",
    "\n",
    "## Explanation with Example:\n",
    "Let's take the example [2, 4, 6, 2, 5]:\n",
    "- Initially, incl and excl are both 0.\n",
    "- When we encounter the first number 2, incl becomes 2 (2 is the maximum sum including 2) and excl remains 0.\n",
    "- When we encounter the second number 4, new_incl becomes 4 (2 + 2), excl becomes 2 (maximum of 2 and 0), and incl becomes 4.\n",
    "- When we encounter the third number 6, new_incl becomes 8 (2 + 6), excl becomes 4 (maximum of 4 and 2), and incl becomes 8.\n",
    "- When we encounter the fourth number 2, new_incl becomes 6 (4 + 2), excl becomes 8 (maximum of 8 and 4), and incl becomes 6.\n",
    "- When we encounter the fifth number 5, new_incl becomes 13 (8 + 5), excl becomes 8 (maximum of 8 and 6), and incl becomes 13.\n",
    "- Finally, the maximum sum is the maximum of incl and excl, which is 13."
   ]
  },
  {
   "cell_type": "markdown",
   "metadata": {},
   "source": []
  }
 ],
 "metadata": {
  "kernelspec": {
   "display_name": "Python 3",
   "language": "python",
   "name": "python3"
  },
  "language_info": {
   "codemirror_mode": {
    "name": "ipython",
    "version": 3
   },
   "file_extension": ".py",
   "mimetype": "text/x-python",
   "name": "python",
   "nbconvert_exporter": "python",
   "pygments_lexer": "ipython3",
   "version": "3.12.0"
  }
 },
 "nbformat": 4,
 "nbformat_minor": 2
}
