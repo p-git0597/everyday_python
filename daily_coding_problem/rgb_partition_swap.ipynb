{
 "cells": [
  {
   "cell_type": "markdown",
   "metadata": {},
   "source": [
    "## RGB Partition Swap Problem\n",
    "This problem was asked by Google.\n",
    "\n",
    "Given an array of strictly the characters 'R', 'G', and 'B', segregate the values of the array so that all the Rs come first, the Gs come second, and the Bs come last. You can only swap elements of the array.\n",
    "\n",
    "Do this in linear time and in-place.\n",
    "\n",
    "For example, given the array `['G', 'B', 'R', 'R', 'B', 'R', 'G']`, it should become `['R', 'R', 'R', 'G', 'G', 'B', 'B']`.\n"
   ]
  },
  {
   "cell_type": "code",
   "execution_count": 3,
   "metadata": {},
   "outputs": [
    {
     "name": "stdout",
     "output_type": "stream",
     "text": [
      "['R', 'R', 'R', 'G', 'G', 'B', 'B']\n"
     ]
    }
   ],
   "source": [
    "def sort_colors(arr):\n",
    "    # Initialize three pointers: low for 'R', high for 'B', and mid for 'G'\n",
    "    low, mid, high = 0, 0, len(arr) - 1\n",
    "    \n",
    "    while mid <= high:\n",
    "        if arr[mid] == 'R':\n",
    "            # if current element is 'R', swap with element at low pointer and move low and mid pointer s to the right.\n",
    "            arr[low], arr[mid] = arr[mid], arr[low]\n",
    "            low += 1\n",
    "            mid += 1\n",
    "        elif arr[mid] == 'G':\n",
    "            # If the current element is 'G', move mid pointer to the right\n",
    "            mid += 1\n",
    "        else:\n",
    "            # If current element is 'B', swap with element at high pointer and move high pointer to the left\n",
    "            arr[mid], arr[high] = arr[high], arr[mid]\n",
    "            high -= 1\n",
    "    return arr\n",
    "\n",
    "\n",
    "# Example usage\n",
    "arr = ['G', 'B', 'R', 'R', 'B', 'R', 'G']\n",
    "print(sort_colors(arr))"
   ]
  },
  {
   "cell_type": "markdown",
   "metadata": {},
   "source": [
    "Explanation:\n",
    "\n",
    "- We initialize three pointers: low, mid, and high, representing the indices where the next 'R', 'G', and 'B' elements should be placed, respectively.\n",
    "- We iterate through the array while mid is less than or equal to high.\n",
    "- If the current element is 'R', we swap it with the element at the low pointer and increment both low and mid.\n",
    "- If the current element is 'G', we simply increment mid.\n",
    "- If the current element is 'B', we swap it with the element at the high pointer and decrement high.\n",
    "- We repeat this process until mid surpasses high, ensuring that all elements have been correctly partitioned.\n",
    "- Finally, we return the modified array.\n",
    "\n",
    "This solution has a time complexity of O(n), where n is the length of the input array, as it iterates through the array once. It also meets the requirement of sorting the array in-place."
   ]
  },
  {
   "cell_type": "markdown",
   "metadata": {},
   "source": [
    "\n",
    "Certainly! Let's walk through the example array ['G', 'B', 'R', 'R', 'B', 'R', 'G'] step by step to understand how the function sorts it:<br />\n",
    "\n",
    "1. Initialize pointers: low = 0, mid = 0, high = 6 (indices of the first and last elements).<br />\n",
    "\n",
    "2. Start iteration: <br />\n",
    "    - At index mid = 0, we encounter 'G', so we move mid to the right.<br />\n",
    "    - At index mid = 1, we encounter 'B', so we swap it with the element at index high (which is also 'G'), decrement high by 1.<br />\n",
    "        - Array: ['G', 'G', 'R', 'R', 'B', 'R', 'B']<br />\n",
    "    - At index mid = 1 (after the swap), we do not increment mid since the element at index 1 is unknown after the swap.\n",
    "    - Now, we have: low = 0, mid = 1, high = 5.<br />\n",
    "3. Continue iteration:<br />\n",
    "    - At index mid = 1 (after the swap), we encounter 'G', so we move mid to the right.<br />\n",
    "    - At index mid = 2, we encounter 'R', so we swap it with the element at index low (which is also 'G'), increment low and mid.<br />\n",
    "        - Array: ['R', 'G', 'G', 'R', 'B', 'R', 'B']<br />\n",
    "    - Now, we have: low = 1, mid = 3, high = 5.<br />\n",
    "4. Continue iteration:\n",
    "    - At index mid = 3, we encounter 'R', so we move mid to the right. <br />\n",
    "    - At index mid = 4, we encounter 'B', so we swap it with the element at index high (which is 'R'), decrement high.\n",
    "        - Array: ['R', 'G', 'G', 'R', 'B', 'R', 'B']<br />\n",
    "    - Now, we have: low = 1, mid = 4, high = 4.<br />\n",
    "5. Continue iteration:<br />\n",
    "    - At index mid = 4, we encounter 'B', so we move mid to the right.<br />\n",
    "    - Now, mid surpasses high, so we stop the iteration.<br />\n",
    "6. Final array: ['R', 'R', 'R', 'G', 'G', 'B', 'B'].<br />\n",
    "\n",
    "This way, the function segregates the values of the array so that all the 'R's come first, the 'G's come second, and the 'B's come last, meeting the requirements specified in the problem statement."
   ]
  },
  {
   "cell_type": "markdown",
   "metadata": {},
   "source": []
  }
 ],
 "metadata": {
  "kernelspec": {
   "display_name": "Python 3",
   "language": "python",
   "name": "python3"
  },
  "language_info": {
   "codemirror_mode": {
    "name": "ipython",
    "version": 3
   },
   "file_extension": ".py",
   "mimetype": "text/x-python",
   "name": "python",
   "nbconvert_exporter": "python",
   "pygments_lexer": "ipython3",
   "version": "3.12.0"
  }
 },
 "nbformat": 4,
 "nbformat_minor": 2
}
