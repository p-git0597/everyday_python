{
 "cells": [
  {
   "cell_type": "markdown",
   "metadata": {},
   "source": [
    "## Autocomplete System - 11 [Medium]\n",
    "This problem was asked by Twitter.\n",
    "\n",
    "- Implement an autocomplete system. That is, given a query string s and a set of all possible query strings, return all strings in the set that have s as a prefix.\n",
    "\n",
    "- For example, given the query string de and the set of strings [dog, deer, deal], return [deer, deal].\n",
    "\n",
    "- Hint: Try preprocessing the dictionary into a more efficient data structure to speed up queries."
   ]
  },
  {
   "cell_type": "code",
   "execution_count": 6,
   "metadata": {},
   "outputs": [],
   "source": [
    "class TrieNode:\n",
    "    def __init__(self):\n",
    "        self.children = {}\n",
    "        self.is_end_of_word = False\n",
    "        \n",
    "class Trie:\n",
    "    def __init__(self):\n",
    "        self.root = TrieNode()\n",
    "        \n",
    "    def insert(self, word):\n",
    "        node = self.root\n",
    "        \n",
    "        for char in word:\n",
    "            if char not in node.children:\n",
    "                node.children[char] = TrieNode()\n",
    "            node = node.children[char]\n",
    "        node.is_end_of_word = True\n",
    "        \n",
    "    def search_prefix(self, prefix):\n",
    "        node = self.root\n",
    "        result = []\n",
    "        \n",
    "        for char in prefix:\n",
    "            if char not in node.children:\n",
    "                return result\n",
    "            \n",
    "            node = node.children[char]\n",
    "        self._collect_words(node, prefix, result)\n",
    "        return result\n",
    "    \n",
    "    def _collect_words(self, node, prefix, result):\n",
    "        if node.is_end_of_word:\n",
    "            result.append(prefix)\n",
    "        for char, child in node.children.items():\n",
    "            self._collect_words(child, prefix + char, result)\n",
    "    \n",
    "    def autocomplete(self, words, query):\n",
    "        for word in words:\n",
    "            self.insert(word)\n",
    "        return self.search_prefix(query)\n"
   ]
  },
  {
   "cell_type": "code",
   "execution_count": 7,
   "metadata": {},
   "outputs": [
    {
     "name": "stdout",
     "output_type": "stream",
     "text": [
      "['deer', 'deal']\n"
     ]
    }
   ],
   "source": [
    "words = [\"dog\", \"deer\", \"deal\"]\n",
    "query = \"de\"\n",
    "trie = Trie()\n",
    "print(trie.autocomplete(words, query))  # Output: ['deer', 'deal']"
   ]
  },
  {
   "cell_type": "markdown",
   "metadata": {},
   "source": [
    "Explanation:\n",
    "\n",
    "- `TrieNode` class: This class represents a node in the trie data structure. Each node has a dictionary `children` to store the references to its child nodes, and a boolean `is_end_of_word` to indicate if the node represents the end of a word.\n",
    "- `insert` function: This function inserts a word into the trie. It traverses the trie one character at a time, creating new nodes as needed.\n",
    "- `search_prefix` function: This function searches for all words in the trie that have the given prefix. It traverses the trie following the characters in the prefix and collects all words starting from that prefix.\n",
    "- `_collect_words` function: This is a helper function used by `search_prefix` to collect words starting from a given node.\n",
    "- `autocomplete` function: This is the main function that implements the autocomplete system. It creates a trie, inserts all words from the input set `words` into the trie, and then searches for words with the given prefix `query`."
   ]
  }
 ],
 "metadata": {
  "kernelspec": {
   "display_name": "Python 3",
   "language": "python",
   "name": "python3"
  },
  "language_info": {
   "codemirror_mode": {
    "name": "ipython",
    "version": 3
   },
   "file_extension": ".py",
   "mimetype": "text/x-python",
   "name": "python",
   "nbconvert_exporter": "python",
   "pygments_lexer": "ipython3",
   "version": "3.12.0"
  }
 },
 "nbformat": 4,
 "nbformat_minor": 2
}
