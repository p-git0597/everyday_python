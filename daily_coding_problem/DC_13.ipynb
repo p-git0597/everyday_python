{
 "cells": [
  {
   "cell_type": "markdown",
   "metadata": {},
   "source": [
    "### Longest Substring with At Most K Distinct Characters\n",
    "\n",
    "This problem was asked by Amazon.\n",
    "\n",
    "Given an integer k and a string s, find the length of the longest substring that contains at most k distinct characters.\n",
    "\n",
    "For example, given s = \"abcba\" and k = 2, the longest substring with k distinct characters is \"bcb\"."
   ]
  },
  {
   "cell_type": "code",
   "execution_count": 1,
   "metadata": {},
   "outputs": [],
   "source": [
    "# pattern Sliding window\n",
    "\n",
    "def longest_substring_k_distinct_char(s:str, k:int) -> int:\n",
    "    \n",
    "    if k == 0 or not s:\n",
    "        return 0\n",
    "    \n",
    "    char_count ={}\n",
    "    left = 0\n",
    "    max_length = 0\n",
    "    \n",
    "    for right in range(len(s)):\n",
    "        char_count[s[right]] = char_count.get(s[right], 0) + 1\n",
    "        \n",
    "        while len(char_count) > k:\n",
    "            char_count[s[left]] -= 1\n",
    "            if char_count[s[left]] == 0:\n",
    "                del char_count[s[left]]\n",
    "            left += 1\n",
    "        max_length = max(max_length, right - left + 1)\n",
    "    return max_length\n"
   ]
  },
  {
   "cell_type": "code",
   "execution_count": 2,
   "metadata": {},
   "outputs": [
    {
     "name": "stdout",
     "output_type": "stream",
     "text": [
      "3\n"
     ]
    }
   ],
   "source": [
    "s = \"abcba\"\n",
    "k = 2\n",
    "print(longest_substring_k_distinct_char(s, k))"
   ]
  },
  {
   "cell_type": "markdown",
   "metadata": {},
   "source": [
    "This problem is solved using the Sliding Window algorithm pattern, which helps optimize problems involving contiguous subarrays or substrings.\n",
    "\n",
    "1. Initialize Variables\n",
    "- char_count: A dictionary to track character frequencies.\n",
    "- left: The left pointer of the sliding window.\n",
    "- max_length: To store the maximum length of a valid substring.\n",
    "\n",
    "2. Expand the Right Pointer\n",
    "- We iterate through the string and expand the window by adding s[right] to char_count.\n",
    "- If the number of distinct characters exceeds k, we move left to shrink the window until we have at most k distinct characters.\n",
    "\n",
    "3. Shrink the Left Pointer When Needed\n",
    "- If char_count exceeds k, we decrement the count of s[left].\n",
    "- If s[left] frequency reaches 0, remove it from char_count and increment left.\n",
    "\n",
    "4. Update Maximum Length\n",
    "- Each time we get a valid substring (with ≤ k distinct characters), update max_length."
   ]
  }
 ],
 "metadata": {
  "kernelspec": {
   "display_name": "Python 3",
   "language": "python",
   "name": "python3"
  },
  "language_info": {
   "codemirror_mode": {
    "name": "ipython",
    "version": 3
   },
   "file_extension": ".py",
   "mimetype": "text/x-python",
   "name": "python",
   "nbconvert_exporter": "python",
   "pygments_lexer": "ipython3",
   "version": "3.12.0"
  }
 },
 "nbformat": 4,
 "nbformat_minor": 2
}
