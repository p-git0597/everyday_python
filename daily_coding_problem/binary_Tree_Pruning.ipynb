{
 "cells": [
  {
   "cell_type": "markdown",
   "metadata": {},
   "source": [
    "### Binary Tree Pruning:\n",
    "This question was asked by `BufferBox`.\n",
    "Given a binary tree where all nodes are either 0 or 1, prune the tree so that subtrees containing all 0s are removed.\n",
    "date: feb/02/25\n",
    "For example, given the following tree:\n",
    "```\n",
    "   0\n",
    "  / \\\n",
    " 1   0\n",
    "    / \\\n",
    "   1   0\n",
    "  / \\\n",
    " 0   0\n",
    "should be pruned to:\n",
    "\n",
    "   0\n",
    "  / \\\n",
    " 1   0\n",
    "    /\n",
    "   1\n",
    "```\n",
    "We do not remove the tree at the root or its left child because it still has a 1 as a descendant."
   ]
  },
  {
   "cell_type": "code",
   "execution_count": 2,
   "metadata": {},
   "outputs": [],
   "source": [
    "class TreeNode():\n",
    "    def __init__(self, val = 0, left = None, right =None):\n",
    "        self.val = val\n",
    "        self.left = left\n",
    "        self.right = right\n",
    "\n",
    "def prune_tree(root):\n",
    "    # Helper function to check if a subtree contains any 1\n",
    "    def contains_one(node):\n",
    "        if not node:\n",
    "            return False\n",
    "        \n",
    "        # Here it recursively checks left and right subtrees        \n",
    "        left_has_one = contains_one(node.left)\n",
    "        right_has_one = contains_one(node.right)\n",
    "        # If the left or right subtree has a 1, set the corresponding child\n",
    "        # Otherwise, prune the subtree by setting it to None\n",
    "        if not left_has_one:\n",
    "            node.left = None\n",
    "        if not right_has_one:\n",
    "            node.right = None\n",
    "            \n",
    "        # Return True if tthe current node or any descendents has a 1.\n",
    "        return node.val == 1 or left_has_one or right_has_one\n",
    "    # check if the root itself or any of it's descendents has a 1.\n",
    "    contains_one(root)\n",
    "    \n",
    "    # Return the Pruned tree\n",
    "    return root"
   ]
  },
  {
   "cell_type": "code",
   "execution_count": 3,
   "metadata": {},
   "outputs": [
    {
     "name": "stdout",
     "output_type": "stream",
     "text": [
      "0\n",
      "1\n",
      "0\n",
      "1\n",
      "None\n"
     ]
    }
   ],
   "source": [
    "# Example tree\n",
    "example_tree = TreeNode(0,\n",
    "                        TreeNode(1),\n",
    "                        TreeNode(0,\n",
    "                                 TreeNode(1, TreeNode(0), TreeNode(0)),\n",
    "                                 TreeNode(0)))\n",
    "\n",
    "# Prune the tree\n",
    "pruned_tree = prune_tree(example_tree)\n",
    "\n",
    "# Print the pruned tree\n",
    "print(pruned_tree.val)\n",
    "print(pruned_tree.left.val)\n",
    "print(pruned_tree.right.val)\n",
    "print(pruned_tree.right.left.val)\n",
    "print(pruned_tree.right.right)  # This will be None\n"
   ]
  }
 ],
 "metadata": {
  "kernelspec": {
   "display_name": "Python 3",
   "language": "python",
   "name": "python3"
  },
  "language_info": {
   "codemirror_mode": {
    "name": "ipython",
    "version": 3
   },
   "file_extension": ".py",
   "mimetype": "text/x-python",
   "name": "python",
   "nbconvert_exporter": "python",
   "pygments_lexer": "ipython3",
   "version": "3.12.0"
  }
 },
 "nbformat": 4,
 "nbformat_minor": 2
}
