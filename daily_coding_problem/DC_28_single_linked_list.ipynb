{
 "cells": [
  {
   "cell_type": "markdown",
   "metadata": {},
   "source": [
    "### Removing the k-th Last Element from a Singly Linked List in One Pass\n",
    "\n",
    "This problem was asked by Google.\n",
    "\n",
    "Given a singly linked list and an integer k, remove the kth last element from the list. k is guaranteed to be smaller than the length of the list.\n",
    "\n",
    "The list is very long, so making more than one pass is prohibitively expensive.\n",
    "Do this in constant space and in one pass."
   ]
  },
  {
   "cell_type": "markdown",
   "metadata": {},
   "source": [
    "Since we are constrained to one pass and constant space, we cannot use extra data structures like arrays or recursion to store node references. The best approach is to use two pointers.\n",
    "\n",
    "Step-by-Step Explanation\n",
    "1. Use Two Pointers (first and second)\n",
    "\n",
    "- Start both pointers at the head of the list.\n",
    "- Move first k steps ahead in the list.\n",
    "- This ensures that when first reaches the end, second will be right before the node to be removed.\n",
    "\n",
    "2. Move Both Pointers Until first Reaches the End\n",
    "\n",
    " - Move both pointers one step at a time.\n",
    "- By the time first reaches the end, second will be at the (k+1)-th last node (right before the node we need to remove).\n",
    "\n",
    "3. Remove the k-th Last Node\n",
    "\n",
    "- Update second.next to second.next.next to remove the target node."
   ]
  },
  {
   "cell_type": "code",
   "execution_count": 1,
   "metadata": {},
   "outputs": [],
   "source": [
    "class ListNode:\n",
    "    def __init__(self, val = 0, next = None):\n",
    "        self.val = val\n",
    "        self.next = next\n",
    "        \n",
    "def remove_kth_last(head, k):\n",
    "    dummy = ListNode(0)  #dummy node to handle edgecase\n",
    "    dummy.next = head\n",
    "    first = second = dummy\n",
    "    \n",
    "    # step 1: move first k+1 steps ahead\n",
    "    for _ in range(k+1):\n",
    "        first = first.next\n",
    "        \n",
    "    # Step 2: Move first and second until first reaches the end      \n",
    "    while first:\n",
    "        first = first.next\n",
    "        second  = second.next\n",
    "        \n",
    "    # Step 3: Remove k-th last element    \n",
    "    second.next = second.next.next\n",
    "    \n",
    "    return dummy.next"
   ]
  },
  {
   "cell_type": "code",
   "execution_count": 4,
   "metadata": {},
   "outputs": [],
   "source": [
    "head = ListNode(1, ListNode(2, ListNode(3, ListNode(4, ListNode(5)))))\n",
    "\n",
    "new_head = remove_kth_last(head, 2)\n"
   ]
  },
  {
   "cell_type": "code",
   "execution_count": null,
   "metadata": {},
   "outputs": [],
   "source": []
  }
 ],
 "metadata": {
  "kernelspec": {
   "display_name": "Python 3",
   "language": "python",
   "name": "python3"
  },
  "language_info": {
   "codemirror_mode": {
    "name": "ipython",
    "version": 3
   },
   "file_extension": ".py",
   "mimetype": "text/x-python",
   "name": "python",
   "nbconvert_exporter": "python",
   "pygments_lexer": "ipython3",
   "version": "3.12.0"
  }
 },
 "nbformat": 4,
 "nbformat_minor": 2
}
