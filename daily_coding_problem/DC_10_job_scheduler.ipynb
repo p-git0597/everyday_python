{
 "cells": [
  {
   "cell_type": "markdown",
   "metadata": {},
   "source": [
    "## Millisecond Job Scheduler - 10 [Medium]\n",
    "\n",
    "- This problem was asked by Apple.\n",
    "\n",
    "- Implement a job scheduler which takes in a function f and an integer n, and calls f after n milliseconds."
   ]
  },
  {
   "cell_type": "code",
   "execution_count": 2,
   "metadata": {},
   "outputs": [
    {
     "name": "stdout",
     "output_type": "stream",
     "text": [
      "Function called after 3000 milliseconds\n"
     ]
    }
   ],
   "source": [
    "import time\n",
    "import threading\n",
    "def job_scheduler(f, n):\n",
    "    def delayed_call():\n",
    "        time.sleep(n / 1000) # convert milliseconds to seconds\n",
    "        f()\n",
    "\n",
    "    t = threading.Thread(target = delayed_call)\n",
    "    t.start()\n",
    "    \n",
    "def example_fun():\n",
    "    print(\"Function called after 3000 milliseconds\")\n",
    "    \n",
    "job_scheduler(example_fun, 3000)"
   ]
  },
  {
   "cell_type": "markdown",
   "metadata": {},
   "source": [
    "Logic:\n",
    "\n",
    "- We define a job_scheduler function that takes a function f and an integer n representing the number of milliseconds to wait before calling f.\n",
    "- Inside the job_scheduler function, we define a nested function delayed_call which will be responsible for calling f after n milliseconds.\n",
    "- We use the time.sleep function to pause the execution of the thread for n / 1000 seconds (to convert milliseconds to seconds) before calling f.\n",
    "- We create a new thread using the threading.Thread class, passing delayed_call as the target function.\n",
    "- We start the thread using the start method.- "
   ]
  }
 ],
 "metadata": {
  "kernelspec": {
   "display_name": "Python 3",
   "language": "python",
   "name": "python3"
  },
  "language_info": {
   "codemirror_mode": {
    "name": "ipython",
    "version": 3
   },
   "file_extension": ".py",
   "mimetype": "text/x-python",
   "name": "python",
   "nbconvert_exporter": "python",
   "pygments_lexer": "ipython3",
   "version": "3.12.0"
  }
 },
 "nbformat": 4,
 "nbformat_minor": 2
}
