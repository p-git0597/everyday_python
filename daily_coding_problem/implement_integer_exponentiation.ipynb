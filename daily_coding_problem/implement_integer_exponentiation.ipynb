{
 "cells": [
  {
   "cell_type": "markdown",
   "metadata": {},
   "source": [
    "## Implement integer exponentiation.\n",
    "This problem was asked by Google.\n",
    "\n",
    "Implement integer exponentiation. That is, implement the pow(x, y) function, where x and y are integers and returns x^y.\n",
    "Do this faster than the naive method of repeated multiplication.\n",
    "For example, pow(2, 10) should return 1024."
   ]
  },
  {
   "cell_type": "code",
   "execution_count": 5,
   "metadata": {},
   "outputs": [
    {
     "name": "stdout",
     "output_type": "stream",
     "text": [
      "1024\n"
     ]
    },
    {
     "data": {
      "text/plain": [
       "64"
      ]
     },
     "execution_count": 5,
     "metadata": {},
     "output_type": "execute_result"
    }
   ],
   "source": [
    "def pow(n, m):\n",
    "    return n**m\n",
    "\n",
    "print(pow(2, 10))\n",
    "pow(4, 3)"
   ]
  },
  {
   "cell_type": "markdown",
   "metadata": {},
   "source": [
    "For above solution:- Using the `**` operator is a concise and efficient way to calculate exponentiation in Python.However, the question also mentions doing this \"faster than the naive method of repeated multiplication.\" The above solution using ** is likely more efficient than the naive method, especially for larger exponents, but it does not explicitly demonstrate the use of more efficient algorithms like binary exponentiation.\n",
    "\n",
    "You can implement integer exponentiation more efficiently using the binary exponentiation technique. This approach reduces the number of multiplication operations required compared to the naive method of repeated multiplication."
   ]
  },
  {
   "cell_type": "code",
   "execution_count": 7,
   "metadata": {},
   "outputs": [
    {
     "name": "stdout",
     "output_type": "stream",
     "text": [
      "32\n",
      "0.125\n",
      "0.1111111111111111\n"
     ]
    }
   ],
   "source": [
    "# binary exponentiation technique. \n",
    "\n",
    "def pow(x,y):\n",
    "    result = 1\n",
    "    \n",
    "    # Handle negative exponents\n",
    "    if y < 0:\n",
    "        x = 1/x\n",
    "        y = -y\n",
    "        \n",
    "    # binary exponentiation algorithm\n",
    "    while y > 0:\n",
    "        if y % 2 == 1:\n",
    "            result *= x\n",
    "        x *= x\n",
    "        y //= 2\n",
    "    return result\n",
    "\n",
    "# Example\n",
    "print(pow(2, 5))\n",
    "print(pow(2, -3))\n",
    "print(pow(3, -2)) \n"
   ]
  },
  {
   "cell_type": "markdown",
   "metadata": {},
   "source": [
    "### Explanation:\n",
    "\n",
    "1. Initialize result to 1.\n",
    "2. If y is negative, handle it by making x the reciprocal of itself and making y positive.\n",
    "3. Iterate through each bit of y using binary exponentiation algorithm:\n",
    "    1. If the least significant bit of y is 1, multiply result by x.\n",
    "    2. Square x.\n",
    "    3. Shift y to the right (equivalent to integer division by 2).\n",
    "4. Return the final result.\n",
    "\n",
    "```\n",
    "print(pow(2, -3))  # Output: 0.125 (which is 1 / 2^3)\n",
    "print(pow(3, -2))  # Output: 0.1111111111111111 (which is approximately 1 / 3^2)\n",
    "```\n",
    "In these examples, `pow(2, -3)` calculates `2` raised to the power `-3`, which is equivalent to `1 / 2^3 (or 1 / 8)`, resulting in `0.125`. Similarly, `pow(3, -2)` calculates `3` raised to the power `-2`, which is equivalent to `1 / 3^2 (or 1 / 9)`, resulting in `0.1111111111111111`."
   ]
  }
 ],
 "metadata": {
  "kernelspec": {
   "display_name": "Python 3",
   "language": "python",
   "name": "python3"
  },
  "language_info": {
   "codemirror_mode": {
    "name": "ipython",
    "version": 3
   },
   "file_extension": ".py",
   "mimetype": "text/x-python",
   "name": "python",
   "nbconvert_exporter": "python",
   "pygments_lexer": "ipython3",
   "version": "3.12.0"
  }
 },
 "nbformat": 4,
 "nbformat_minor": 2
}
