{
 "cells": [
  {
   "cell_type": "markdown",
   "metadata": {},
   "source": [
    "####  Longest Absolute Path in File System\n",
    "\n",
    "This problem was asked by Google.\n",
    "\n",
    "Suppose we represent our file system by a string in the following manner:\n",
    "\n",
    "The string \"dir\\n\\tsubdir1\\n\\tsubdir2\\n\\t\\tfile.ext\" represents:\n",
    "\n",
    "dir\n",
    "    subdir1\n",
    "    subdir2\n",
    "        file.ext\n",
    "The directory dir contains an empty sub-directory subdir1 and a sub-directory subdir2 containing a file file.ext.\n",
    "\n",
    "The string \"dir\\n\\tsubdir1\\n\\t\\tfile1.ext\\n\\t\\tsubsubdir1\\n\\tsubdir2\\n\\t\\tsubsubdir2\\n\\t\\t\\tfile2.ext\" represents:\n",
    "\n",
    "dir\n",
    "    subdir1\n",
    "        file1.ext\n",
    "        subsubdir1\n",
    "    subdir2\n",
    "        subsubdir2\n",
    "            file2.ext\n",
    "The directory dir contains two sub-directories subdir1 and subdir2. subdir1 contains a file file1.ext and an empty second-level sub-directory subsubdir1. subdir2 contains a second-level sub-directory subsubdir2 containing a file file2.ext.\n",
    "\n",
    "We are interested in finding the longest (number of characters) absolute path to a file within our file system. For example, in the second example above, the longest absolute path is \"dir/subdir2/subsubdir2/file2.ext\", and its length is 32 (not including the double quotes).\n",
    "\n",
    "Given a string representing the file system in the above format, return the length of the longest absolute path to a file in the abstracted file system. If there is no file in the system, return 0.\n",
    "\n",
    "Note:\n",
    "\n",
    "The name of a file contains at least a period and an extension.\n",
    "\n",
    "The name of a directory or sub-directory will not contain a period."
   ]
  },
  {
   "cell_type": "markdown",
   "metadata": {},
   "source": [
    "- Solution Approach:\n",
    "\n",
    "We will use a Stack + Depth Tracking approach to efficiently parse the input string and find the longest absolute path to a file.\n",
    "\n",
    "- Understanding the Input Format\n",
    "\n",
    "The given input string represents a file system using:\n",
    "\n",
    "\\n → Newline (indicates a new file or directory)\n",
    "\\t → Tabs (indicate depth or hierarchy)"
   ]
  },
  {
   "cell_type": "markdown",
   "metadata": {},
   "source": [
    "Solution Strategy\n",
    "- Split the Input → Use \\n to get lines.\n",
    "- Track Depth → Count \\t at the beginning of each line to determine depth.\n",
    "- Use a Stack → Store cumulative path lengths at each level.\n",
    "- Check for Files → If a file (contains .), update max length.\n"
   ]
  },
  {
   "cell_type": "code",
   "execution_count": 7,
   "metadata": {},
   "outputs": [],
   "source": [
    "def absolute_file_path(input: str)-> int:\n",
    "    max_length = 0\n",
    "    path_length ={0:0} # Dictionary to store cumulative path lengths at each depth\n",
    "    \n",
    "    for line in input.split(\"\\n\"):\n",
    "        depth = line.count(\"\\t\")  # Count tabs to determine depth\n",
    "        print(depth)\n",
    "        name = line.lstrip(\"\\t\")  # Remove leading tabs to get name\n",
    "        print(name)\n",
    "        if '.' in name: # It's a file\n",
    "            max_length = max(max_length, path_length[depth] + len(name))\n",
    "        else: # It's a directory\n",
    "            path_length[depth + 1] = path_length[depth] + len(name) + 1 # Add '/' for directories\n",
    "\n",
    "    return max_length\n",
    "\n"
   ]
  },
  {
   "cell_type": "code",
   "execution_count": 9,
   "metadata": {},
   "outputs": [
    {
     "name": "stdout",
     "output_type": "stream",
     "text": [
      "0\n",
      "dir\n",
      "1\n",
      "subdir1\n",
      "2\n",
      "file1.ext\n",
      "2\n",
      "subsubdir1\n",
      "1\n",
      "subdir2\n",
      "2\n",
      "subsubdir2\n",
      "3\n",
      "file2.ext\n",
      "32\n"
     ]
    }
   ],
   "source": [
    "# Example Usage\n",
    "input_str = \"dir\\n\\tsubdir1\\n\\t\\tfile1.ext\\n\\t\\tsubsubdir1\\n\\tsubdir2\\n\\t\\tsubsubdir2\\n\\t\\t\\tfile2.ext\"\n",
    "print(absolute_file_path(input_str))  # Output: 32"
   ]
  }
 ],
 "metadata": {
  "kernelspec": {
   "display_name": "Python 3",
   "language": "python",
   "name": "python3"
  },
  "language_info": {
   "codemirror_mode": {
    "name": "ipython",
    "version": 3
   },
   "file_extension": ".py",
   "mimetype": "text/x-python",
   "name": "python",
   "nbconvert_exporter": "python",
   "pygments_lexer": "ipython3",
   "version": "3.12.0"
  }
 },
 "nbformat": 4,
 "nbformat_minor": 2
}
