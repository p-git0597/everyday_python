{
 "cells": [
  {
   "cell_type": "markdown",
   "metadata": {},
   "source": [
    "## Finding the First Missing Positive Integer\n",
    "\n",
    "This problem was asked by Stripe. Problem #4 [Hard]\n",
    "\n",
    "- Given an array of integers, find the first missing positive integer in linear time and constant space. In other words, find the lowest positive integer that does not exist in the array. The array can contain duplicates and negative numbers as well.\n",
    "- For example, the input `[3, 4, -1, 1]`should give `2`. The input `[1, 2, 0]` should give `3`.\n",
    "You can modify the input array in-place."
   ]
  },
  {
   "cell_type": "code",
   "execution_count": 1,
   "metadata": {},
   "outputs": [
    {
     "name": "stdout",
     "output_type": "stream",
     "text": [
      "2\n",
      "3\n"
     ]
    }
   ],
   "source": [
    "def first_missing_integer(nums):\n",
    "    n = len(nums)\n",
    "    \n",
    "    # Step 1: Transform the Array\n",
    "    for i in range(n):\n",
    "        while 1 <= nums[i] <= n and nums[nums[i] - 1] != nums[i]:\n",
    "            nums[nums[i] - 1], nums[i] = nums[i], nums[nums[i] - 1]\n",
    "            \n",
    "    # Step 2: Finding the missing positive Integer\n",
    "    for i in range(n):\n",
    "        if nums[i] != i+1:\n",
    "            return i + 1\n",
    "    \n",
    "    return n + 1\n",
    "\n",
    "# Test cases\n",
    "print(first_missing_integer([3, 4, -1, 1]))  # Output: 2\n",
    "print(first_missing_integer([1, 2, 0]))      # Output: 3"
   ]
  },
  {
   "cell_type": "markdown",
   "metadata": {},
   "source": [
    "To solve this problem efficiently in linear time and constant space, we can use a technique called \"indexing\" or \"bucketing\". Here's the logic:\n",
    "\n",
    "1. Transforming the Array:\n",
    "- We iterate through the array and move each positive integer to its correct position.\n",
    "- For example, the number 3 should be moved to index 2 (since indices are zero-based).\n",
    "- We'll ignore non-positive integers and integers greater than the size of the array.\n",
    "\n",
    "2. Finding the Missing Positive Integer:\n",
    "- After transforming the array, we traverse it again to find the first index where the value doesn't match its index.\n",
    "- The index of the first mismatch plus one is the lowest missing positive integer.\n",
    "- If no such mismatch is found, then the missing integer is one greater than the size of the array.\n",
    "\n",
    "1. Step 1: Transform the Array\n",
    "- Iterate through the array.\n",
    "- For each positive integer encountered, say num, if num <= len(array) and array[num - 1] != num, swap num with array[num - 1].\n",
    "- Continue this process until all positive integers are in their correct positions.\n",
    "\n",
    "2. Step 2: Find the Missing Positive Integer\n",
    "- Traverse the array again.\n",
    "- For each index i, if array[i] != i + 1, then i + 1 is the missing positive integer.\n",
    "- If no such mismatch is found, then the missing integer is len(array) + 1.\n",
    "This approach guarantees linear time complexity and constant space complexity since it modifies the input array in place.\n"
   ]
  },
  {
   "cell_type": "markdown",
   "metadata": {},
   "source": [
    "Given the input array: [3, 4, -1, 1]\n",
    "\n",
    "1. Identify the Goal:\n",
    "- We need to find the lowest positive integer that does not exist in the array.\n",
    "\n",
    "2. Remove Negative Numbers and Zero:\n",
    "- Since we're only interested in positive integers, we'll remove any negative numbers and zero from the array.\n",
    "- After removing negative numbers and zero, the array becomes: [3, 4, 1].\n",
    "\n",
    "3. Reposition Elements:\n",
    "- We'll reposition each element to its corresponding index if possible. For example, if we have the number 3, we'll place it at index 2 (3-1) in the array.\n",
    "- We'll iterate through the array, and for each positive integer num, if num is less than or equal to the array length and not already in its correct position, we'll swap num with the element at index num - 1.\n",
    "- After repositioning, the array becomes: [1, 3, 4].\n",
    "\n",
    "4. Find the First Missing Positive Integer:\n",
    "- Now, we'll iterate through the array again to find the first missing positive integer.\n",
    "- The missing positive integer is the first index i such that nums[i] != i + 1.\n",
    "- In our example, we'll iterate through the array and find that nums[1] != 1 + 1, so the missing positive integer is 2.\n",
    "\n",
    "5. Handle Edge Cases:\n",
    "- If the array is empty or does not contain any positive integers, the lowest missing positive integer would be 1."
   ]
  }
 ],
 "metadata": {
  "kernelspec": {
   "display_name": "Python 3",
   "language": "python",
   "name": "python3"
  },
  "language_info": {
   "codemirror_mode": {
    "name": "ipython",
    "version": 3
   },
   "file_extension": ".py",
   "mimetype": "text/x-python",
   "name": "python",
   "nbconvert_exporter": "python",
   "pygments_lexer": "ipython3",
   "version": "3.12.0"
  }
 },
 "nbformat": 4,
 "nbformat_minor": 2
}
