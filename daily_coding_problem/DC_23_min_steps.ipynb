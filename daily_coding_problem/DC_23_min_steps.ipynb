{
 "cells": [
  {
   "cell_type": "markdown",
   "metadata": {},
   "source": [
    "# find the minimum number of steps to reach the end coordinate from the start coordinate while moving in the four cardinal directions\n",
    "\n",
    "This problem was asked by Google.\n",
    "\n",
    "You are given an M by N matrix consisting of booleans that represents a board. Each True boolean represents a wall. Each False boolean represents a tile you can walk on.\n",
    "\n",
    "Given this matrix, a start coordinate, and an end coordinate, return the minimum number of steps required to reach the end coordinate from the start. If there is no possible path, then return null. You can move up, left, down, and right. You cannot move through walls. You cannot wrap around the edges of the board.\n",
    "\n",
    "For example, given the following board:\n",
    "\n",
    "[[f, f, f, f],\n",
    "\n",
    "[t, t, f, t],\n",
    "\n",
    "[f, f, f, f],\n",
    "\n",
    "[f, f, f, f]]\n",
    "and start = (3, 0) (bottom left) and end = (0, 0) (top left), the minimum number of steps required to reach the end is 7, since we would need to go through (1, 2) because there is a wall everywhere else on the second row."
   ]
  },
  {
   "cell_type": "code",
   "execution_count": 1,
   "metadata": {},
   "outputs": [],
   "source": [
    "def min_steps(board, start, end):\n",
    "\n",
    "    if start == end:\n",
    "        return 0\n",
    "    \n",
    "    directions = [(-1, 0), (1, 0), (0, -1), (0, 1)]\n",
    "    \n",
    "    queue = [(start[0], start[1], 0)]\n",
    "    \n",
    "    visited = set()\n",
    "    visited.add(start)\n",
    "    \n",
    "    while queue:\n",
    "        x, y, steps = queue.pop(0) # Remove the first element in the queue\n",
    "        \n",
    "        for dx, dy in directions:\n",
    "            nx, ny = x + dx, y + dy\n",
    "            \n",
    "            if 0 <= nx < len(board) and 0 <= ny < len(board[0]) and board[nx][ny] ==False:\n",
    "                \n",
    "                if (nx, ny) ==end:\n",
    "                    return steps + 1\n",
    "                \n",
    "                if (nx, ny) not in visited:\n",
    "                    visited.add((nx, ny))\n",
    "                    queue.append((nx, ny, steps + 1))\n",
    "    return None\n",
    "            "
   ]
  },
  {
   "cell_type": "code",
   "execution_count": 2,
   "metadata": {},
   "outputs": [
    {
     "name": "stdout",
     "output_type": "stream",
     "text": [
      "7\n"
     ]
    }
   ],
   "source": [
    "# Example usage:\n",
    "board = [\n",
    "    [False, False, False, False],\n",
    "    [True, True, False, True],\n",
    "    [False, False, False, False],\n",
    "    [False, False, False, False]\n",
    "]\n",
    "start = (3, 0)  # (bottom-left)\n",
    "end = (0, 0)    # (top-left)\n",
    "print(min_steps(board, start, end))  # Output: 7"
   ]
  },
  {
   "cell_type": "code",
   "execution_count": null,
   "metadata": {},
   "outputs": [],
   "source": []
  }
 ],
 "metadata": {
  "kernelspec": {
   "display_name": "Python 3",
   "language": "python",
   "name": "python3"
  },
  "language_info": {
   "codemirror_mode": {
    "name": "ipython",
    "version": 3
   },
   "file_extension": ".py",
   "mimetype": "text/x-python",
   "name": "python",
   "nbconvert_exporter": "python",
   "pygments_lexer": "ipython3",
   "version": "3.12.0"
  }
 },
 "nbformat": 4,
 "nbformat_minor": 2
}
