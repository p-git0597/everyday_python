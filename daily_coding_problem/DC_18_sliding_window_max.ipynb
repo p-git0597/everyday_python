{
 "cells": [
  {
   "cell_type": "markdown",
   "metadata": {},
   "source": [
    "### Sliding Window Maximum in O(N) Time\n",
    "\n",
    "This problem was asked by Google.\n",
    "\n",
    "Given an array of integers and a number k, where 1 <= k <= length of the array, compute the maximum values of each subarray of length k.\n",
    "\n",
    "For example, given array = [10, 5, 2, 7, 8, 7] and k = 3, we should get: [10, 7, 8, 8], since:\n",
    "\n",
    "10 = max(10, 5, 2)\n",
    "\n",
    "7 = max(5, 2, 7)\n",
    "\n",
    "8 = max(2, 7, 8)\n",
    "\n",
    "8 = max(7, 8, 7)\n",
    "\n",
    "Do this in O(n) time and O(k) space. You can modify the input array in-place and you do not need to store the results. You can simply print them out as you compute them."
   ]
  },
  {
   "cell_type": "code",
   "execution_count": 9,
   "metadata": {},
   "outputs": [],
   "source": [
    "def max_val_in_subarray(k, arr):\n",
    "    n = len(arr)\n",
    "    if not arr or k ==0:\n",
    "        return \n",
    "    max_val = []\n",
    "    \n",
    "    for i in range(n):\n",
    "        # removing elements if they are out of current range\n",
    "        if max_val and max_val[0] < i - k + 1:\n",
    "            max_val.pop(0)\n",
    "        \n",
    "        # remove all elements smaller than the current element from the back\n",
    "        while max_val and arr[max_val[-1]] < arr[i]:\n",
    "            max_val.pop()\n",
    "        \n",
    "        # add the elements to max_val\n",
    "        max_val.append(i)\n",
    "\n",
    "        # Print the max element when we reach a valid window size\n",
    "        if i >= k - 1:\n",
    "            print(arr[max_val[0]])\n",
    "\n",
    "    "
   ]
  },
  {
   "cell_type": "code",
   "execution_count": 11,
   "metadata": {},
   "outputs": [
    {
     "name": "stdout",
     "output_type": "stream",
     "text": [
      "Sliding window maximum:\n",
      "10\n",
      "7\n",
      "8\n",
      "8\n",
      "Sliding window maximum:\n",
      "3\n",
      "4\n",
      "4\n",
      "5\n"
     ]
    }
   ],
   "source": [
    "\n",
    "def main():\n",
    "    print(\"Sliding window maximum:\")\n",
    "    max_val_in_subarray(3, [10, 5, 2, 7, 8, 7])  # Output: 10, 7, 8, 8\n",
    "    print(\"Sliding window maximum:\")\n",
    "    max_val_in_subarray(2, [2, 3, 4, 1, 5])  # Output: 3, 4, 4, 5\n",
    "main()"
   ]
  },
  {
   "cell_type": "code",
   "execution_count": null,
   "metadata": {},
   "outputs": [],
   "source": []
  }
 ],
 "metadata": {
  "kernelspec": {
   "display_name": "Python 3",
   "language": "python",
   "name": "python3"
  },
  "language_info": {
   "codemirror_mode": {
    "name": "ipython",
    "version": 3
   },
   "file_extension": ".py",
   "mimetype": "text/x-python",
   "name": "python",
   "nbconvert_exporter": "python",
   "pygments_lexer": "ipython3",
   "version": "3.12.0"
  }
 },
 "nbformat": 4,
 "nbformat_minor": 2
}
