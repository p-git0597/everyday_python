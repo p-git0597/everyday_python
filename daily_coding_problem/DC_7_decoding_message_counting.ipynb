{
 "cells": [
  {
   "cell_type": "markdown",
   "metadata": {},
   "source": [
    "## Decoding Message Counting\n",
    "\n",
    "This problem was asked by Facebook.\n",
    "\n",
    "- Given the mapping a = 1, b = 2, ... z = 26, and an encoded message, count the number of ways it can be decoded.\n",
    "\n",
    "- For example, the message '111' would give 3, since it could be decoded as 'aaa', 'ka', and 'ak'.\n",
    "\n",
    "You can assume that the messages are decodable. For example, '001' is not allowed."
   ]
  },
  {
   "cell_type": "code",
   "execution_count": 1,
   "metadata": {},
   "outputs": [
    {
     "name": "stdout",
     "output_type": "stream",
     "text": [
      "3\n"
     ]
    }
   ],
   "source": [
    "def num_decodings(s):\n",
    "    if not s:\n",
    "        return 0\n",
    "    \n",
    "    n = len(s)\n",
    "    dp = [0] * (n + 1)\n",
    "    dp[0] = 1\n",
    "    dp[1] = 1 if s[0] != '0' else 0\n",
    "    \n",
    "    for i in range(2, n+1):\n",
    "        if s[i -1] != '0':\n",
    "            dp[i] += dp[i -1]\n",
    "        if 10 <= int(s[i - 2:i]) <= 26:\n",
    "            dp[i] += dp[i - 2]\n",
    "    return dp[n]\n",
    "\n",
    "message = '111'\n",
    "print(num_decodings(message))"
   ]
  },
  {
   "cell_type": "markdown",
   "metadata": {},
   "source": [
    "1. Understanding the Problem:\n",
    "- We're given a mapping where each letter corresponds to a number (a=1, b=2, ..., z=26).\n",
    "- The task is to count the number of ways an encoded message can be decoded.\n",
    "\n",
    "2. Approach:\n",
    "- We'll use dynamic programming to solve this problem.\n",
    "- We'll define a dynamic programming array dp, where dp[i] represents the number of ways to decode the string s[:i].\n",
    "- We initialize dp[0] to 1 to handle the base case. We also set dp[1] to 1 if the first character of s is not '0'.\n",
    "- We iterate through the characters of the string starting from index 2:\n",
    "    - If the current character is not '0', we add dp[i - 1] to dp[i] because we can decode it as a single character.\n",
    "    - If the last two characters form a number between 10 and 26 (inclusive), we add dp[i - 2] to dp[i] because we can decode them as a pair.\n",
    "- The final answer will be dp[n], where n is the length of the string.\n",
    "\n",
    "3. Time Complexity:\n",
    "- We iterate through the string once, so the time complexity is O(n), where n is the length of the string.\n",
    "\n",
    "4. Space Complexity:\n",
    "- We use an additional array of size n+1 for dynamic programming, so the space complexity is O(n).\n",
    "\n",
    "5. Example and Logic:\n",
    "- For the example message '111':\n",
    "    - We have three ways to decode it: 'aaa', 'ka', and 'ak'.\n",
    "    - We use dynamic programming to count the number of ways to decode the message.\n",
    "\n",
    "This solution efficiently counts the number of ways to decode an encoded message using dynamic programming."
   ]
  }
 ],
 "metadata": {
  "kernelspec": {
   "display_name": "Python 3",
   "language": "python",
   "name": "python3"
  },
  "language_info": {
   "codemirror_mode": {
    "name": "ipython",
    "version": 3
   },
   "file_extension": ".py",
   "mimetype": "text/x-python",
   "name": "python",
   "nbconvert_exporter": "python",
   "pygments_lexer": "ipython3",
   "version": "3.12.0"
  }
 },
 "nbformat": 4,
 "nbformat_minor": 2
}
