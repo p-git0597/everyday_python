{
 "cells": [
  {
   "cell_type": "markdown",
   "metadata": {},
   "source": [
    "## Find whether a given number is a power of 4 or not\n",
    "This problem was asked by Indeed.\n",
    "Given a 32-bit positive integer N, determine whether it is a power of four in faster than O(log N) time."
   ]
  },
  {
   "cell_type": "markdown",
   "metadata": {},
   "source": [
    "### Solution 1:\n",
    "\n",
    "To determine whether a 32-bit positive integer N is a power of four in faster than O(log N) time, we can use bit manipulation techniques. A 32-bit integer has at most 32 bits, and a power of four has only one bit set in even position (0-indexed) and is greater than zero. For example, 4 (100 in binary), 16 (10000 in binary), 64 (1000000 in binary), etc., are powers of four."
   ]
  },
  {
   "cell_type": "code",
   "execution_count": 1,
   "metadata": {},
   "outputs": [
    {
     "name": "stdout",
     "output_type": "stream",
     "text": [
      "True\n",
      "False\n",
      "True\n"
     ]
    }
   ],
   "source": [
    "def is_power_four(n):\n",
    "    # check if n is positive and has only one bit set\n",
    "    return n > 0 and (n & (n -1)) == 0 and (n & 0xAAAAAAAA) == 0\n",
    "\n",
    "# Examples\n",
    "print(is_power_four(16))  # True\n",
    "print(is_power_four(5))   # False\n",
    "print(is_power_four(64))  # True"
   ]
  },
  {
   "cell_type": "markdown",
   "metadata": {},
   "source": [
    "### Explanation:\n",
    "\n",
    "1. n > 0: Checks if the number is positive.\n",
    "2. (n & (n - 1)) == 0: Checks if the number has only one bit set, which is a characteristic of powers of two.\n",
    "3. (n & 0xAAAAAAAA) == 0: Checks if the bit set is in even position (0-indexed). 0xAAAAAAAA is a hexadecimal representation where only even bits are set to 1. If n is a power of four, the only set bit must be in an even position.\n",
    "This approach has a time complexity of O(1) since it involves only a few bitwise operations regardless of the magnitude of the input integer."
   ]
  },
  {
   "cell_type": "code",
   "execution_count": 2,
   "metadata": {},
   "outputs": [
    {
     "name": "stdout",
     "output_type": "stream",
     "text": [
      "True\n"
     ]
    }
   ],
   "source": [
    "# Solution 2:\n",
    "# You can determine if a 32-bit positive integer is a power of four faster than O(log N) time complexity by using \n",
    "# bitwise operations. Here's a Python function to achieve that:\n",
    "\n",
    "def is_power_of_four(n):\n",
    "    # A number is a power of four if it is a power of two and has only one bit set in the odd positions\n",
    "    # For example: 16 (10000 in binary) is a power of four because it's a power of two and only has one bit set\n",
    "    \n",
    "    # Check if it's a power of two\n",
    "    if n & (n - 1) != 0:\n",
    "        return False\n",
    "    \n",
    "    # Check if the only set bit is in an odd position\n",
    "    return n & 0x55555555 != 0\n",
    "\n",
    "\n",
    "print(is_power_of_four(16))"
   ]
  },
  {
   "cell_type": "markdown",
   "metadata": {},
   "source": [
    "### Explanation:\n",
    "\n",
    "1. We first check if the number is a power of two by using the expression n & (n - 1). If it is, then the expression will evaluate to 0.\n",
    "2. Then we use bitwise AND with a mask 0x55555555, which is a 32-bit number where every other bit is set (in binary, it's 1010101010101010101010101010101). This mask checks if the only set bit in n is in an odd position.\n",
    "3. If both conditions are true, then the number is a power of four.\n",
    "This solution has a time complexity of O(1), as it involves only a constant number of bitwise operations regardless of the value of N."
   ]
  },
  {
   "cell_type": "markdown",
   "metadata": {},
   "source": []
  }
 ],
 "metadata": {
  "kernelspec": {
   "display_name": "Python 3",
   "language": "python",
   "name": "python3"
  },
  "language_info": {
   "codemirror_mode": {
    "name": "ipython",
    "version": 3
   },
   "file_extension": ".py",
   "mimetype": "text/x-python",
   "name": "python",
   "nbconvert_exporter": "python",
   "pygments_lexer": "ipython3",
   "version": "3.12.0"
  }
 },
 "nbformat": 4,
 "nbformat_minor": 2
}
