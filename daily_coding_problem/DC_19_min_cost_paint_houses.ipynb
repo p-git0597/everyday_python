{
 "cells": [
  {
   "cell_type": "markdown",
   "metadata": {},
   "source": [
    "### minimum cost to paint the houses\n",
    "\n",
    "This problem was asked by Facebook.\n",
    "\n",
    "A builder is looking to build a row of N houses that can be of K different colors. He has a goal of minimizing cost while ensuring that no two neighboring houses are of the same color.\n",
    "\n",
    "Given an N by K matrix where the nth row and kth column represents the cost to build the nth house with kth color, return the minimum cost which achieves this goal."
   ]
  },
  {
   "cell_type": "markdown",
   "metadata": {},
   "source": [
    "# Steps for Solution:\n",
    "\n",
    "## 1. Define State Variables:\n",
    "Let `dp[i][j]` represent the minimum cost to paint the first `i` houses, with the `i`-th house painted with the `j`-th color.\n",
    "\n",
    "## 2. Base Case:\n",
    "For the first house, the cost is simply the cost of painting it with the given color. Hence, for each `j` (color), `dp[0][j] = cost[0][j]`.\n",
    "\n",
    "## 3. Transition:\n",
    "For each subsequent house, we need to minimize the cost while ensuring that no two adjacent houses are painted the same color. Hence, for each house `i` and each color `j`, we calculate the minimum cost as follows:\n",
    "\n",
    "```plaintext\n",
    "dp[i][j] = cost[i][j] + min(dp[i-1][m] for all m ≠ j)\n",
    "\n",
    "This means the cost to paint house i with color j is the cost of painting house i with color j plus the minimum of the costs for the previous house with any color except j.\n",
    "\n",
    "4. Final Solution:\n",
    "Once all houses are painted, the answer is the minimum value from the last row of the dp table (i.e., min(dp[N-1])), since we are trying to find the minimum total cost.\n",
    "\n",
    "5. Optimizations:\n",
    "To improve space complexity, we can reduce the storage to O(K) instead of O(N*K) by keeping track of only the costs for the current and previous houses."
   ]
  },
  {
   "cell_type": "code",
   "execution_count": 4,
   "metadata": {},
   "outputs": [],
   "source": [
    "def min_cost_to_paint_house(cost):\n",
    "    N = len(cost)\n",
    "    K = len(cost[0])\n",
    "    \n",
    "    \n",
    "    # DP table to store the minimum cost for each house and color\n",
    "    dp = [[0] * K for _ in range(N)]\n",
    "    \n",
    "    # Base case: for the first house, the cost is the same as the cost of painting it with each color\n",
    "    \n",
    "    for j in range(K):\n",
    "        dp[0][j] = cost[0][j]\n",
    "        \n",
    "    # FIll the dp with each subsequent house:\n",
    "    for i in range(1, N):\n",
    "        for j in range(K):\n",
    "            dp[i][j] = cost[i][j] + min(dp[i-1][m] for m in range(K) if m != j)\n",
    "            \n",
    "    return min(dp[N-1])\n",
    "\n"
   ]
  },
  {
   "cell_type": "code",
   "execution_count": 5,
   "metadata": {},
   "outputs": [
    {
     "name": "stdout",
     "output_type": "stream",
     "text": [
      "7\n"
     ]
    }
   ],
   "source": [
    "cost = [\n",
    "    [1, 5, 3],\n",
    "    [2, 9, 4],\n",
    "    [3, 4, 2]\n",
    "]\n",
    "print(min_cost_to_paint_house(cost))  # Output: 7\n"
   ]
  },
  {
   "cell_type": "code",
   "execution_count": null,
   "metadata": {},
   "outputs": [],
   "source": []
  }
 ],
 "metadata": {
  "kernelspec": {
   "display_name": "Python 3",
   "language": "python",
   "name": "python3"
  },
  "language_info": {
   "codemirror_mode": {
    "name": "ipython",
    "version": 3
   },
   "file_extension": ".py",
   "mimetype": "text/x-python",
   "name": "python",
   "nbconvert_exporter": "python",
   "pygments_lexer": "ipython3",
   "version": "3.12.0"
  }
 },
 "nbformat": 4,
 "nbformat_minor": 2
}
