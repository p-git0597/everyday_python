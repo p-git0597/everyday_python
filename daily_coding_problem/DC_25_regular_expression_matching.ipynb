{
 "cells": [
  {
   "cell_type": "markdown",
   "metadata": {},
   "source": [
    "#### Regular Expression Matching\n",
    "\n",
    "This problem was asked by Facebook.\n",
    "\n",
    "Implement regular expression matching with the following special characters:\n",
    "\n",
    ". (period) which matches any single character\n",
    "\n",
    "'*' (asterisk) which matches zero or more of the preceding element\n",
    "That is, implement a function that takes in a string and a valid regular expression and returns whether or not the string matches the regular expression.\n",
    "\n",
    "For example, given the regular expression \"ra.\" and the string \"ray\", your function should return true. The same regular expression on the string \"raymond\" should return false.\n",
    "\n",
    "Given the regular expression \".*at\" and the string \"chat\", your function should return true. The same regular expression on the string \"chats\" should return false."
   ]
  },
  {
   "cell_type": "markdown",
   "metadata": {},
   "source": [
    "Approach Using Recursion\n",
    "Step-by-Step Plan\n",
    "Base Case:\n",
    "\n",
    "If both the string and pattern are empty, return True.\n",
    "If the pattern is empty but the string is not, return False.\n",
    "Matching the First Character:\n",
    "\n",
    "If the first character of the pattern is a regular letter or ., check if it matches the first character of the string.\n",
    "Handling *:\n",
    "\n",
    "If * is in the pattern, it means the preceding character can appear zero or more times. We have two choices:\n",
    "Ignore * (zero occurrences).\n",
    "Use * (consume a character from the string).\n",
    "Recursion:\n",
    "\n",
    "If the first characters match, continue checking the rest of the string and pattern recursively.\n",
    "If * exists, check both the zero-occurrence and one-or-more occurrences cases."
   ]
  },
  {
   "cell_type": "code",
   "execution_count": null,
   "metadata": {},
   "outputs": [],
   "source": [
    "# Recursive solution: - \n",
    "\n",
    "def is_match(s, p):\n",
    "    \n",
    "    if not p: # If pattern is empty, return True if s is also empty.\n",
    "        return not s\n",
    "    \n",
    "    # Check is the first character matches\n",
    "    first_match = bool(s) and (p[0] == s[0] or p[0] == '.')\n",
    "    \n",
    "    # Handling '*'\n",
    "    if len(p) >= 2 and p[1] == '*':\n",
    "        # case 1: Ignor '*' and preceding character (zero occurence)\n",
    "        # case 2: Use '*' if first character matches (consume one from s)\n",
    "        return is_match(s, p[2:]) or (first_match and is_match(s[1:], p))\n",
    "    \n",
    "    # If no '*', simply check the next character\n",
    "    return first_match and is_match(s[1:], p[1:])\n"
   ]
  },
  {
   "cell_type": "code",
   "execution_count": 3,
   "metadata": {},
   "outputs": [
    {
     "name": "stdout",
     "output_type": "stream",
     "text": [
      "True\n",
      "False\n",
      "True\n",
      "False\n",
      "True\n",
      "False\n",
      "False\n"
     ]
    }
   ],
   "source": [
    "print(is_match(\"ray\", \"ra.\"))       # True\n",
    "print(is_match(\"raymond\", \"ra.\"))   # False\n",
    "print(is_match(\"chat\", \".*at\"))     # True\n",
    "print(is_match(\"chats\", \".*at\"))    # False\n",
    "print(is_match(\"\", \"\")) \n",
    "print(is_match(\"\", \".*at\")) \n",
    "print(is_match(\"chats\", \"\")) "
   ]
  },
  {
   "cell_type": "markdown",
   "metadata": {},
   "source": [
    "* Steps for Dynamic Programming\n",
    "1. Use a dictionary (dp) to cache results of is_match(s, p).\n",
    "2. If the answer for (s, p) is already computed, return it immediately.\n",
    "3. Use recursion as before, but store results in dp to speed up calculations.\n"
   ]
  },
  {
   "cell_type": "code",
   "execution_count": 11,
   "metadata": {},
   "outputs": [],
   "source": [
    "# Using Dynamic programming:\n",
    "\n",
    "def is_match_dp(s, p, memo = {}):\n",
    "    if (s, p) in memo:\n",
    "        return memo[(s, p)]\n",
    "    \n",
    "    if not p:\n",
    "        return not s\n",
    "    \n",
    "    first_match = bool(s) and (p[0] == s[0] or p[0] == '.')\n",
    "    \n",
    "    if len(p) >= 2 and p[1] == '*':\n",
    "        memo[(s, p)] = is_match_dp(s, p[2:], memo) or (first_match and is_match_dp(s[1:], p, memo))\n",
    "        return memo[(s, p)]\n",
    "    \n",
    "    memo[(s,p)] = first_match and is_match_dp(s[1:], p[1:], memo)\n",
    "    \n",
    "    return memo[(s, p)]\n",
    "\n"
   ]
  },
  {
   "cell_type": "code",
   "execution_count": null,
   "metadata": {},
   "outputs": [
    {
     "name": "stdout",
     "output_type": "stream",
     "text": [
      "True\n",
      "False\n",
      "True\n",
      "False\n"
     ]
    }
   ],
   "source": [
    "print(is_match_dp(\"ray\", \"ra.\"))       # True\n",
    "print(is_match_dp(\"raymond\", \"ra.\"))   # False\n",
    "print(is_match_dp(\"chat\", \".*at\"))     # True\n",
    "print(is_match_dp(\"chats\", \".*at\"))"
   ]
  },
  {
   "cell_type": "code",
   "execution_count": null,
   "metadata": {},
   "outputs": [],
   "source": []
  }
 ],
 "metadata": {
  "kernelspec": {
   "display_name": "Python 3",
   "language": "python",
   "name": "python3"
  },
  "language_info": {
   "codemirror_mode": {
    "name": "ipython",
    "version": 3
   },
   "file_extension": ".py",
   "mimetype": "text/x-python",
   "name": "python",
   "nbconvert_exporter": "python",
   "pygments_lexer": "ipython3",
   "version": "3.12.0"
  }
 },
 "nbformat": 4,
 "nbformat_minor": 2
}
