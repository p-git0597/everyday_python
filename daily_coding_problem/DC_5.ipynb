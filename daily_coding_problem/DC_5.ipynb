{
 "cells": [
  {
   "cell_type": "markdown",
   "metadata": {},
   "source": [
    "## Implementing car and cdr Operations on Pairs\n",
    "This problem was asked by Jane Street. Problem #5 [Medium]\n",
    "\n",
    "`cons(a, b)` constructs a pair, and `car(pair)` and `cdr(pair`) returns the first and last element of that pair. For example, car`(cons(3, 4))` returns `3`, and `cdr(cons(3, 4))` returns `4`.\n",
    "\n",
    "Given this implementation of cons:\n",
    "```\n",
    "def cons(a, b):\n",
    "    def pair(f):\n",
    "        return f(a, b)\n",
    "    return pair\n",
    "```\n",
    "Implement `car` and `cdr`."
   ]
  },
  {
   "cell_type": "code",
   "execution_count": 1,
   "metadata": {},
   "outputs": [],
   "source": [
    "def cons(a, b):\n",
    "    def pair(f):\n",
    "        return f(a, b)\n",
    "    return pair\n",
    "\n",
    "def car(pair):\n",
    "    def first(a, b):\n",
    "        return a\n",
    "    return pair(first)\n",
    "\n",
    "def cdr(pair):\n",
    "    def last(a, b):\n",
    "        return b\n",
    "    return pair(last)\n"
   ]
  },
  {
   "cell_type": "code",
   "execution_count": 2,
   "metadata": {},
   "outputs": [
    {
     "name": "stdout",
     "output_type": "stream",
     "text": [
      "3\n",
      "4\n",
      "1\n",
      "2\n",
      "-1\n",
      "5\n"
     ]
    }
   ],
   "source": [
    "# Create pairs using the cons function\n",
    "pair1 = cons(3, 4)\n",
    "pair2 = cons(1, 2)\n",
    "pair3 = cons(-1, 5)\n",
    "\n",
    "# Call car and cdr functions to see the results\n",
    "print(car(pair1))  # This should print 3\n",
    "print(cdr(pair1))  # This should print 4\n",
    "\n",
    "print(car(pair2))  # This should print 1\n",
    "print(cdr(pair2))  # This should print 2\n",
    "\n",
    "print(car(pair3))  # This should print -1\n",
    "print(cdr(pair3))  # This should print 5"
   ]
  },
  {
   "cell_type": "markdown",
   "metadata": {},
   "source": [
    "The logic used in this problem involves understanding closures and how functions can return other functions. Let's break down the solution with examples:\n",
    "\n",
    "1. Understanding the cons Function:\n",
    "- The `cons` function takes two arguments a and b.\n",
    "- It returns a function pair which itself takes another function `f`.\n",
    "- When pair is called with a function `f`, it applies `f` to `a` and `b` and returns the result.\n",
    "\n",
    "2. Implementing `car` and `cdr`:\n",
    "- `car` and `cdr` functions need to extract the first and last element of the pair, respectively.\n",
    "- To achieve this, `car` and `cdr` functions will use closures to capture the values of a and b provided to cons.\n",
    "- By returning appropriate functions that access these captured values, `car` and `cdr` will effectively retrieve the first and last elements."
   ]
  }
 ],
 "metadata": {
  "kernelspec": {
   "display_name": "Python 3",
   "language": "python",
   "name": "python3"
  },
  "language_info": {
   "codemirror_mode": {
    "name": "ipython",
    "version": 3
   },
   "file_extension": ".py",
   "mimetype": "text/x-python",
   "name": "python",
   "nbconvert_exporter": "python",
   "pygments_lexer": "ipython3",
   "version": "3.12.0"
  }
 },
 "nbformat": 4,
 "nbformat_minor": 2
}
