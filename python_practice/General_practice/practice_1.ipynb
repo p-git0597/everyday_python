{
 "cells": [
  {
   "cell_type": "code",
   "execution_count": null,
   "id": "904514d7",
   "metadata": {},
   "outputs": [
    {
     "name": "stdout",
     "output_type": "stream",
     "text": [
      "Hello I'm Rao\n",
      "Hello I\"m Rao\n",
      "Hello\n",
      "I'm Rao\n",
      "This is a blackslash \\\n",
      "This is a tab\there\n",
      "This is a backspace here\n"
     ]
    }
   ],
   "source": [
    "# This are some examples of escape sequences in Python\n",
    "# Escape sequences are used to insert characters that are illegal in a string.\n",
    "# For example, to insert a single quote in a string that is enclosed in single quotes, you can use the escape character \\\n",
    "# The escape character is a backslash \\ followed by the character you want to insert.\n",
    "\n",
    "# \\' Single quote\n",
    "print('Hello I\\'m Rao')\n",
    "# \\\" Double quote\n",
    "print(\"Hello I\\\"m Rao\")\n",
    "# New line\n",
    "print(\"Hello\\nI\\'m Rao\")\n",
    "# BlackSlash\n",
    "print(\"This is a blackslash \\\\\")\n",
    "# Tab\n",
    "print(\"This is a tab\\there\")\n",
    "# Backspace\n",
    "print(\"This is a backspacee\\b here\")\n"
   ]
  },
  {
   "cell_type": "markdown",
   "id": "4bb730e2",
   "metadata": {},
   "source": [
    "#### **********print these following lines **************\n",
    "- this is \\\\\\ double backslash\n",
    "- this is /WWWW mountain\n",
    "- he is awesome (use escape sequence instead of manual spaces )\n",
    "- \\\"\\n \\t \\' (print this as an output)"
   ]
  },
  {
   "cell_type": "code",
   "execution_count": 10,
   "id": "cb0a7576",
   "metadata": {},
   "outputs": [
    {
     "name": "stdout",
     "output_type": "stream",
     "text": [
      "Thiis is \\\\ double backlash\n"
     ]
    }
   ],
   "source": [
    "print(\"Thiis is \\\\\\\\ double backlash\")"
   ]
  },
  {
   "cell_type": "code",
   "execution_count": 11,
   "id": "87ba9807",
   "metadata": {},
   "outputs": [
    {
     "name": "stdout",
     "output_type": "stream",
     "text": [
      "Thid is /\\/\\/\\/\\/\\ mountain\n"
     ]
    }
   ],
   "source": [
    "print(\"Thid is /\\\\/\\\\/\\\\/\\\\/\\\\ mountain\")"
   ]
  },
  {
   "cell_type": "code",
   "execution_count": 12,
   "id": "4c2a5ec3",
   "metadata": {},
   "outputs": [
    {
     "name": "stdout",
     "output_type": "stream",
     "text": [
      "He is \tawesome\n"
     ]
    }
   ],
   "source": [
    "print(\"He is \\tawesome\")"
   ]
  },
  {
   "cell_type": "code",
   "execution_count": 16,
   "id": "08a1fc05",
   "metadata": {},
   "outputs": [
    {
     "name": "stdout",
     "output_type": "stream",
     "text": [
      "\\\" \\n \\t \\'\n"
     ]
    }
   ],
   "source": [
    "print(\"\\\\\\\" \\\\n \\\\t \\\\\\'\")"
   ]
  },
  {
   "cell_type": "code",
   "execution_count": 17,
   "id": "ff1b4533",
   "metadata": {},
   "outputs": [
    {
     "name": "stdout",
     "output_type": "stream",
     "text": [
      "Line a \\n Line B\n"
     ]
    }
   ],
   "source": [
    "print(r\"Line a \\n Line B\")"
   ]
  },
  {
   "cell_type": "code",
   "execution_count": 18,
   "id": "73d097f7",
   "metadata": {},
   "outputs": [],
   "source": [
    "# Snake case writing -> usually used in Python\n",
    "user_one_name = \"Rao\"\n",
    "\n",
    "# Camel case writing -> usually used in JavaScript and Java\n",
    "userOneName = \"Mohit\"\n",
    "\n",
    "# Pascal case writing -> usually used in C# and Java\n",
    "UserOneName = \"Rao\""
   ]
  },
  {
   "cell_type": "markdown",
   "id": "e47c802c",
   "metadata": {},
   "source": [
    "#### String Concatenation"
   ]
  },
  {
   "cell_type": "code",
   "execution_count": 19,
   "id": "0615f9db",
   "metadata": {},
   "outputs": [
    {
     "name": "stdout",
     "output_type": "stream",
     "text": [
      "Rao Sharma\n"
     ]
    }
   ],
   "source": [
    "first_name = \"Rao\"\n",
    "last_name = \"Sharma\"\n",
    "full_name = first_name + \" \" + last_name\n",
    "print(full_name)"
   ]
  },
  {
   "cell_type": "code",
   "execution_count": null,
   "id": "b2dbb315",
   "metadata": {},
   "outputs": [
    {
     "name": "stdout",
     "output_type": "stream",
     "text": [
      "Hello Rao\n"
     ]
    }
   ],
   "source": [
    "# print(first_name + 3) # -> can only concatenate str (not \"int\") to str\n",
    "\n",
    "# print(first_name + \" 3\")\n",
    "# print(first_name + str(3))\n",
    "# print(first_name * 3)\n",
    "\n",
    "# User_input -> input() function will always return a string\n",
    "# If you want to convert the input to an integer, you can use the int() function\n",
    "# If you want to convert the input to a float, you can use the float() function\n",
    "# If you want to convert the input to a boolean, you can use the bool() function\n",
    "# If you want to convert the input to a list, you can use the list() function\n",
    "# If you want to convert the input to a tuple, you can use the tuple() function\n",
    "# If you want to convert the input to a set, you can use the set() function\n",
    "# If you want to convert the input to a dictionary, you can use the dict() function\n",
    "# If you want to convert the input to a complex number, you can use the complex() function\n",
    "# If you want to convert the input to a string, you can use the str() function\n",
    "# If you want to convert the input to a byte, you can use the bytes() function\n",
    "\n",
    "\n",
    "name = input(\"Enter your name: \")\n",
    "print(\"Hello \" + name)\n"
   ]
  },
  {
   "cell_type": "code",
   "execution_count": 34,
   "id": "b898935e",
   "metadata": {},
   "outputs": [
    {
     "name": "stdout",
     "output_type": "stream",
     "text": [
      "Sum of two number is 10\n"
     ]
    }
   ],
   "source": [
    "num1 = int(input(\"Enter first number: \"))\n",
    "num2 = int(input(\"Enter second number: \"))\n",
    "print(\"Sum of two number is \" + str(num1 + num2))"
   ]
  },
  {
   "cell_type": "code",
   "execution_count": 37,
   "id": "b9267472",
   "metadata": {},
   "outputs": [
    {
     "name": "stdout",
     "output_type": "stream",
     "text": [
      "Name, Age, DOB is: Rao 34 12-12-1221\n"
     ]
    }
   ],
   "source": [
    "# two input in one line\n",
    "name, age, DOB = input(\"Enter your name, age, DOB here: \").split()\n",
    "\n",
    "print(\"Name, Age, DOB is: \" + name + \" \" + age + \" \" + DOB)"
   ]
  },
  {
   "cell_type": "code",
   "execution_count": 40,
   "id": "7ca3128b",
   "metadata": {},
   "outputs": [
    {
     "name": "stdout",
     "output_type": "stream",
     "text": [
      "Hello Rao your age is 34 and DOB is 12-12-1221\n",
      "Hello Rao you ag is 34 and DOB is 12-12-1221\n"
     ]
    }
   ],
   "source": [
    "# String Formatting\n",
    "print(\"Hello {} your age is {} and DOB is {}\".format(name, age, DOB))\n",
    "print(f\"Hello {name} you ag is {age} and DOB is {DOB}\")"
   ]
  },
  {
   "cell_type": "markdown",
   "id": "ada9568b",
   "metadata": {},
   "source": [
    "####  Exercise\n",
    "Ask user to input 3 numbers and you have to print average of three numbers using string formatting.\n",
    "Bonus :- try to take all three comma separated inputs in one line."
   ]
  },
  {
   "cell_type": "code",
   "execution_count": 47,
   "id": "46a074db",
   "metadata": {},
   "outputs": [
    {
     "name": "stdout",
     "output_type": "stream",
     "text": [
      "Average of three number 2, 2, 2 is 2.0\n"
     ]
    }
   ],
   "source": [
    "num1, num2, num3 = input(\"Enter three number to calculate average: \").split(\",\")\n",
    "\n",
    "print(f\"Average of three number {num1}, {num2}, {num3} is {(int(num1) + int(num2) + int(num3)) / 3}\")"
   ]
  },
  {
   "cell_type": "code",
   "execution_count": 53,
   "id": "153938f3",
   "metadata": {},
   "outputs": [
    {
     "name": "stdout",
     "output_type": "stream",
     "text": [
      "Python language\n",
      "Python\n",
      "Python languag\n",
      "\n"
     ]
    }
   ],
   "source": [
    "# STring SLicing \n",
    "# String slicing is a way to extract a portion of a string by specifying the start and end index.\n",
    "# The syntax for string slicing is string[start:end:step]\n",
    "\n",
    "var = \"Python language\"\n",
    "print(var[:])\n",
    "print(var[:6])\n",
    "print(var[:-1])\n",
    "print(var[-1:6]) # -> empty string\n"
   ]
  },
  {
   "cell_type": "code",
   "execution_count": 55,
   "id": "d2b1d28c",
   "metadata": {},
   "outputs": [
    {
     "name": "stdout",
     "output_type": "stream",
     "text": [
      "My name is TII amrahS oaR is reversed order it was this Rao Sharma IIT earlier\n"
     ]
    }
   ],
   "source": [
    "name = input(\"Enter your full name: \")\n",
    "print(f\"My name is {name[::-1]} is reversed order it was this {name} earlier\")"
   ]
  },
  {
   "cell_type": "code",
   "execution_count": 60,
   "id": "8f192b18",
   "metadata": {},
   "outputs": [
    {
     "name": "stdout",
     "output_type": "stream",
     "text": [
      "My name is IceIce Icecream and the length is 15.\n",
      "The character I entered is i and the count is 3\n"
     ]
    }
   ],
   "source": [
    "#take two comma separated inputs from user\n",
    "#1.) user's name, example \"Harshit\"\n",
    "#2.) a single character, \"h\n",
    "\n",
    "# output 2 print lines\n",
    "# 1.) user's name length\n",
    "#2.) count the character that user inputed (bonus case insensitive count)\n",
    "\n",
    "name, char = input(\"Enter your Full name and a character you wanna find: \").split(\",\")\n",
    "print(f\"My name is {name} and the length is {len(name)}.\")\n",
    "print(f\"The character I entered is {char} and the count is {name.lower().count(char.lower())}\")"
   ]
  },
  {
   "cell_type": "code",
   "execution_count": 61,
   "id": "f0f2b37c",
   "metadata": {},
   "outputs": [
    {
     "name": "stdout",
     "output_type": "stream",
     "text": [
      "My name is         IceIce Icecream           and the length is 33.\n",
      "The character I entered is  H and the count is 0\n"
     ]
    }
   ],
   "source": [
    "name, char = input(\"Enter your Full name and a character you wanna find: \").split(\",\")\n",
    "print(f\"My name is {name} and the length is {len(name)}.\")\n",
    "print(f\"The character I entered is {char} and the count is {name.strip().lower().count(char.strip().lower())}\")"
   ]
  },
  {
   "cell_type": "code",
   "execution_count": 62,
   "id": "4e2f6f1b",
   "metadata": {},
   "outputs": [
    {
     "name": "stdout",
     "output_type": "stream",
     "text": [
      "Samarth\n"
     ]
    }
   ],
   "source": [
    "name = input(\"ENter a name: \")\n",
    "print(name)"
   ]
  },
  {
   "cell_type": "code",
   "execution_count": 71,
   "id": "09892c02",
   "metadata": {},
   "outputs": [
    {
     "name": "stdout",
     "output_type": "stream",
     "text": [
      "Sh\n"
     ]
    }
   ],
   "source": [
    "print(name[::len(name)-1])"
   ]
  },
  {
   "cell_type": "code",
   "execution_count": 78,
   "id": "93c99647",
   "metadata": {},
   "outputs": [
    {
     "name": "stdout",
     "output_type": "stream",
     "text": [
      "Samrth\n",
      "htramaS\n"
     ]
    }
   ],
   "source": [
    "# Print the first three characters and the last three characters of name.\n",
    "print(name[:3] + name[-3:])\n",
    "# Print the string in reverse.\n",
    "print(name[::-1])"
   ]
  },
  {
   "cell_type": "code",
   "execution_count": 79,
   "id": "cf909225",
   "metadata": {},
   "outputs": [
    {
     "name": "stdout",
     "output_type": "stream",
     "text": [
      "*******************Hello Python*******************\n"
     ]
    }
   ],
   "source": [
    "text = input(\"Enter a text: \")\n",
    "print(text.center(50, '*'))"
   ]
  },
  {
   "cell_type": "code",
   "execution_count": null,
   "id": "72ef3809",
   "metadata": {},
   "outputs": [],
   "source": []
  }
 ],
 "metadata": {
  "kernelspec": {
   "display_name": "Python 3",
   "language": "python",
   "name": "python3"
  },
  "language_info": {
   "codemirror_mode": {
    "name": "ipython",
    "version": 3
   },
   "file_extension": ".py",
   "mimetype": "text/x-python",
   "name": "python",
   "nbconvert_exporter": "python",
   "pygments_lexer": "ipython3",
   "version": "3.12.0"
  }
 },
 "nbformat": 4,
 "nbformat_minor": 5
}
