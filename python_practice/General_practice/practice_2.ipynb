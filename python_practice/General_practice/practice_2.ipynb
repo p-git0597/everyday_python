{
 "cells": [
  {
   "cell_type": "code",
   "execution_count": 6,
   "id": "8a408076",
   "metadata": {},
   "outputs": [
    {
     "name": "stdout",
     "output_type": "stream",
     "text": [
      "Your guess 15 is too low. The winning number was 77.\n",
      "Game Over!\n"
     ]
    }
   ],
   "source": [
    "import random\n",
    "winning_number = random.randint(1, 100)\n",
    "user_input = int(input(\"Enter a number between 1 to 100: \"))\n",
    "\n",
    "if winning_number == user_input:\n",
    "    print(f\"Congratulations! You guessed the number {winning_number} correctly.\")\n",
    "elif winning_number > user_input:\n",
    "    print(f\"Your guess {user_input} is too low. The winning number was {winning_number}.\")\n",
    "else:\n",
    "    print(f\"Your guess {user_input} is too high. The winning number was {winning_number}.\")\n",
    "print(\"Game Over!\")\n"
   ]
  },
  {
   "cell_type": "code",
   "execution_count": 11,
   "id": "90152ccb",
   "metadata": {},
   "outputs": [
    {
     "name": "stdout",
     "output_type": "stream",
     "text": [
      "Your name starts with a and your age is above 10. So, You can watch COCO movie\n"
     ]
    }
   ],
   "source": [
    "name, age = input(\"Enter your name and age: \").split(\",\")\n",
    "\n",
    "if (name[0] == 'a' or name[0] == 'A') and int(age) > 10:\n",
    "    print(f\"Your name starts with {name[0].lower()} and your age is above 10. So, You can watch COCO movie\")\n",
    "else:\n",
    "    print(f\"Hello {name}, you are {age} years old and you cannot watch COCO movie\")"
   ]
  },
  {
   "cell_type": "code",
   "execution_count": null,
   "id": "90a9ce22",
   "metadata": {},
   "outputs": [
    {
     "name": "stdout",
     "output_type": "stream",
     "text": [
      "Yes, 'a' is present in the name\n"
     ]
    }
   ],
   "source": [
    "# in keyword example\n",
    "name = 'Samarth'\n",
    "if 'a' in name:\n",
    "    print(\"Yes, 'a' is present in the name\")\n",
    "else:\n",
    "    print(\"No, 'a' is not present in the name\")"
   ]
  },
  {
   "cell_type": "code",
   "execution_count": null,
   "id": "a107575e",
   "metadata": {},
   "outputs": [
    {
     "name": "stdout",
     "output_type": "stream",
     "text": [
      "You haven't entered your name\n"
     ]
    }
   ],
   "source": [
    "# check empty or not\n",
    "name  = input(\"Enter your name: \")\n",
    "if name:\n",
    "    print(\"You have entered yu name {name}\")\n",
    "else:\n",
    "    print(\"You haven\\'t entered your name\")"
   ]
  },
  {
   "cell_type": "code",
   "execution_count": 5,
   "id": "05b4df10",
   "metadata": {},
   "outputs": [
    {
     "name": "stdout",
     "output_type": "stream",
     "text": [
      "Hello Coders! 1\n",
      "Hello Coders! 2\n",
      "Hello Coders! 3\n",
      "Hello Coders! 4\n",
      "Hello Coders! 5\n",
      "Hello Coders! 6\n",
      "Hello Coders! 7\n",
      "Hello Coders! 8\n",
      "Hello Coders! 9\n",
      "Hello Coders! 10\n"
     ]
    }
   ],
   "source": [
    "# while loop example\n",
    "i = 1\n",
    "while i <= 10:\n",
    "    print(f\"Hello Coders! {i}\")\n",
    "    i += 1"
   ]
  },
  {
   "cell_type": "code",
   "execution_count": 6,
   "id": "b907e5bc",
   "metadata": {},
   "outputs": [
    {
     "name": "stdout",
     "output_type": "stream",
     "text": [
      "Current sum is 1 and value of i is 1\n",
      "Current sum is 3 and value of i is 2\n",
      "Current sum is 6 and value of i is 3\n",
      "Current sum is 10 and value of i is 4\n",
      "Current sum is 15 and value of i is 5\n",
      "Current sum is 21 and value of i is 6\n",
      "Current sum is 28 and value of i is 7\n",
      "Current sum is 36 and value of i is 8\n",
      "Current sum is 45 and value of i is 9\n",
      "Current sum is 55 and value of i is 10\n",
      "Total sum of number from 1 to 10 is 55\n"
     ]
    }
   ],
   "source": [
    "# Sum of number from 1 to 10\n",
    "total = 0\n",
    "i = 1\n",
    "\n",
    "while i <= 10:\n",
    "    total += i\n",
    "    print(f\"Current sum is {total} and value of i is {i}\")\n",
    "    i += 1\n",
    "print(f\"Total sum of number from 1 to 10 is {total}\")"
   ]
  },
  {
   "cell_type": "code",
   "execution_count": 14,
   "id": "936832a4",
   "metadata": {},
   "outputs": [
    {
     "name": "stdout",
     "output_type": "stream",
     "text": [
      "15\n"
     ]
    }
   ],
   "source": [
    "# print the sum of all natural numbers\n",
    "# using while loop user will provide input\n",
    "\n",
    "num = int(input(\"Enter a number to get the sum: \"))\n",
    "total = 0\n",
    "i = 1\n",
    "\n",
    "while i <= num:\n",
    "    total += i\n",
    "    \n",
    "    i += 1\n",
    "print(total)"
   ]
  },
  {
   "cell_type": "code",
   "execution_count": 18,
   "id": "9248112d",
   "metadata": {},
   "outputs": [
    {
     "name": "stdout",
     "output_type": "stream",
     "text": [
      "Current sum is 1 and value of i is 0\n",
      "Current sum is 3 and value of i is 1\n",
      "Current sum is 8 and value of i is 2\n",
      "Current sum is 14 and value of i is 3\n",
      "The number you entered was 1256 and the total is 14\n"
     ]
    }
   ],
   "source": [
    "# ask user to input a number containing more than one digit\n",
    "# example 1256\n",
    "# calculate 1+2+5+6 and print\n",
    "\n",
    "num  = input(\"Enter a series of number to get sum: \")\n",
    "total = 0\n",
    "i = 0\n",
    "\n",
    "while i < len(num):\n",
    "    total += int(num[i])\n",
    "    print(f\"Current sum is {total} and value of i is {i}\")\n",
    "    i += 1\n",
    "print(f\"The number you entered was {num} and the total is {total}\")"
   ]
  },
  {
   "cell_type": "code",
   "execution_count": 25,
   "id": "71f674f1",
   "metadata": {},
   "outputs": [
    {
     "name": "stdout",
     "output_type": "stream",
     "text": [
      "S: 2\n",
      "a: 5\n",
      "m: 2\n",
      "r: 1\n",
      "t: 1\n",
      "h: 2\n",
      " : 2\n",
      "n: 2\n",
      "i: 1\n",
      "d: 1\n",
      "l: 1\n"
     ]
    }
   ],
   "source": [
    "# Ask a user for name\n",
    "# Example Samarth Sharma\n",
    "# print count of each words\n",
    "\n",
    "name = input(\"Enter you full name: \")\n",
    "\n",
    "i = 0 \n",
    "temp_var = \"\"\n",
    "while i < len(name):\n",
    "    if name[i] not in temp_var:\n",
    "        temp_var += name[i]\n",
    "        print(f\"{name[i]}: {name.count(name[i])}\")\n",
    "    i += 1"
   ]
  },
  {
   "cell_type": "code",
   "execution_count": 31,
   "id": "2d196c8d",
   "metadata": {},
   "outputs": [
    {
     "name": "stdout",
     "output_type": "stream",
     "text": [
      "The number you entered is 10 and it's total is 55\n"
     ]
    }
   ],
   "source": [
    "# sum from 1 to 10 using for loop\\\n",
    "num = int(input(\"Enter a number: \"))\n",
    "total = 0\n",
    "\n",
    "for i in range(num + 1):\n",
    "    total += i\n",
    "print(f\"The number you entered is {num} and it's total is {total}\")\n"
   ]
  },
  {
   "cell_type": "code",
   "execution_count": null,
   "id": "55ece9a8",
   "metadata": {},
   "outputs": [
    {
     "name": "stdout",
     "output_type": "stream",
     "text": [
      "6\n"
     ]
    }
   ],
   "source": [
    "# Ask user input number like 123456 and give total of that\n",
    "num = input(\"Enter a number: \")\n",
    "total = 0\n",
    "for i in num:\n",
    "    total += int(i)\n",
    "print(f\"{total}\")"
   ]
  },
  {
   "cell_type": "code",
   "execution_count": 37,
   "id": "89dfd9ba",
   "metadata": {},
   "outputs": [
    {
     "name": "stdout",
     "output_type": "stream",
     "text": [
      "s: 2\n",
      "a: 4\n",
      "m: 2\n",
      "d: 2\n"
     ]
    }
   ],
   "source": [
    "name = input(\"Enter a name: \")\n",
    "\n",
    "temp_var = \"\"\n",
    "for i in range(len(name)):\n",
    "    if name[i] not in temp_var:\n",
    "        print(f\"{name[i]}: {name.count(name[i])}\")\n",
    "        temp_var += name[i]"
   ]
  },
  {
   "cell_type": "code",
   "execution_count": null,
   "id": "c8893870",
   "metadata": {},
   "outputs": [
    {
     "name": "stdout",
     "output_type": "stream",
     "text": [
      "34 is too high! Please try again! Attempts: 0\n",
      "34 is too low! Please try again! Attempts: 1\n",
      "34 is too low! Please try again! Attempts: 2\n",
      "34 is too low! Please try again! Attempts: 3\n",
      "34 is too low! Please try again! Attempts: 4\n",
      "34 is too high! Please try again! Attempts: 5\n",
      "34 is too low! Please try again! Attempts: 6\n",
      "34 is too low! Please try again! Attempts: 7\n"
     ]
    },
    {
     "ename": "ValueError",
     "evalue": "invalid literal for int() with base 10: ''",
     "output_type": "error",
     "traceback": [
      "\u001b[1;31m---------------------------------------------------------------------------\u001b[0m",
      "\u001b[1;31mValueError\u001b[0m                                Traceback (most recent call last)",
      "Cell \u001b[1;32mIn[44], line 19\u001b[0m\n\u001b[0;32m     17\u001b[0m     \u001b[38;5;28mprint\u001b[39m(\u001b[38;5;124mf\u001b[39m\u001b[38;5;124m\"\u001b[39m\u001b[38;5;132;01m{\u001b[39;00mwinning_num\u001b[38;5;132;01m}\u001b[39;00m\u001b[38;5;124m is too low! Please try again! Attempts: \u001b[39m\u001b[38;5;132;01m{\u001b[39;00mattempts\u001b[38;5;132;01m}\u001b[39;00m\u001b[38;5;124m\"\u001b[39m)\n\u001b[0;32m     18\u001b[0m attempts \u001b[38;5;241m+\u001b[39m\u001b[38;5;241m=\u001b[39m \u001b[38;5;241m1\u001b[39m\n\u001b[1;32m---> 19\u001b[0m num \u001b[38;5;241m=\u001b[39m \u001b[38;5;28;43mint\u001b[39;49m\u001b[43m(\u001b[49m\u001b[38;5;28;43minput\u001b[39;49m\u001b[43m(\u001b[49m\u001b[38;5;124;43m\"\u001b[39;49m\u001b[38;5;124;43mGuess again: \u001b[39;49m\u001b[38;5;124;43m\"\u001b[39;49m\u001b[43m)\u001b[49m\u001b[43m)\u001b[49m\n",
      "\u001b[1;31mValueError\u001b[0m: invalid literal for int() with base 10: ''"
     ]
    }
   ],
   "source": [
    "# break and continue\n",
    "# Guessing game\n",
    "\n",
    "import random\n",
    "num = int(input(\"Enter a number you wanna guess: \"))\n",
    "winning_num = random.randint(1,50)\n",
    "attempts = 0\n",
    "game_over = False\n",
    "\n",
    "while not game_over:\n",
    "    if winning_num == num:\n",
    "        print(f\"Congrats! you win! {winning_num} and you number {num} matches. Attempts: {attempts}\")\n",
    "        game_over = True\n",
    "    elif winning_num > num:\n",
    "        print(f\"{winning_num} is too high! Please try again! Attempts: {attempts}\")\n",
    "    else:\n",
    "        print(f\"{winning_num} is too low! Please try again! Attempts: {attempts}\")\n",
    "    attempts += 1\n",
    "    num = int(input(\"Guess again: \"))\n",
    "\n",
    "\n",
    "\n"
   ]
  },
  {
   "cell_type": "code",
   "execution_count": null,
   "id": "ba43b49d",
   "metadata": {},
   "outputs": [
    {
     "name": "stdout",
     "output_type": "stream",
     "text": [
      "t\n"
     ]
    }
   ],
   "source": [
    "# Function practice\n",
    "\n",
    "def last_char(name):\n",
    "    char_1 = name[-1]\n",
    "    return char_1\n",
    "\n",
    "print(last_char(\"Harshit\"))\n",
    "\n"
   ]
  },
  {
   "cell_type": "code",
   "execution_count": 9,
   "id": "15a5c261",
   "metadata": {},
   "outputs": [
    {
     "name": "stdout",
     "output_type": "stream",
     "text": [
      "Given number 8 is even\n"
     ]
    }
   ],
   "source": [
    "def even_odd(num1):\n",
    "    \n",
    "    if num1 % 2 == 0:\n",
    "        return f\"Given number {num1} is even\"\n",
    "    \n",
    "    return f\"The number {num1} is odd\"\n",
    "    \n",
    "num1 = int(input(\"Enter a number: \"))\n",
    "print(even_odd(num1))"
   ]
  },
  {
   "cell_type": "code",
   "execution_count": null,
   "id": "463b2968",
   "metadata": {},
   "outputs": [],
   "source": [
    "def even_odd(num1):\n",
    "    \n",
    "    if num1 % 2 == 0:\n",
    "        return f\"Given number {num1} is even\"\n",
    "    else:\n",
    "        return f\"The number {num1} is odd\"\n",
    "    \n",
    "num1 = int(input(\"Enter a number: \"))\n",
    "print(even_odd(num1))"
   ]
  },
  {
   "cell_type": "code",
   "execution_count": null,
   "id": "1b5d3c46",
   "metadata": {},
   "outputs": [
    {
     "name": "stdout",
     "output_type": "stream",
     "text": [
      "True\n"
     ]
    }
   ],
   "source": [
    "def is_even(num):    # -> num is parameter\n",
    "    return num%2 == 0\n",
    "\n",
    "print(is_even(8)) # -> 8 is an argument"
   ]
  },
  {
   "cell_type": "code",
   "execution_count": 11,
   "id": "3faaeb0c",
   "metadata": {},
   "outputs": [
    {
     "name": "stdout",
     "output_type": "stream",
     "text": [
      "The number 6 is greater than 5.\n"
     ]
    }
   ],
   "source": [
    "def greater_of_two(num1, num2):\n",
    "    if num1 > num2:\n",
    "        return f\"The number {num1} is greate then {num2}.\"\n",
    "    return f\"The number {num2} is greater than {num1}.\"\n",
    "\n",
    "print(greater_of_two(5, 6))"
   ]
  },
  {
   "cell_type": "code",
   "execution_count": 14,
   "id": "5fb1f8fa",
   "metadata": {},
   "outputs": [
    {
     "name": "stdout",
     "output_type": "stream",
     "text": [
      " The number 7 and 7 are equal.\n"
     ]
    }
   ],
   "source": [
    "def greater_of_two(num1, num2):\n",
    "    if num1 > num2:\n",
    "        return f\"The number {num1} is greate then {num2}.\"\n",
    "    elif num1 == num2:\n",
    "        return f\" The number {num1} and {num2} are equal.\"\n",
    "    return f\"The number {num2} is greater than {num1}.\"\n",
    "\n",
    "print(greater_of_two(7, 7))"
   ]
  },
  {
   "cell_type": "code",
   "execution_count": 16,
   "id": "249a387b",
   "metadata": {},
   "outputs": [
    {
     "name": "stdout",
     "output_type": "stream",
     "text": [
      " Number 7 is greatest of 6, 4.\n"
     ]
    }
   ],
   "source": [
    "def greatest_of_three(a,b,c):\n",
    "    if a>b and a>c:\n",
    "        return f\" Number {a} is greatest of {b}, {c}.\"\n",
    "    elif b>a and b>c:\n",
    "        return f\" Number {b} is greatest of {a}, {c}.\"\n",
    "    return f\" Number {c} is greatest of {a}, {b}.\"\n",
    "\n",
    "num1 = int(input(\"Enter 1st number: \"))\n",
    "num2 = int(input(\"Enter 2nd number: \"))\n",
    "num3 = int(input(\"Enter 3rd number: \"))\n",
    "print(greatest_of_three(num1, num2, num3))"
   ]
  },
  {
   "cell_type": "code",
   "execution_count": 24,
   "id": "d65c31ce",
   "metadata": {},
   "outputs": [
    {
     "name": "stdout",
     "output_type": "stream",
     "text": [
      "23\n"
     ]
    }
   ],
   "source": [
    "def greater_of_two(num1, num2):\n",
    "    if num1 > num2:\n",
    "        return num1\n",
    "    elif num1 == num2:\n",
    "        return num1\n",
    "    return num2\n",
    "\n",
    "def new_greatest_of_three(a, b, c):\n",
    "    bigger = greater_of_two(a, b)\n",
    "    return greater_of_two(bigger, c)\n",
    "print(new_greatest_of_three(6, 23, 7))"
   ]
  },
  {
   "cell_type": "code",
   "execution_count": 25,
   "id": "4ed773a8",
   "metadata": {},
   "outputs": [
    {
     "name": "stdout",
     "output_type": "stream",
     "text": [
      "The given string madam is palindrome\n"
     ]
    }
   ],
   "source": [
    "def palindrome(str1):\n",
    "    if str1 == str1[::-1]:\n",
    "        return f\"The given string {str1} is palindrome\"\n",
    "    return \"Not a valid palindrome!\"\n",
    "\n",
    "print(palindrome(\"madam\"))"
   ]
  },
  {
   "cell_type": "code",
   "execution_count": null,
   "id": "c811ea51",
   "metadata": {},
   "outputs": [],
   "source": [
    "# Fibonacci series program                 0, 1, 1, 2, 3, 5, 8, 13, 21 ......\n",
    "\n",
    "def fibonacci_series(num1):        \n",
    "    a = 0\n",
    "    b = 1\n",
    "    \n",
    "    if num1 == 1:\n",
    "        return a\n",
    "    elif num1 == 2:\n",
    "        return (a, b)\n",
    "    else:\n",
    "        print(a, b, end = \" \")\n",
    "        for i in range(num1 - 2):\n",
    "            c = a + b # 3rd number\n",
    "            a = b\n",
    "            b = c\n",
    "            print(b, end = \" \")\n",
    "            "
   ]
  }
 ],
 "metadata": {
  "kernelspec": {
   "display_name": "Python 3",
   "language": "python",
   "name": "python3"
  },
  "language_info": {
   "codemirror_mode": {
    "name": "ipython",
    "version": 3
   },
   "file_extension": ".py",
   "mimetype": "text/x-python",
   "name": "python",
   "nbconvert_exporter": "python",
   "pygments_lexer": "ipython3",
   "version": "3.12.0"
  }
 },
 "nbformat": 4,
 "nbformat_minor": 5
}
