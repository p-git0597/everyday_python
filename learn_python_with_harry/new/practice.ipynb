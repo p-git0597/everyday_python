{
 "cells": [
  {
   "cell_type": "markdown",
   "metadata": {},
   "source": [
    "Type Conversion\n",
    "- Easy: Write a program that converts a float to an integer and an integer to a string.\n",
    "- Medium: Take user input as a string, convert it to a float, and calculate its square root.\n",
    "- Hard: Implement a custom function that takes a list of mixed data types (e.g., [\"5\", 3.14, \"7.5\"]) and converts all numeric strings to integers or floats while leaving others untouched."
   ]
  },
  {
   "cell_type": "markdown",
   "metadata": {},
   "source": [
    "## Strings\n",
    "1. **Easy**: Reverse a string.  \n",
    "2. **Medium**: Check if a string is a palindrome.  \n",
    "3. **Hard**: Write a function that counts the frequency of each character in a string."
   ]
  },
  {
   "cell_type": "markdown",
   "metadata": {},
   "source": [
    "## Formatted Strings\n",
    "1. **Easy**: Create a formatted string using f-strings to display your name and age.  \n",
    "2. **Medium**: Format a table of data using f-strings with alignment and spacing.  \n",
    "3. **Hard**: Format a date (e.g., `\"2025-01-12\"`) into a readable string like `\"12th January 2025\"`."
   ]
  },
  {
   "cell_type": "markdown",
   "metadata": {},
   "source": [
    "## String Methods\n",
    "1. **Easy**: Convert a string to uppercase and check if it contains a specific word.  \n",
    "2. **Medium**: Write a program that removes all vowels from a string.  \n",
    "3. **Hard**: Find the longest word in a given string.\n"
   ]
  },
  {
   "cell_type": "markdown",
   "metadata": {},
   "source": [
    "## Arithmetic Operations\n",
    "1. **Easy**: Perform addition, subtraction, multiplication, and division of two numbers.  \n",
    "2. **Medium**: Write a program to calculate the compound interest.  \n",
    "3. **Hard**: Create a function that evaluates a mathematical expression given as a string"
   ]
  },
  {
   "cell_type": "markdown",
   "metadata": {},
   "source": [
    "## Operator Precedence\n",
    "1. **Easy**: Predict the output of expressions like `5 + 2 * 3`.  \n",
    "2. **Medium**: Rewrite a complex expression to make its precedence explicit using parentheses.  \n",
    "3. **Hard**: Design a program that parses and evaluates expressions with custom precedence rules.\n"
   ]
  },
  {
   "cell_type": "markdown",
   "metadata": {},
   "source": [
    "## Math Functions\n",
    "1. **Easy**: Find the square root of a number using the `math` module.  \n",
    "2. **Medium**: Calculate the factorial of a number.  \n",
    "3. **Hard**: Write a program that generates the first 10 prime numbers.\n"
   ]
  },
  {
   "cell_type": "markdown",
   "metadata": {},
   "source": [
    "## If Statements\n",
    "1. **Easy**: Check if a number is positive, negative, or zero.  \n",
    "2. **Medium**: Determine if a year is a leap year.  \n",
    "3. **Hard**: Write a program that classifies a triangle as equilateral, isosceles, or scalene.\n"
   ]
  },
  {
   "cell_type": "markdown",
   "metadata": {},
   "source": [
    "## Logical Operators\n",
    "1. **Easy**: Write a program to check if a number is divisible by both 3 and 5.  \n",
    "2. **Medium**: Implement a login system where the user has three attempts to enter the correct password.  \n",
    "3. **Hard**: Simulate a light control system where multiple conditions determine if lights are on or off.\n"
   ]
  },
  {
   "cell_type": "markdown",
   "metadata": {},
   "source": [
    "## Comparison Operators\n",
    "1. **Easy**: Compare two numbers and print the larger one.  \n",
    "2. **Medium**: Write a program to check if three numbers form an arithmetic sequence.  \n",
    "3. **Hard**: Implement a grading system where marks are compared to ranges to assign grades.\n"
   ]
  },
  {
   "cell_type": "markdown",
   "metadata": {},
   "source": [
    "## Weight Converter Program\n",
    "1. Enhance the program to handle both kilograms-to-pounds and pounds-to-kilograms conversions.\n",
    "\n",
    "---\n",
    "\n",
    "## While Loops\n",
    "1. **Easy**: Print numbers from 1 to 10 using a while loop.  \n",
    "2. **Medium**: Write a program to find the sum of digits of a number.  \n",
    "3. **Hard**: Create a guessing game where the user has unlimited attempts, but the program gives hints like \"higher\" or \"lower.\"\n",
    "\n",
    "---"
   ]
  },
  {
   "cell_type": "markdown",
   "metadata": {},
   "source": [
    "## For Loops\n",
    "1. **Easy**: Print the multiplication table of a number.  \n",
    "2. **Medium**: Write a program to calculate the sum of even numbers in a list.  \n",
    "3. **Hard**: Implement the Sieve of Eratosthenes to find all prime numbers up to `n`.\n"
   ]
  },
  {
   "cell_type": "markdown",
   "metadata": {},
   "source": [
    "## Nested Loops\n",
    "1. **Easy**: Print a square pattern of stars (`*`).  \n",
    "2. **Medium**: Create Pascal’s Triangle.  \n",
    "3. **Hard**: Write a program to find all Pythagorean triples `(a, b, c)` where `a^2 + b^2 = c^2` and `a, b, c <= n`.\n"
   ]
  },
  {
   "cell_type": "markdown",
   "metadata": {},
   "source": [
    "## Lists\n",
    "1. **Easy**: Find the maximum and minimum values in a list.  \n",
    "2. **Medium**: Write a program to rotate a list by `k` positions.  \n",
    "3. **Hard**: Merge two sorted lists into one sorted list.\n"
   ]
  },
  {
   "cell_type": "markdown",
   "metadata": {},
   "source": [
    "## 2D Lists\n",
    "1. **Easy**: Print the diagonal elements of a 2D list.  \n",
    "2. **Medium**: Transpose a 2D list.  \n",
    "3. **Hard**: Implement matrix multiplication."
   ]
  },
  {
   "cell_type": "markdown",
   "metadata": {},
   "source": []
  }
 ],
 "metadata": {
  "language_info": {
   "name": "python"
  }
 },
 "nbformat": 4,
 "nbformat_minor": 2
}
