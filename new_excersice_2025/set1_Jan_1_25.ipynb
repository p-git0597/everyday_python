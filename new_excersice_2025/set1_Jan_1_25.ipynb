{
 "cells": [
  {
   "cell_type": "code",
   "execution_count": 3,
   "metadata": {},
   "outputs": [
    {
     "name": "stdout",
     "output_type": "stream",
     "text": [
      "The sum of two number is 42\n",
      "The sum of two user defined values is 14\n"
     ]
    }
   ],
   "source": [
    "# Adding two numbers (with pre-defined values)\n",
    "a = 21\n",
    "b = 21\n",
    "sum = a + b\n",
    "print(\"The sum of two number is\", sum)\n",
    "\n",
    "\n",
    "# Adding two numbers (with user defined values)\n",
    "num1 = int(input(\"Enter the first number: \"))\n",
    "num2 = int(input(\"Enter the second number: \"))\n",
    "\n",
    "sum = num1 + num2\n",
    "print(\"The sum of two user defined values is\", sum)"
   ]
  },
  {
   "cell_type": "code",
   "execution_count": null,
   "metadata": {},
   "outputs": [],
   "source": [
    "# Square root\n"
   ]
  }
 ],
 "metadata": {
  "kernelspec": {
   "display_name": "Python 3",
   "language": "python",
   "name": "python3"
  },
  "language_info": {
   "codemirror_mode": {
    "name": "ipython",
    "version": 3
   },
   "file_extension": ".py",
   "mimetype": "text/x-python",
   "name": "python",
   "nbconvert_exporter": "python",
   "pygments_lexer": "ipython3",
   "version": "3.12.0"
  }
 },
 "nbformat": 4,
 "nbformat_minor": 2
}
