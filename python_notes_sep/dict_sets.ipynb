{
 "cells": [
  {
   "cell_type": "markdown",
   "metadata": {},
   "source": [
    "- Dictionary in Python:\n",
    "\n",
    "Duplicates keys are not allowed "
   ]
  },
  {
   "cell_type": "code",
   "execution_count": 1,
   "metadata": {},
   "outputs": [
    {
     "name": "stdout",
     "output_type": "stream",
     "text": [
      "{'key': 'value', 'name': 'ram', 'learning': 'coding', 'age': 35, 'is_adult': True, 'marks': 94.5, 'subjects': ['python', 'c', 'java'], 'topics': ('dict', 'set')}\n",
      "<class 'dict'>\n"
     ]
    }
   ],
   "source": [
    "info = {\n",
    "    \"key\": \"value\",\n",
    "    \"name\": \"ram\",\n",
    "    \"learning\": \"coding\",\n",
    "    \"age\": 35,\n",
    "    \"is_adult\": True,\n",
    "    \"marks\": 94.5,\n",
    "    \"subjects\": [\"python\", \"c\", 'java'],\n",
    "    \"topics\": (\"dict\", \"set\")\n",
    "}\n",
    "\n",
    "print(info)\n",
    "print(type(info))"
   ]
  },
  {
   "cell_type": "code",
   "execution_count": 4,
   "metadata": {},
   "outputs": [
    {
     "name": "stdout",
     "output_type": "stream",
     "text": [
      "ram\n",
      "['python', 'c', 'java']\n"
     ]
    },
    {
     "ename": "KeyError",
     "evalue": "'lastname'",
     "output_type": "error",
     "traceback": [
      "\u001b[1;31m---------------------------------------------------------------------------\u001b[0m",
      "\u001b[1;31mKeyError\u001b[0m                                  Traceback (most recent call last)",
      "Cell \u001b[1;32mIn[4], line 3\u001b[0m\n\u001b[0;32m      1\u001b[0m \u001b[38;5;28mprint\u001b[39m(info[\u001b[38;5;124m\"\u001b[39m\u001b[38;5;124mname\u001b[39m\u001b[38;5;124m\"\u001b[39m])\n\u001b[0;32m      2\u001b[0m \u001b[38;5;28mprint\u001b[39m(info[\u001b[38;5;124m\"\u001b[39m\u001b[38;5;124msubjects\u001b[39m\u001b[38;5;124m\"\u001b[39m])\n\u001b[1;32m----> 3\u001b[0m \u001b[38;5;28mprint\u001b[39m(\u001b[43minfo\u001b[49m\u001b[43m[\u001b[49m\u001b[38;5;124;43m\"\u001b[39;49m\u001b[38;5;124;43mlastname\u001b[39;49m\u001b[38;5;124;43m\"\u001b[39;49m\u001b[43m]\u001b[49m)\n",
      "\u001b[1;31mKeyError\u001b[0m: 'lastname'"
     ]
    }
   ],
   "source": [
    "print(info[\"name\"])\n",
    "print(info[\"subjects\"])\n",
    "print(info[\"lastname\"])"
   ]
  },
  {
   "cell_type": "code",
   "execution_count": 5,
   "metadata": {},
   "outputs": [],
   "source": [
    "info[\"name\"] = \"Shyam\"\n",
    "info[\"srname\"] = \"Agrawal\"\n"
   ]
  },
  {
   "cell_type": "code",
   "execution_count": 8,
   "metadata": {},
   "outputs": [
    {
     "name": "stdout",
     "output_type": "stream",
     "text": [
      "{'key': 'value', 'name': 'Shyam', 'learning': 'coding', 'age': 35, 'is_adult': True, 'marks': 94.5, 'subjects': ['python', 'c', 'java'], 'topics': ('dict', 'set'), 'srname': 'Agrawal'}\n"
     ]
    }
   ],
   "source": [
    "print(info)"
   ]
  },
  {
   "cell_type": "code",
   "execution_count": 10,
   "metadata": {},
   "outputs": [
    {
     "name": "stdout",
     "output_type": "stream",
     "text": [
      "{'name': 'Ram Kumar', 'subjects': {'phyy': 97, 'chem': 88, 'maths': 99, 'bio': 76}}\n",
      "{'phyy': 97, 'chem': 88, 'maths': 99, 'bio': 76}\n",
      "99\n",
      "dict_keys(['name', 'subjects'])\n"
     ]
    }
   ],
   "source": [
    "# Nested dictionary:\n",
    "\n",
    "student = {\n",
    "    \"name\": \"Ram Kumar\",\n",
    "    \"subjects\" : {\n",
    "        \"phyy\": 97,\n",
    "        \"chem\": 88,\n",
    "        \"maths\": 99,\n",
    "        \"bio\": 76\n",
    "    }\n",
    "}\n",
    "\n",
    "print(student)\n",
    "print(student[\"subjects\"])\n",
    "print(student[\"subjects\"][\"maths\"])\n",
    "print(student.keys())"
   ]
  },
  {
   "cell_type": "code",
   "execution_count": 18,
   "metadata": {},
   "outputs": [
    {
     "name": "stdout",
     "output_type": "stream",
     "text": [
      "['name', 'subjects']\n",
      "2\n",
      "['phyy', 'chem', 'maths', 'bio']\n",
      "dict_values(['Ram Kumar', {'phyy': 97, 'chem': 88, 'maths': 99, 'bio': 76}])\n",
      "['Ram Kumar', {'phyy': 97, 'chem': 88, 'maths': 99, 'bio': 76}]\n",
      "dict_items([('name', 'Ram Kumar'), ('subjects', {'phyy': 97, 'chem': 88, 'maths': 99, 'bio': 76})])\n"
     ]
    }
   ],
   "source": [
    "# Type casting\n",
    "print(list(student.keys()))\n",
    "print(len(list(student.keys())))\n",
    "print(list(student[\"subjects\"].keys()))\n",
    "\n",
    "print(student.values())\n",
    "print(list(student.values()))\n",
    "\n",
    "# returns tuples\n",
    "print(student.items())"
   ]
  },
  {
   "cell_type": "code",
   "execution_count": 20,
   "metadata": {},
   "outputs": [
    {
     "name": "stdout",
     "output_type": "stream",
     "text": [
      "{'name': 'Ram Kumar', 'subjects': {'phyy': 97, 'chem': 88, 'maths': 99, 'bio': 76}, 'city': 'Delhi'}\n"
     ]
    }
   ],
   "source": [
    "student.update({\"city\": \"Delhi\"})\n",
    "print(student)"
   ]
  },
  {
   "cell_type": "markdown",
   "metadata": {},
   "source": [
    "Set in Python: -\n",
    "\n",
    "Set is a collection o the unordered items. Each element in set must be unique and immutable.\n",
    "\n",
    "Set is mutable but it's element are not mutable.\n",
    "\n",
    "Set can't store list and dict\n"
   ]
  },
  {
   "cell_type": "code",
   "execution_count": 21,
   "metadata": {},
   "outputs": [
    {
     "name": "stdout",
     "output_type": "stream",
     "text": [
      "{1, 2, 3, 4}\n",
      "<class 'set'>\n"
     ]
    }
   ],
   "source": [
    "collection = {1,2,3,4}\n",
    "print(collection)\n",
    "print(type(collection))"
   ]
  },
  {
   "cell_type": "code",
   "execution_count": 22,
   "metadata": {},
   "outputs": [
    {
     "name": "stdout",
     "output_type": "stream",
     "text": [
      "{1, 2, 3, 4, 5}\n"
     ]
    }
   ],
   "source": [
    "collection = {1,2,3,4,2,1,5,3,4}\n",
    "print(collection)\n"
   ]
  },
  {
   "cell_type": "code",
   "execution_count": 24,
   "metadata": {},
   "outputs": [
    {
     "name": "stdout",
     "output_type": "stream",
     "text": [
      "{1, 2, 4, ('Sam', 'am'), (1, 2, 5, 6)}\n",
      "{2, 4, ('Sam', 'am'), (1, 2, 5, 6)}\n"
     ]
    }
   ],
   "source": [
    "collection = set()\n",
    "\n",
    "collection.add(1)\n",
    "collection.add(2)\n",
    "collection.add(2)\n",
    "collection.add(4)\n",
    "collection.add((1,2,5,6))\n",
    "collection.add((\"Sam\", \"am\"))\n",
    "print(collection)\n",
    "\n",
    "collection.remove(1)\n",
    "print(collection)"
   ]
  },
  {
   "cell_type": "markdown",
   "metadata": {},
   "source": [
    "\n",
    " - Let's Practice\n",
    "1. Store following word meanings in a python dictionary:\n",
    "table: \"a piece of furniture\", \"list of facts & figures\"\n",
    "cat: \"a small animal\"\n",
    "2. You are given a list of subjects for students. Assume one classroom is required for 1 subject. How many classrooms are needed by all students.\n",
    "\"python\", \"java\", \"C++\", \"python\", \"javascript\",\n",
    "\"java\", \"python\", \"java\", \"C++\", \"C\""
   ]
  },
  {
   "cell_type": "code",
   "execution_count": 28,
   "metadata": {},
   "outputs": [
    {
     "name": "stdout",
     "output_type": "stream",
     "text": [
      "{'table': ['a piece of furniture', 'list of facts & figures'], 'cat': 'a small animal'}\n"
     ]
    }
   ],
   "source": [
    "home = {\"table\": [\"a piece of furniture\", \"list of facts & figures\"],\n",
    "        \"cat\": \"a small animal\"}\n",
    "print(home)"
   ]
  },
  {
   "cell_type": "code",
   "execution_count": 27,
   "metadata": {},
   "outputs": [
    {
     "name": "stdout",
     "output_type": "stream",
     "text": [
      "<class 'list'>\n",
      "{'C', 'C++', 'javascript', 'python', 'java'}\n",
      "<class 'set'>\n",
      "5\n"
     ]
    }
   ],
   "source": [
    "subjects = [\"python\", \"java\", \"C++\", \"python\", \"javascript\",\n",
    "\"java\", \"python\", \"java\", \"C++\", \"C\"]\n",
    "\n",
    "print(type(subjects))\n",
    "\n",
    "subjects = set(subjects)\n",
    "print(subjects)\n",
    "print(type(subjects))\n",
    "\n",
    "print(len(subjects))\n"
   ]
  },
  {
   "cell_type": "code",
   "execution_count": 30,
   "metadata": {},
   "outputs": [
    {
     "name": "stdout",
     "output_type": "stream",
     "text": [
      "{8, 8.25, 9}\n"
     ]
    }
   ],
   "source": [
    "# Store 9 and 9.0 in set\n",
    "\n",
    "values = {8, 8.25, 9, 9.0}\n",
    "print(values)"
   ]
  },
  {
   "cell_type": "code",
   "execution_count": 31,
   "metadata": {},
   "outputs": [
    {
     "name": "stdout",
     "output_type": "stream",
     "text": [
      "{9, '9.0'}\n",
      "{('float', 9.0), ('int', 9)}\n"
     ]
    }
   ],
   "source": [
    "# possible Solutions\n",
    "\n",
    "values = {9, \"9.0\"} # -> storing values in string format\n",
    "print(values)\n",
    "val = {(\"float\", 9.0),\n",
    "       (\"int\", 9)}\n",
    "\n",
    "print(val)"
   ]
  },
  {
   "cell_type": "code",
   "execution_count": null,
   "metadata": {},
   "outputs": [],
   "source": []
  }
 ],
 "metadata": {
  "kernelspec": {
   "display_name": "Python 3",
   "language": "python",
   "name": "python3"
  },
  "language_info": {
   "codemirror_mode": {
    "name": "ipython",
    "version": 3
   },
   "file_extension": ".py",
   "mimetype": "text/x-python",
   "name": "python",
   "nbconvert_exporter": "python",
   "pygments_lexer": "ipython3",
   "version": "3.12.0"
  }
 },
 "nbformat": 4,
 "nbformat_minor": 2
}
