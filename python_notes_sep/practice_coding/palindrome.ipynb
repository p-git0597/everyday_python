{
 "cells": [
  {
   "cell_type": "markdown",
   "metadata": {},
   "source": [
    "1. Write a Python program to check if a given string is a palindrome or not.\n"
   ]
  },
  {
   "cell_type": "code",
   "execution_count": 3,
   "metadata": {},
   "outputs": [
    {
     "name": "stdout",
     "output_type": "stream",
     "text": [
      "\"amanaplanacanalpanama\n",
      "\"A man a plan a canal Panama is not a palindrome\n"
     ]
    }
   ],
   "source": [
    "def is_palindrome(string):\n",
    "    # removing an spaces and convert the string to lowercase\n",
    "    cleaned_string = string.replace(\" \", \"\").lower()\n",
    "    print(cleaned_string)\n",
    "    # Check i the cleaned string is equal to its reverse\n",
    "    if cleaned_string == cleaned_string[::-1]:\n",
    "        return True\n",
    "    else:\n",
    "        return False\n",
    "    \n",
    "user_input = input(\"enter a string you want to check:\")\n",
    "\n",
    "if is_palindrome(user_input):\n",
    "    print(f\"{user_input} is palindrome\")\n",
    "else:\n",
    "    print(f\"{user_input} is not a palindrome\")\n",
    "    "
   ]
  },
  {
   "cell_type": "code",
   "execution_count": 7,
   "metadata": {},
   "outputs": [
    {
     "name": "stdout",
     "output_type": "stream",
     "text": [
      "mom is palindrome\n"
     ]
    }
   ],
   "source": [
    "# Using Loops:\n",
    "def is_palindrome(string):\n",
    "    cleaned_string = string.replace(\" \", \"\").lower()\n",
    "    left = 0\n",
    "    right = len(cleaned_string) - 1\n",
    "    \n",
    "    while left < right:\n",
    "        if cleaned_string[left] != cleaned_string[right]:\n",
    "            return False\n",
    "        left += 1\n",
    "        right -= 1\n",
    "        \n",
    "    return True\n",
    "\n",
    "user_input = input(\"enter a string you want to check:\")\n",
    "\n",
    "if is_palindrome(user_input):\n",
    "    print(f\"{user_input} is palindrome\")\n",
    "else:\n",
    "    print(f\"{user_input} is not a palindrome\")"
   ]
  },
  {
   "cell_type": "code",
   "execution_count": 10,
   "metadata": {},
   "outputs": [
    {
     "name": "stdout",
     "output_type": "stream",
     "text": [
      "A man a plan a canal Panama is palindrome\n"
     ]
    }
   ],
   "source": [
    "# Using Recrsion\n",
    "def is_palindrome_recurusice(string):\n",
    "    cleaned_string = string.replace(\" \", \"\").lower()\n",
    "    \n",
    "    if len(cleaned_string) <= 1:\n",
    "        return True\n",
    "    \n",
    "    if cleaned_string[0] == cleaned_string[-1]:\n",
    "        return is_palindrome_recurusice(cleaned_string[1:-1])\n",
    "    \n",
    "    return False\n",
    "\n",
    "user_input = input(\"enter a string you want to check:\")\n",
    "\n",
    "if is_palindrome(user_input):\n",
    "    print(f\"{user_input} is palindrome\")\n",
    "else:\n",
    "    print(f\"{user_input} is not a palindrome\")"
   ]
  },
  {
   "cell_type": "markdown",
   "metadata": {},
   "source": []
  }
 ],
 "metadata": {
  "kernelspec": {
   "display_name": "Python 3",
   "language": "python",
   "name": "python3"
  },
  "language_info": {
   "codemirror_mode": {
    "name": "ipython",
    "version": 3
   },
   "file_extension": ".py",
   "mimetype": "text/x-python",
   "name": "python",
   "nbconvert_exporter": "python",
   "pygments_lexer": "ipython3",
   "version": "3.12.0"
  }
 },
 "nbformat": 4,
 "nbformat_minor": 2
}
