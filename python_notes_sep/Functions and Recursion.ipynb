{
 "cells": [
  {
   "cell_type": "markdown",
   "metadata": {},
   "source": [
    "Functions in Python: -\n",
    "\n",
    "Block of statements that perform a specific task.\n",
    "\n",
    "def func_name(param1, param2...):\n",
    "    #some work\n",
    "    return val\n",
    "\n",
    "func_name(arg1, arg2...) #function call"
   ]
  },
  {
   "cell_type": "code",
   "execution_count": 1,
   "metadata": {},
   "outputs": [
    {
     "name": "stdout",
     "output_type": "stream",
     "text": [
      "5\n"
     ]
    }
   ],
   "source": [
    "# for example\n",
    "\n",
    "def sum(a, b):\n",
    "    s = a + b\n",
    "    return s\n",
    "\n",
    "print(sum(2, 3))"
   ]
  },
  {
   "cell_type": "code",
   "execution_count": 2,
   "metadata": {},
   "outputs": [
    {
     "name": "stdout",
     "output_type": "stream",
     "text": [
      "457\n"
     ]
    }
   ],
   "source": [
    "# Function deinition\n",
    "def cal_sum(a, b): # Parameters\n",
    "    return a + b\n",
    "\n",
    "sum = cal_sum(12, 445) # function call; arguments\n",
    "print(sum)"
   ]
  },
  {
   "cell_type": "code",
   "execution_count": 7,
   "metadata": {},
   "outputs": [
    {
     "data": {
      "text/plain": [
       "15.0"
      ]
     },
     "execution_count": 7,
     "metadata": {},
     "output_type": "execute_result"
    }
   ],
   "source": [
    "# avg of 3 numbers\n",
    "\n",
    "def avg_numbrs(a, b, c):\n",
    "    avg = (a+b+c)/3\n",
    "    return avg\n",
    "\n",
    "# print(avg_numbrs(5,10,5))\n",
    "avg_numbrs(15,15,15)  "
   ]
  },
  {
   "cell_type": "code",
   "execution_count": 11,
   "metadata": {},
   "outputs": [
    {
     "name": "stdout",
     "output_type": "stream",
     "text": [
      "Amchi Mumbai\n",
      "Mumbai Meri Jaan\n",
      "AmchiMumbai Mumbai Meri Jaan\n"
     ]
    }
   ],
   "source": [
    "# built-in function: - \n",
    "\n",
    "print(\"Amchi Mumbai\") # sep = \" \" -> by default\n",
    "print(\"Mumbai Meri Jaan\") \n",
    "\n",
    "\n",
    "print(\"AmchiMumbai\", end = \" \") # sep = \" \" -> by default\n",
    "print(\"Mumbai Meri Jaan\") # end = \"\\n\""
   ]
  },
  {
   "cell_type": "code",
   "execution_count": 17,
   "metadata": {},
   "outputs": [
    {
     "name": "stdout",
     "output_type": "stream",
     "text": [
      "8\n"
     ]
    }
   ],
   "source": [
    "# WAF tp print the length of a list\n",
    "\n",
    "def list_len(l1):\n",
    "    len_1 = len(l1)\n",
    "    return len_1\n",
    "\n",
    "print(list_len([1, 3, 4, 5,6,8,56, 7]))"
   ]
  },
  {
   "cell_type": "code",
   "execution_count": 19,
   "metadata": {},
   "outputs": [
    {
     "name": "stdout",
     "output_type": "stream",
     "text": [
      "1, 3, 4, 9, 67, 21, 55, 66, "
     ]
    }
   ],
   "source": [
    "# \n",
    "\n",
    "def list_in_line(lst):\n",
    "    for i in lst:\n",
    "        print(i, end = \", \")\n",
    "\n",
    "list_in_line([1, 3, 4, 9, 67, 21, 55, 66] )"
   ]
  },
  {
   "cell_type": "code",
   "execution_count": 22,
   "metadata": {},
   "outputs": [
    {
     "name": "stdout",
     "output_type": "stream",
     "text": [
      "24\n"
     ]
    }
   ],
   "source": [
    "def fact_numb(n):\n",
    "    fact = 1\n",
    "    for i in range(1, n):\n",
    "        fact = fact * i\n",
    "    print(fact)\n",
    "fact_numb(5)"
   ]
  },
  {
   "cell_type": "code",
   "execution_count": 21,
   "metadata": {},
   "outputs": [
    {
     "data": {
      "text/plain": [
       "250.35000000000002"
      ]
     },
     "execution_count": 21,
     "metadata": {},
     "output_type": "execute_result"
    }
   ],
   "source": [
    "def usd_inr(USD = 1, INR = 83.45):\n",
    "    conversion = USD * INR\n",
    "    return conversion\n",
    "\n",
    "usd_inr(3)"
   ]
  },
  {
   "cell_type": "code",
   "execution_count": 23,
   "metadata": {},
   "outputs": [
    {
     "name": "stdout",
     "output_type": "stream",
     "text": [
      "5\n"
     ]
    }
   ],
   "source": [
    "# Recursion\n",
    "\n",
    "def show(n):\n",
    "    print(n)\n",
    "    \n",
    "show(5)"
   ]
  },
  {
   "cell_type": "code",
   "execution_count": 26,
   "metadata": {},
   "outputs": [
    {
     "name": "stdout",
     "output_type": "stream",
     "text": [
      "5\n",
      "4\n",
      "3\n",
      "2\n",
      "1\n"
     ]
    }
   ],
   "source": [
    "def show(n):\n",
    "    if(n == 0): # -> base case\n",
    "        return\n",
    "    print(n)\n",
    "    show(n-1) # calling itself\n",
    "\n",
    "show(5)\n",
    "\n",
    "\n",
    "## Call Stack\n",
    "##### "
   ]
  },
  {
   "cell_type": "markdown",
   "metadata": {},
   "source": [
    "Call Stack- \n",
    "- call stack is a stack data structure that stores information about the active subroutines of a computer program. This type of stack is also known as an execution stack, program stack, control stack, run-time stack, or machine stack, and is often shortened to simply \"the stack\"."
   ]
  },
  {
   "cell_type": "code",
   "execution_count": 28,
   "metadata": {},
   "outputs": [
    {
     "data": {
      "text/plain": [
       "120"
      ]
     },
     "execution_count": 28,
     "metadata": {},
     "output_type": "execute_result"
    }
   ],
   "source": [
    "# Factorial woth recursion: - \n",
    "\n",
    "def fact(n):\n",
    "    if(n == 0 or n == 1):\n",
    "        return 1\n",
    "    else:\n",
    "        return n * fact(n-1)\n",
    "fact(5)"
   ]
  },
  {
   "cell_type": "code",
   "execution_count": 37,
   "metadata": {},
   "outputs": [
    {
     "data": {
      "text/plain": [
       "55"
      ]
     },
     "execution_count": 37,
     "metadata": {},
     "output_type": "execute_result"
    }
   ],
   "source": [
    "\n",
    "\n",
    "def nums_sum(n):\n",
    "    if (n == 0):\n",
    "        return 0\n",
    "    else:\n",
    "        return n + nums_sum(n - 1)\n",
    "\n",
    "nums_sum(5)\n",
    "nums_sum(10)"
   ]
  },
  {
   "cell_type": "code",
   "execution_count": 41,
   "metadata": {},
   "outputs": [
    {
     "name": "stdout",
     "output_type": "stream",
     "text": [
      "Hello\n",
      "1\n",
      "Ironman\n",
      "5\n",
      "3344\n",
      "3\n",
      "55\n"
     ]
    }
   ],
   "source": [
    "def len_list(list, indx = 0):\n",
    "    if (indx == len(list)):\n",
    "        return\n",
    "    print(list[indx])\n",
    "    len_list(list, indx + 1)\n",
    "    \n",
    "    \n",
    "    \n",
    "list = [\"Hello\", 1, \"Ironman\", 5, 3344, 3, 55]\n",
    "len_list(list)"
   ]
  },
  {
   "cell_type": "code",
   "execution_count": null,
   "metadata": {},
   "outputs": [],
   "source": []
  }
 ],
 "metadata": {
  "kernelspec": {
   "display_name": "Python 3",
   "language": "python",
   "name": "python3"
  },
  "language_info": {
   "codemirror_mode": {
    "name": "ipython",
    "version": 3
   },
   "file_extension": ".py",
   "mimetype": "text/x-python",
   "name": "python",
   "nbconvert_exporter": "python",
   "pygments_lexer": "ipython3",
   "version": "3.12.0"
  }
 },
 "nbformat": 4,
 "nbformat_minor": 2
}
