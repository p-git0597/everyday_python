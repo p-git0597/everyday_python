{
 "cells": [
  {
   "cell_type": "markdown",
   "metadata": {},
   "source": [
    "## OOP in Python: - \n",
    "- To map with real world scenarios, we started using objects in code.\n",
    "- This is called object oriented programming.\n",
    "\n",
    "1. Procedural\n",
    "2. Function - redundancyy reduce and reusability increased.\n",
    "3. OOP -> we use object and classes to increase reusability.\n",
    "\n",
    "- Class & Object in Python: - \n",
    "Class is a blueprint or creating objects.\n",
    "\n",
    "\n"
   ]
  },
  {
   "cell_type": "markdown",
   "metadata": {},
   "source": [
    "Object-Oriented Programming (OOP) in Python is built around four key pillars:\n",
    "1. Inheritance: A mechanism for creating new classes (child classes) that inherit attributes and methods from existing classes (parent classes). This promotes code reusability and establishes a hierarchical relationship between classes.\n",
    "2. Polymorphism: The ability of objects of different classes to respond to the same method call in a way that is specific to their class. This allows you to write code that can work with a variety of objects, regardless of their specific type.\n",
    "3. Encapsulation: The bundling of data and the methods that operate on that data within a single unit, known as a class. This provides data protection and hides the internal implementation details of a class from the outside world.\n",
    "4. Abstraction: The concept of hiding complex implementation details behind a simple interface. This allows users to interact with objects at a high level without needing to understand the low-level intricacies of how the object works."
   ]
  },
  {
   "cell_type": "code",
   "execution_count": 1,
   "metadata": {},
   "outputs": [
    {
     "name": "stdout",
     "output_type": "stream",
     "text": [
      "<__main__.Student object at 0x0000019656236060>\n",
      "Sampurna\n"
     ]
    }
   ],
   "source": [
    "# creating class\n",
    "class Student:\n",
    "    name = \"Sampurna\"\n",
    "    \n",
    "# creating object -> (instance)\n",
    "s1 = Student()\n",
    "print(s1)\n",
    "print(s1.name)"
   ]
  },
  {
   "cell_type": "code",
   "execution_count": 3,
   "metadata": {},
   "outputs": [
    {
     "name": "stdout",
     "output_type": "stream",
     "text": [
      "Blue\n",
      "Mercedes\n"
     ]
    }
   ],
   "source": [
    "# Example 2\n",
    "class Car:\n",
    "    color = \"Blue\"\n",
    "    brand = \"Mercedes\"\n",
    "    \n",
    "car1 = Car()\n",
    "print(car1.color)\n",
    "print(car1.brand)"
   ]
  },
  {
   "cell_type": "markdown",
   "metadata": {},
   "source": [
    "## __init__ Function: - \n",
    "\n",
    "- Constructor -> object creation\n",
    "\n",
    "All classes have a function called __init__(), which is always executed when the object is being initiated.\n",
    "\n",
    "- The self parameter is a reference to the current instance of the class, and is used to access variables that belongs to the class.\n"
   ]
  },
  {
   "cell_type": "code",
   "execution_count": 6,
   "metadata": {},
   "outputs": [
    {
     "name": "stdout",
     "output_type": "stream",
     "text": [
      "Adding a new student in Database.\n",
      "karan\n",
      "Adding a new student in Database.\n",
      "arjun\n"
     ]
    }
   ],
   "source": [
    "#creating class\n",
    "class Student:\n",
    "    def __init__(self, fullname ):\n",
    "        self.name = fullname\n",
    "        print(\"Adding a new student in Database.\")\n",
    "        \n",
    "#creating object\n",
    "s1 = Student(\"karan\")\n",
    "print(s1.name)\n",
    "\n",
    "s2 = Student(\"arjun\")\n",
    "print(s2.name)"
   ]
  },
  {
   "cell_type": "code",
   "execution_count": 7,
   "metadata": {},
   "outputs": [
    {
     "name": "stdout",
     "output_type": "stream",
     "text": [
      "Adding a new student in Database.\n",
      "karan 67\n",
      "Adding a new student in Database.\n",
      "arjun 89\n"
     ]
    }
   ],
   "source": [
    "#creating class\n",
    "class Student:\n",
    "    def __init__(self, name, marks):\n",
    "        self.name = name\n",
    "        self.marks = marks\n",
    "        print(\"Adding a new student in Database.\")\n",
    "        \n",
    "#creating object\n",
    "s1 = Student(\"karan\", 67)\n",
    "print(s1.name, s1.marks)\n",
    "\n",
    "s2 = Student(\"arjun\", 89)\n",
    "print(s2.name, s2.marks)"
   ]
  },
  {
   "cell_type": "code",
   "execution_count": 8,
   "metadata": {},
   "outputs": [],
   "source": [
    "# Default Constructors:- \n",
    "def __init__(self):\n",
    "    pass\n"
   ]
  },
  {
   "cell_type": "markdown",
   "metadata": {},
   "source": [
    "Class and Instances Attributes\n",
    "\n",
    "1. class.attr\n",
    "2. obj.attr"
   ]
  },
  {
   "cell_type": "markdown",
   "metadata": {},
   "source": [
    "Methods: - \n",
    "Methods are fuunctions that belong to objects.\n"
   ]
  },
  {
   "cell_type": "code",
   "execution_count": 12,
   "metadata": {},
   "outputs": [
    {
     "name": "stdout",
     "output_type": "stream",
     "text": [
      "hello karan 97\n"
     ]
    }
   ],
   "source": [
    "#creating class\n",
    "class Student:\n",
    "    def __init__(self, fullname, marks):\n",
    "        self.name = fullname\n",
    "        self.marks = marks\n",
    "    def hello(self):\n",
    "        print(\"hello\", self.name, self.marks)\n",
    "\n",
    "#creating object\n",
    "s1 = Student(\"karan\", 97)  \n",
    "s1.hello()"
   ]
  },
  {
   "cell_type": "code",
   "execution_count": 15,
   "metadata": {},
   "outputs": [
    {
     "name": "stdout",
     "output_type": "stream",
     "text": [
      "Hi pam your avg score is: 83.66666666666667\n",
      "Hi Sam your avg score is: 83.66666666666667\n"
     ]
    }
   ],
   "source": [
    "class Student:\n",
    "    def __init__(self, name, marks):\n",
    "        self.name = name\n",
    "        self.marks = marks\n",
    "    def get_avg(self):\n",
    "        sum = 0\n",
    "        for value in self.marks:\n",
    "            sum += value\n",
    "        print(f\"Hi\", self.name, \"your avg score is:\", sum / 3)\n",
    "            \n",
    "s1 = Student(\"pam\", [97, 87, 67])\n",
    "s1.get_avg()\n",
    "\n",
    "s1.name = \"Sam\"\n",
    "s1.get_avg()\n"
   ]
  },
  {
   "cell_type": "markdown",
   "metadata": {},
   "source": [
    "\n",
    "### Static Methods\n",
    "Methods that don't use the self parameter (work at class level)\n",
    "\n",
    "- Decorators allow us to wrap another function in order to\n",
    "extend the behaviour of the wrapped function, without permanently modifying it"
   ]
  },
  {
   "cell_type": "code",
   "execution_count": 16,
   "metadata": {},
   "outputs": [],
   "source": [
    "class Student:\n",
    "    @staticmethod #decorator\n",
    "    def college(): \n",
    "        print(\"ABC College\")"
   ]
  },
  {
   "cell_type": "code",
   "execution_count": 19,
   "metadata": {},
   "outputs": [
    {
     "name": "stdout",
     "output_type": "stream",
     "text": [
      "Rs. 1000 was debited\n",
      "total_balalnce =  -1000\n",
      "Rs. 500 was credited\n",
      "total_balalnce =  -500\n",
      "Rs. 44000 was credited\n",
      "total_balalnce =  43500\n"
     ]
    }
   ],
   "source": [
    "class Account:\n",
    "    def __init__(self, bal, acc):\n",
    "        self.balance = bal\n",
    "        self.account_no = acc\n",
    "    \n",
    "    def debit(self, amount):\n",
    "        self.balance =- amount\n",
    "        print(\"Rs.\", amount , \"was debited\")\n",
    "        print(\"total_balalnce = \", self.get_balance())\n",
    "    def credit(self, amount):\n",
    "        self.balance += amount\n",
    "        print(\"Rs.\", amount , \"was credited\")\n",
    "        print(\"total_balalnce = \", self.get_balance())\n",
    "            \n",
    "    def get_balance(self):\n",
    "        return self.balance\n",
    "    \n",
    "    \n",
    "    \n",
    "    \n",
    "acc1 = Account(10000, 12345)\n",
    "# print(acc1.balance)\n",
    "# print(acc1.account_no)\n",
    "acc1.debit(1000)\n",
    "acc1.credit(500)\n",
    "acc1.credit(44000)\n",
    "        "
   ]
  },
  {
   "cell_type": "code",
   "execution_count": 21,
   "metadata": {},
   "outputs": [
    {
     "name": "stdout",
     "output_type": "stream",
     "text": [
      "sam\n"
     ]
    },
    {
     "ename": "AttributeError",
     "evalue": "'Student' object has no attribute 'name'",
     "output_type": "error",
     "traceback": [
      "\u001b[1;31m---------------------------------------------------------------------------\u001b[0m",
      "\u001b[1;31mAttributeError\u001b[0m                            Traceback (most recent call last)",
      "Cell \u001b[1;32mIn[21], line 11\u001b[0m\n\u001b[0;32m      9\u001b[0m \u001b[38;5;28mprint\u001b[39m(s1\u001b[38;5;241m.\u001b[39mname)\n\u001b[0;32m     10\u001b[0m \u001b[38;5;28;01mdel\u001b[39;00m s1\u001b[38;5;241m.\u001b[39mname\n\u001b[1;32m---> 11\u001b[0m \u001b[38;5;28mprint\u001b[39m(\u001b[43ms1\u001b[49m\u001b[38;5;241;43m.\u001b[39;49m\u001b[43mname\u001b[49m)\n",
      "\u001b[1;31mAttributeError\u001b[0m: 'Student' object has no attribute 'name'"
     ]
    }
   ],
   "source": [
    "# del keyword\n",
    "class Student:\n",
    "    def __init__(self, name):\n",
    "        self.name = name\n",
    "        \n",
    "s1 = Student(\"sam\")\n",
    "# del s1\n",
    "# print(s1)\n",
    "print(s1.name)\n",
    "del s1.name\n",
    "print(s1.name)"
   ]
  },
  {
   "cell_type": "code",
   "execution_count": 23,
   "metadata": {},
   "outputs": [
    {
     "name": "stdout",
     "output_type": "stream",
     "text": [
      "1235\n",
      "abcde\n"
     ]
    }
   ],
   "source": [
    "#   Public\n",
    "\n",
    "class Account:\n",
    "    def __init__(self, acc_no, acc_pass):\n",
    "        self.acc_no = acc_no\n",
    "        self.acc_pass = acc_pass\n",
    "        \n",
    "\n",
    "acc1 = Account(\"1235\", \"abcde\")\n",
    "print(acc1.acc_no)\n",
    "print(acc1.acc_pass)"
   ]
  },
  {
   "cell_type": "markdown",
   "metadata": {},
   "source": [
    "\n",
    "### Private(like) attributes & methods\n",
    "- Conceptual Implementations in Python\n",
    "Private attributes & methods are meant to be used only within the class and are not accessible from outside the class."
   ]
  },
  {
   "cell_type": "code",
   "execution_count": 24,
   "metadata": {},
   "outputs": [
    {
     "name": "stdout",
     "output_type": "stream",
     "text": [
      "1235\n"
     ]
    },
    {
     "ename": "AttributeError",
     "evalue": "'Account' object has no attribute 'acc_pass'",
     "output_type": "error",
     "traceback": [
      "\u001b[1;31m---------------------------------------------------------------------------\u001b[0m",
      "\u001b[1;31mAttributeError\u001b[0m                            Traceback (most recent call last)",
      "Cell \u001b[1;32mIn[24], line 10\u001b[0m\n\u001b[0;32m      8\u001b[0m acc1 \u001b[38;5;241m=\u001b[39m Account(\u001b[38;5;124m\"\u001b[39m\u001b[38;5;124m1235\u001b[39m\u001b[38;5;124m\"\u001b[39m, \u001b[38;5;124m\"\u001b[39m\u001b[38;5;124mabcde\u001b[39m\u001b[38;5;124m\"\u001b[39m)\n\u001b[0;32m      9\u001b[0m \u001b[38;5;28mprint\u001b[39m(acc1\u001b[38;5;241m.\u001b[39macc_no)\n\u001b[1;32m---> 10\u001b[0m \u001b[38;5;28mprint\u001b[39m(\u001b[43macc1\u001b[49m\u001b[38;5;241;43m.\u001b[39;49m\u001b[43macc_pass\u001b[49m)\n",
      "\u001b[1;31mAttributeError\u001b[0m: 'Account' object has no attribute 'acc_pass'"
     ]
    }
   ],
   "source": [
    "# Private\n",
    "class Account:\n",
    "    def __init__(self, acc_no, acc_pass):\n",
    "        self.acc_no = acc_no\n",
    "        self.__acc_pass = acc_pass\n",
    "        \n",
    "\n",
    "acc1 = Account(\"1235\", \"abcde\")\n",
    "print(acc1.acc_no)\n",
    "print(acc1.acc_pass)"
   ]
  },
  {
   "cell_type": "markdown",
   "metadata": {},
   "source": [
    "### Inheritance\n",
    "When one class(child/derived) derives the properties and methods of another class(parent/base)."
   ]
  },
  {
   "cell_type": "code",
   "execution_count": 27,
   "metadata": {},
   "outputs": [
    {
     "name": "stdout",
     "output_type": "stream",
     "text": [
      "Fortuner\n",
      "car started...\n",
      "None\n"
     ]
    }
   ],
   "source": [
    "class Car:\n",
    "    @staticmethod\n",
    "    def start():\n",
    "        print(\"car started...\")\n",
    "    @staticmethod\n",
    "    def stop():\n",
    "        print(\"car stopped\")\n",
    "        \n",
    "class ToyotaCar(Car):\n",
    "    def __init__(self, name):\n",
    "        self.name = name\n",
    "\n",
    "car1 = ToyotaCar(\"Fortuner\")\n",
    "car2 = ToyotaCar(\"Prius\")\n",
    "\n",
    "print(car1.name)\n",
    "print(car1.start())"
   ]
  },
  {
   "cell_type": "code",
   "execution_count": 28,
   "metadata": {},
   "outputs": [
    {
     "name": "stdout",
     "output_type": "stream",
     "text": [
      "car started...\n",
      "None\n"
     ]
    }
   ],
   "source": [
    "# Multi-level Inheritance\n",
    "class Car:\n",
    "    @staticmethod\n",
    "    def start():\n",
    "        print(\"car started...\")\n",
    "    @staticmethod\n",
    "    def stop():\n",
    "        print(\"car stopped\")\n",
    "        \n",
    "class ToyotaCar(Car):\n",
    "    def __init__(self, brand):\n",
    "        self.brand = brand\n",
    "        \n",
    "class Fornuter(ToyotaCar):\n",
    "    def __init__(self, type):\n",
    "        self.type = type\n",
    "\n",
    "car1 = Fornuter(\"Petrol\")\n",
    "car2 = ToyotaCar(\"Prius\")\n",
    "\n",
    "print(car1.start())"
   ]
  },
  {
   "cell_type": "code",
   "execution_count": 30,
   "metadata": {},
   "outputs": [
    {
     "name": "stdout",
     "output_type": "stream",
     "text": [
      "welcome to class A\n",
      "Welcome to class B\n",
      "Welcome to class C\n"
     ]
    }
   ],
   "source": [
    "class A:\n",
    "    varA = \"welcome to class A\"\n",
    "    \n",
    "class B:\n",
    "    varB = \"Welcome to class B\"\n",
    "    \n",
    "class C(A, B):\n",
    "    varC = \"Welcome to class C\"\n",
    "    \n",
    "c1 = C()\n",
    "\n",
    "print(c1.varA)\n",
    "print(c1.varB)\n",
    "print(c1.varC)"
   ]
  },
  {
   "cell_type": "code",
   "execution_count": 32,
   "metadata": {},
   "outputs": [
    {
     "name": "stdout",
     "output_type": "stream",
     "text": [
      "electric\n"
     ]
    }
   ],
   "source": [
    "# Super method\n",
    "# Super method is used to access methods of the parent class.\n",
    "class Car:\n",
    "    def __init__(self, type):\n",
    "        self.type = type\n",
    "    \n",
    "    @staticmethod\n",
    "    def start():\n",
    "        print(\"car started...\")\n",
    "    @staticmethod\n",
    "    def stop():\n",
    "        print(\"car stopped\")\n",
    "        \n",
    "class ToyotaCar(Car):\n",
    "    def __init__(self, name, type):\n",
    "        self.name = name\n",
    "        super().__init__(type)\n",
    "        \n",
    "car1 = ToyotaCar(\"Prius\", \"electric\")\n",
    "\n",
    "print(car1.type)"
   ]
  },
  {
   "cell_type": "markdown",
   "metadata": {},
   "source": [
    "\n",
    "### class method\n",
    "A class method is bound to the class & receives the class as an implicit first argument.\n",
    "- Note - static method can't access or modify class state & generally for utility.\n",
    "\n",
    "```class Student:\n",
    "    @classmethod #decorator\n",
    "    def college( cls ):\n",
    "        pass\n",
    "```"
   ]
  },
  {
   "cell_type": "code",
   "execution_count": 33,
   "metadata": {},
   "outputs": [
    {
     "name": "stdout",
     "output_type": "stream",
     "text": [
      "rahul kumar\n",
      "rahul kumar\n"
     ]
    }
   ],
   "source": [
    "# Example 1\n",
    "\n",
    "class Person:\n",
    "    name = \"anonymous\"\n",
    "    def changeName(self, name):\n",
    "        self.__class__.name = name\n",
    "        # or slef.__class__. or Person.\n",
    "\n",
    "p1 = Person()\n",
    "p1.changeName(\"rahul kumar\")\n",
    "print(p1.name)\n",
    "print(Person.name)"
   ]
  },
  {
   "cell_type": "code",
   "execution_count": 34,
   "metadata": {},
   "outputs": [
    {
     "name": "stdout",
     "output_type": "stream",
     "text": [
      "rahul kumar\n",
      "rahul kumar\n"
     ]
    }
   ],
   "source": [
    "class Person:\n",
    "    name = \"anonymous\"\n",
    "    \n",
    "    @classmethod\n",
    "    def changeName(cls, name):\n",
    "        cls.name = name\n",
    "\n",
    "p1 = Person()\n",
    "p1.changeName(\"rahul kumar\")\n",
    "print(p1.name)\n",
    "print(Person.name)"
   ]
  },
  {
   "cell_type": "markdown",
   "metadata": {},
   "source": [
    "1. static method - () no method touched \n",
    "2. class method - (cls) only class attribute touched\n",
    "3. instance method - (self)"
   ]
  },
  {
   "cell_type": "code",
   "execution_count": 36,
   "metadata": {},
   "outputs": [
    {
     "name": "stdout",
     "output_type": "stream",
     "text": [
      "87.33333333333333%\n",
      "77\n",
      "87.33333333333333%\n"
     ]
    }
   ],
   "source": [
    "class Student:\n",
    "    \n",
    "    def __init__(self, phy, chem, math):\n",
    "        self.chem = chem\n",
    "        self.phy = phy\n",
    "        self.math = math\n",
    "        # we can write here itself -\n",
    "        self.percentage = str((self.phy + self.chem + self.math) / 3) + \"%\"\n",
    "        \n",
    "        #percentage\n",
    "\n",
    "stu1 = Student(86, 89, 87)\n",
    "print(stu1.percentage)\n",
    "\n",
    "# now imagine if teacher recheck the phy paper and rewrite the marks\n",
    "stu1.phy = 77\n",
    "print(stu1.phy)\n",
    "print(stu1.percentage)\n",
    "        "
   ]
  },
  {
   "cell_type": "code",
   "execution_count": 38,
   "metadata": {},
   "outputs": [
    {
     "name": "stdout",
     "output_type": "stream",
     "text": [
      "87.33333333333333%\n",
      "84.33333333333333%\n"
     ]
    }
   ],
   "source": [
    "class Student:\n",
    "    \n",
    "    def __init__(self, phy, chem, math):\n",
    "        self.chem = chem\n",
    "        self.phy = phy\n",
    "        self.math = math\n",
    "\n",
    "        \n",
    "    @property\n",
    "    def percentage(self):\n",
    "        return str((self.phy + self.chem + self.math) / 3) + \"%\"\n",
    "\n",
    "stu1 = Student(86, 89, 87)\n",
    "print(stu1.percentage)\n",
    "\n",
    "stu1.phy = 77\n",
    "print(stu1.percentage)"
   ]
  },
  {
   "cell_type": "code",
   "execution_count": 43,
   "metadata": {},
   "outputs": [
    {
     "name": "stdout",
     "output_type": "stream",
     "text": [
      "1 i + 44 j\n",
      "4 i + 23 j\n",
      "5 i + 67 j\n"
     ]
    }
   ],
   "source": [
    "class Complex:\n",
    "    \n",
    "    def __init__(self, real, img):\n",
    "        self.real = real\n",
    "        self.img = img\n",
    "        \n",
    "    def showNumber(self):\n",
    "        print(self.real,\"i +\", self.img,\"j\")\n",
    "        \n",
    "    def add(self, num2):\n",
    "        newReal = self.real + num2.real\n",
    "        newImg = self.img + num2.img\n",
    "        return Complex(newReal, newImg)\n",
    "num1 = Complex(1, 44)\n",
    "num1.showNumber()\n",
    "\n",
    "num2 = Complex(4, 23)\n",
    "num2.showNumber()\n",
    "\n",
    "num3 = num1.add(num2)\n",
    "num3.showNumber()\n"
   ]
  },
  {
   "cell_type": "code",
   "execution_count": 45,
   "metadata": {},
   "outputs": [
    {
     "name": "stdout",
     "output_type": "stream",
     "text": [
      "1 i + 44 j\n",
      "4 i + 23 j\n",
      "5 i + 67 j\n",
      "-3 i + 21 j\n"
     ]
    }
   ],
   "source": [
    "class Complex:\n",
    "    \n",
    "    def __init__(self, real, img):\n",
    "        self.real = real\n",
    "        self.img = img\n",
    "        \n",
    "    def showNumber(self):\n",
    "        print(self.real,\"i +\", self.img,\"j\")\n",
    "    # Duunder function    \n",
    "    def __add__(self, num2):\n",
    "        newReal = self.real + num2.real\n",
    "        newImg = self.img + num2.img\n",
    "        return Complex(newReal, newImg)\n",
    "    \n",
    "    def __sub__(self, num2):\n",
    "        newReal = self.real - num2.real\n",
    "        newImg = self.img - num2.img\n",
    "        return Complex(newReal, newImg)\n",
    "num1 = Complex(1, 44)\n",
    "num1.showNumber()\n",
    "\n",
    "num2 = Complex(4, 23)\n",
    "num2.showNumber()\n",
    "\n",
    "num3 = num1 + num2\n",
    "num3.showNumber()\n",
    "\n",
    "num4 = num1 - num2\n",
    "num4.showNumber()"
   ]
  },
  {
   "cell_type": "code",
   "execution_count": null,
   "metadata": {},
   "outputs": [],
   "source": []
  }
 ],
 "metadata": {
  "kernelspec": {
   "display_name": "Python 3",
   "language": "python",
   "name": "python3"
  },
  "language_info": {
   "codemirror_mode": {
    "name": "ipython",
    "version": 3
   },
   "file_extension": ".py",
   "mimetype": "text/x-python",
   "name": "python",
   "nbconvert_exporter": "python",
   "pygments_lexer": "ipython3",
   "version": "3.12.0"
  }
 },
 "nbformat": 4,
 "nbformat_minor": 2
}
