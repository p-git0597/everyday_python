{
 "cells": [
  {
   "cell_type": "markdown",
   "metadata": {},
   "source": [
    "https://stackoverflow.com/questions/1466000/difference-between-modes-a-a-w-w-and-r-in-built-in-open-function"
   ]
  },
  {
   "cell_type": "code",
   "execution_count": null,
   "metadata": {},
   "outputs": [],
   "source": [
    "f = open(\"file_name\", \"mode\") # -> r: read mode default, w: write mode\n",
    "data = f.read()\n",
    "f.close()"
   ]
  },
  {
   "cell_type": "code",
   "execution_count": 2,
   "metadata": {},
   "outputs": [
    {
     "name": "stdout",
     "output_type": "stream",
     "text": [
      "1. DataTypes\n",
      "2. Strings - Slicing\n",
      "3. List and Tupless - Slicing\n",
      "4. Dictionary and Sets\n",
      "5. Loops\n",
      "6. Functions and Recursion\n",
      "7. File Input and Output\n",
      "8. OOPS Part 1\n",
      "9. OOPS Part 2\n",
      "10. Mini Project\n",
      "<class 'str'>\n"
     ]
    }
   ],
   "source": [
    "file = open(\"details.txt\", \"r\")\n",
    "data = file.read()\n",
    "print(data)\n",
    "print(type(data))\n",
    "file.close()"
   ]
  },
  {
   "cell_type": "code",
   "execution_count": 3,
   "metadata": {},
   "outputs": [
    {
     "name": "stdout",
     "output_type": "stream",
     "text": [
      "1. DataTypes\n",
      "2.\n"
     ]
    }
   ],
   "source": [
    "file = open(\"details.txt\", \"r\")\n",
    "data = file.read(15)\n",
    "print(data)\n",
    "file.close()"
   ]
  },
  {
   "cell_type": "code",
   "execution_count": 5,
   "metadata": {},
   "outputs": [
    {
     "name": "stdout",
     "output_type": "stream",
     "text": [
      "1. DataTypes\n",
      "\n",
      "2. Strings - Slicing\n",
      "\n"
     ]
    }
   ],
   "source": [
    "file = open(\"details.txt\", \"r\")\n",
    "line1 = file.readline()\n",
    "print(line1)\n",
    "line2 = file.readline()\n",
    "print(line2)\n",
    "file.close()"
   ]
  },
  {
   "cell_type": "code",
   "execution_count": 7,
   "metadata": {},
   "outputs": [
    {
     "name": "stdout",
     "output_type": "stream",
     "text": [
      "1. DataTypes\n",
      "2. Strings - Slicing\n",
      "3. List and Tupless - Slicing\n",
      "4. Dictionary and Sets\n",
      "5. Loops\n",
      "6. Functions and Recursion\n",
      "7. File Input and Output\n",
      "8. OOPS Part 1\n",
      "9. OOPS Part 2\n",
      "10. Mini Project\n",
      "\n",
      "\n"
     ]
    }
   ],
   "source": [
    "file = open(\"details.txt\", \"r\")\n",
    "\n",
    "data = file.read()\n",
    "print(data)\n",
    "\n",
    "line1 = file.readline()\n",
    "print(line1)\n",
    "line2 = file.readline()\n",
    "print(line2)\n",
    "file.close()\n",
    "\n",
    "## if you see the output we wont get the output for \n",
    "# the readline as we have already read the data once"
   ]
  },
  {
   "cell_type": "markdown",
   "metadata": {},
   "source": [
    "\n",
    "- Writing to a file"
   ]
  },
  {
   "cell_type": "code",
   "execution_count": null,
   "metadata": {},
   "outputs": [],
   "source": [
    "f = open(\"demo.txt\", \"w\")\n",
    "f.write(\"this is a new line\") #overwrites the entire file\n",
    "\n",
    "f = open( \"demo.txt\", \"a\")\n",
    "f.write(\"this is a new line\") #adds to the file at the end"
   ]
  },
  {
   "cell_type": "code",
   "execution_count": 9,
   "metadata": {},
   "outputs": [],
   "source": [
    "f = open(\"demo.txt\", \"w\")\n",
    "f.write(\"Hello, I want to learn python in 3 months\")\n",
    "f.close()"
   ]
  },
  {
   "cell_type": "code",
   "execution_count": 12,
   "metadata": {},
   "outputs": [],
   "source": [
    "f = open(\"demo.txt\", \"a\")\n",
    "f.write(\"\\n Hello, I also want to learn Azure after that.\")\n",
    "f.close()"
   ]
  },
  {
   "cell_type": "code",
   "execution_count": 13,
   "metadata": {},
   "outputs": [],
   "source": [
    "f = open(\"sample.txt\", \"a\")\n",
    "f.write(\"Hello, I also want to learn Azure after that.\")\n",
    "f.close()"
   ]
  },
  {
   "cell_type": "markdown",
   "metadata": {},
   "source": [
    "The argument mode points to a string beginning with one of the following\n",
    " sequences (Additional characters may follow these sequences.):\n",
    "\n",
    " ``r''   Open text file for reading.  The stream is positioned at the\n",
    "         beginning of the file.\n",
    "\n",
    " ``r+''  Open for reading and writing.  The stream is positioned at the\n",
    "         beginning of the file.\n",
    "\n",
    " ``w''   Truncate file to zero length or create text file for writing.\n",
    "         The stream is positioned at the beginning of the file.\n",
    "\n",
    " ``w+''  Open for reading and writing.  The file is created if it does not\n",
    "         exist, otherwise it is truncated.  The stream is positioned at\n",
    "         the beginning of the file.\n",
    "\n",
    " ``a''   Open for writing.  The file is created if it does not exist.  The\n",
    "         stream is positioned at the end of the file.  Subsequent writes\n",
    "         to the file will always end up at the then current end of file,\n",
    "         irrespective of any intervening fseek(3) or similar.\n",
    "\n",
    " ``a+''  Open for reading and writing.  The file is created if it does not\n",
    "         exist.  The stream is positioned at the end of the file.  Subse-\n",
    "         quent writes to the file will always end up at the then current\n",
    "         end of file, irrespective of any intervening fseek(3) or similar."
   ]
  },
  {
   "cell_type": "code",
   "execution_count": 14,
   "metadata": {},
   "outputs": [
    {
     "name": "stdout",
     "output_type": "stream",
     "text": [
      "Hello, I also want to learn Azure after that.\n"
     ]
    }
   ],
   "source": [
    "# with Syntax: -\n",
    "# this automatically closes the file \n",
    "with open(\"sample.txt\", \"r\") as f:\n",
    "    data = f.read()\n",
    "    print(data)"
   ]
  },
  {
   "cell_type": "code",
   "execution_count": 17,
   "metadata": {},
   "outputs": [],
   "source": [
    "with open(\"sample.txt\", \"w\") as f:\n",
    "    f.write(\"Hello this is new data here.\")"
   ]
  },
  {
   "cell_type": "markdown",
   "metadata": {},
   "source": [
    "\n",
    "- Deleting a File: -\n",
    "1. using the os module\n",
    "2. Module (like a code library) is a file written by another programmer that generally has a functions we can use.\n",
    "\n",
    "##### import os\n",
    "##### os.remove(filename)"
   ]
  },
  {
   "cell_type": "code",
   "execution_count": 18,
   "metadata": {},
   "outputs": [],
   "source": [
    "import os"
   ]
  },
  {
   "cell_type": "code",
   "execution_count": null,
   "metadata": {},
   "outputs": [],
   "source": [
    "import os\n",
    "# removing the sample file here\n",
    "os.remove(\"sample.txt\")"
   ]
  },
  {
   "cell_type": "code",
   "execution_count": 24,
   "metadata": {},
   "outputs": [],
   "source": [
    "with open(\"practice.txt\", \"w\") as f:\n",
    "    f.write(\"Hi everyone \\nwe are learning File I/O \\nusing Java. \\nI like programming in Java\")"
   ]
  },
  {
   "cell_type": "code",
   "execution_count": 27,
   "metadata": {},
   "outputs": [
    {
     "name": "stdout",
     "output_type": "stream",
     "text": [
      "Hi everyone \n",
      "we are learning File I/O \n",
      "using Python. \n",
      "I like programming in Python\n"
     ]
    }
   ],
   "source": [
    "with open(\"practice.txt\", \"r+\") as f:\n",
    "    data = f.read()\n",
    "    d = data.replace(\"Java\", \"Python\")\n",
    "    print(d)\n",
    "    f.write(d)"
   ]
  },
  {
   "cell_type": "code",
   "execution_count": 29,
   "metadata": {},
   "outputs": [
    {
     "name": "stdout",
     "output_type": "stream",
     "text": [
      "Hi everyone \n",
      "we are learning File I/O \n",
      "using Python. \n",
      "I like programming in Python.\n"
     ]
    }
   ],
   "source": [
    "with open(\"practice.txt\", \"r\") as f:\n",
    "    data = f.read()\n",
    "new_data = data.replace(\"Java\", \"Python\")\n",
    "print(new_data)\n",
    "with open(\"practice.txt\", \"w\") as f:\n",
    "    f.write(new_data)"
   ]
  },
  {
   "cell_type": "code",
   "execution_count": 30,
   "metadata": {},
   "outputs": [
    {
     "data": {
      "text/plain": [
       "20"
      ]
     },
     "execution_count": 30,
     "metadata": {},
     "output_type": "execute_result"
    }
   ],
   "source": [
    "with open(\"practice.txt\", \"r\") as f:\n",
    "    data = f.read()\n",
    "\n",
    "data.find(\"learning\")"
   ]
  },
  {
   "cell_type": "code",
   "execution_count": 33,
   "metadata": {},
   "outputs": [
    {
     "name": "stdout",
     "output_type": "stream",
     "text": [
      "3\n",
      "None\n"
     ]
    }
   ],
   "source": [
    "\n",
    "def check_for_line(): \n",
    "    word = \"Python\" \n",
    "    data = True\n",
    "    line_no = 1\n",
    "    with open(\"practice.txt\",\"r\") as f:\n",
    "        while data:\n",
    "            data = f.readline()\n",
    "            if(word in data):\n",
    "                print(line_no)\n",
    "                return\n",
    "            line_no += 1\n",
    "    return -1\n",
    "print(check_for_line())\n"
   ]
  },
  {
   "cell_type": "code",
   "execution_count": null,
   "metadata": {},
   "outputs": [],
   "source": [
    "# "
   ]
  }
 ],
 "metadata": {
  "kernelspec": {
   "display_name": "Python 3",
   "language": "python",
   "name": "python3"
  },
  "language_info": {
   "codemirror_mode": {
    "name": "ipython",
    "version": 3
   },
   "file_extension": ".py",
   "mimetype": "text/x-python",
   "name": "python",
   "nbconvert_exporter": "python",
   "pygments_lexer": "ipython3",
   "version": "3.12.0"
  }
 },
 "nbformat": 4,
 "nbformat_minor": 2
}
