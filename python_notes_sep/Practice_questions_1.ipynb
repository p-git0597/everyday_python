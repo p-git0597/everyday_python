{
 "cells": [
  {
   "cell_type": "markdown",
   "metadata": {},
   "source": [
    "Topics: - \n",
    "1. DataTypes\n",
    "2. Strings - Slicing\n",
    "3. List and Tupless - Slicing\n",
    "4. Dictionary and Sets\n",
    "5. Loops"
   ]
  },
  {
   "cell_type": "markdown",
   "metadata": {},
   "source": [
    "Practice Questions list: - \n",
    "1. Create a variable called age and assign it an integer value. Then, write an if statement to check if the age is greater than or equal to 18. If it is, print \"You are an adult.\"\n",
    "2. Create a list of your favorite fruits. Use a for loop to print each fruit on a separate line.\n",
    "3. Write a program that asks the user to input their name and then prints \"Hello, [name]!\"\n",
    "4. Create a dictionary of five countries and their capitals. Write a program that asks the user to enter a country name and prints its capital. If the country is not in the dictionary, print \"Country not found.\"\n",
    "5. Write a function that takes a list of numbers as an argument and returns the sum of all even numbers in the list.\n",
    "6. Create a tuple containing the months of the year. Ask the user to input a number between 1 and 12, then print the corresponding month. If the number is out of range, print an error message.\n",
    "7. Write a program that generates a random number between 1 and 100, then asks the user to guess the number. Provide hints like \"Too high\" or \"Too low\" until the user guesses correctly. Keep track of the number of guesses and print it when the user wins.\n",
    "8. Create a function that takes a string as input and returns a dictionary where the keys are the characters in the string, and the values are the number of times each character appears in the string. Ignore spaces and make the function case-insensitive.\n",
    "9. Write a program that simulates a simple bank account. Create a dictionary to store account information (account number, balance). Implement functions for depositing, withdrawing, and checking the balance. Handle cases where the user tries to withdraw more money than is available in the account.\n",
    "10. Create a set of prime numbers less than 50. Then, write a function that takes a number as input and returns True if it's prime, and False otherwise. Use your set of prime numbers to optimize the function for numbers less than 50."
   ]
  },
  {
   "cell_type": "code",
   "execution_count": null,
   "metadata": {},
   "outputs": [],
   "source": []
  }
 ],
 "metadata": {
  "language_info": {
   "name": "python"
  }
 },
 "nbformat": 4,
 "nbformat_minor": 2
}
