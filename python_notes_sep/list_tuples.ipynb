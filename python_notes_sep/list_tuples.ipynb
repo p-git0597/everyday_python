{
 "cells": [
  {
   "cell_type": "markdown",
   "metadata": {},
   "source": [
    "- Strings -> Immutable\n",
    "- Lists -> Mutable"
   ]
  },
  {
   "cell_type": "code",
   "execution_count": 2,
   "metadata": {},
   "outputs": [
    {
     "name": "stdout",
     "output_type": "stream",
     "text": [
      "[94, 6, 63]\n",
      "[94, 6, 63, 48]\n"
     ]
    }
   ],
   "source": [
    "marks = [85, 94, 6, 63, 48]\n",
    "print(marks[1:4])\n",
    "print(marks[1:])"
   ]
  },
  {
   "cell_type": "code",
   "execution_count": 9,
   "metadata": {},
   "outputs": [
    {
     "name": "stdout",
     "output_type": "stream",
     "text": [
      "[85, 94, 6, 63, 48, 4]\n",
      "[4, 48, 63, 6, 94, 85]\n"
     ]
    }
   ],
   "source": [
    "marks = [85, 94, 6, 63, 48]\n",
    "marks.append(4)\n",
    "print(marks)\n",
    "\n",
    "marks.reverse()\n",
    "print(marks)"
   ]
  },
  {
   "cell_type": "code",
   "execution_count": 10,
   "metadata": {},
   "outputs": [
    {
     "name": "stdout",
     "output_type": "stream",
     "text": [
      "[94, 85, 63, 48, 6, 4]\n",
      "[4, 6, 48, 63, 85, 94]\n",
      "None\n"
     ]
    }
   ],
   "source": [
    "marks.sort(reverse=True)\n",
    "print(marks)\n",
    "marks.sort(reverse=False)\n",
    "print(marks)\n",
    "# this gives nothing\n",
    "print(marks.sort())\n"
   ]
  },
  {
   "cell_type": "code",
   "execution_count": 12,
   "metadata": {},
   "outputs": [
    {
     "name": "stdout",
     "output_type": "stream",
     "text": [
      "[4, 34, 34, 6, 48, 55, 63, 85, 94]\n"
     ]
    }
   ],
   "source": [
    "marks.insert(1, 34)\n",
    "marks.insert(5, 55)\n",
    "\n",
    "print(marks)"
   ]
  },
  {
   "cell_type": "markdown",
   "metadata": {},
   "source": [
    "Tuples - are immutable"
   ]
  },
  {
   "cell_type": "code",
   "execution_count": 13,
   "metadata": {},
   "outputs": [
    {
     "name": "stdout",
     "output_type": "stream",
     "text": [
      "<class 'tuple'>\n"
     ]
    }
   ],
   "source": [
    "tup = (8,34,66,77,54,79)\n",
    "print(type(tup))"
   ]
  },
  {
   "cell_type": "code",
   "execution_count": 16,
   "metadata": {},
   "outputs": [
    {
     "name": "stdout",
     "output_type": "stream",
     "text": [
      "8\n"
     ]
    },
    {
     "data": {
      "text/plain": [
       "79"
      ]
     },
     "execution_count": 16,
     "metadata": {},
     "output_type": "execute_result"
    }
   ],
   "source": [
    "print(tup[0])\n",
    "tup[5]"
   ]
  },
  {
   "cell_type": "code",
   "execution_count": 20,
   "metadata": {},
   "outputs": [
    {
     "name": "stdout",
     "output_type": "stream",
     "text": [
      "(1,)\n",
      "<class 'tuple'>\n",
      "<class 'int'>\n"
     ]
    }
   ],
   "source": [
    "tup1 = (1,)\n",
    "print(tup1)\n",
    "print(type(tup1))\n",
    "\n",
    "# Always add , if you have only one elements\n",
    "tup2 = (8)\n",
    "print(type(tup2))"
   ]
  },
  {
   "cell_type": "markdown",
   "metadata": {},
   "source": [
    "tup = (1,2,3,4)\n",
    "\n",
    "- tup.index() \n",
    "- tup.count()"
   ]
  },
  {
   "cell_type": "code",
   "execution_count": 32,
   "metadata": {},
   "outputs": [
    {
     "name": "stdout",
     "output_type": "stream",
     "text": [
      "['Don', 'Don2', 'RACE']\n"
     ]
    }
   ],
   "source": [
    "# WAP to ask the user to enter names of their 3 avourite movies and store them in a list.\n",
    "\n",
    "movies_list = []\n",
    "a = input(\"ENter a movie\")\n",
    "b = input(\"ENter a movie\")\n",
    "c = input(\"ENter a movie\")\n",
    "\n",
    "movies_list.append(a)\n",
    "movies_list.append(b)\n",
    "movies_list.append(c)\n",
    "\n",
    "print(movies_list) "
   ]
  },
  {
   "cell_type": "code",
   "execution_count": 33,
   "metadata": {},
   "outputs": [
    {
     "name": "stdout",
     "output_type": "stream",
     "text": [
      "['r', 'r', 'r']\n"
     ]
    }
   ],
   "source": [
    "movies = []\n",
    "movies.append(input(\"ENter 1st movie\"))\n",
    "movies.append(input(\"ENter 2nd movie\"))\n",
    "movies.append(input(\"ENter 3rd movie\"))\n",
    "print(movies)\n"
   ]
  },
  {
   "cell_type": "code",
   "execution_count": 35,
   "metadata": {},
   "outputs": [
    {
     "name": "stdout",
     "output_type": "stream",
     "text": [
      "The list [1, 'abc', 'abc', 1] is palindrome\n",
      "The list [1, 2, 3, 2, 1] is palindrome\n"
     ]
    }
   ],
   "source": [
    "list1 = [1,2,3,2,1]\n",
    "l1 = list1.copy()\n",
    "l1.reverse()\n",
    "list2 = [1, \"abc\", \"abc\", 1]\n",
    "l2 = list2.copy()\n",
    "l2.reverse()\n",
    "\n",
    "if list2 == l2:\n",
    "    print(f\"The list {list2} is palindrome\")\n",
    "if list1 == l1:\n",
    "    print(f\"The list {list1} is palindrome\")\n",
    "else:\n",
    "    print(\"We don't have a palindrome list\")"
   ]
  },
  {
   "cell_type": "code",
   "execution_count": null,
   "metadata": {},
   "outputs": [],
   "source": []
  }
 ],
 "metadata": {
  "kernelspec": {
   "display_name": "Python 3",
   "language": "python",
   "name": "python3"
  },
  "language_info": {
   "codemirror_mode": {
    "name": "ipython",
    "version": 3
   },
   "file_extension": ".py",
   "mimetype": "text/x-python",
   "name": "python",
   "nbconvert_exporter": "python",
   "pygments_lexer": "ipython3",
   "version": "3.12.0"
  }
 },
 "nbformat": 4,
 "nbformat_minor": 2
}
