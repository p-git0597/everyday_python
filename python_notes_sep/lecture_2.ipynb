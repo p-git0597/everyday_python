{
 "cells": [
  {
   "cell_type": "markdown",
   "metadata": {},
   "source": [
    "- Strings\n",
    "\n",
    "Concatenation: -\n",
    "\"Hello\" + \"World\" --> \"HelloWorld\"\n",
    "\n",
    "len(str)\n",
    "\n",
    "### Escape secuence character\n",
    "\\n -> next line"
   ]
  },
  {
   "cell_type": "code",
   "execution_count": 3,
   "metadata": {},
   "outputs": [
    {
     "name": "stdout",
     "output_type": "stream",
     "text": [
      "This is a string.\n",
      " we are crreating it in python\n"
     ]
    }
   ],
   "source": [
    "str1 = \"This is a string\"\n",
    "str2 = 'This is another string'\n",
    "str3 = \"\"\"Apna kaam kar\"\"\"\n",
    "\n",
    "str4 = \"This is a string.\\n we are crreating it in python\"\n",
    "print(str4)"
   ]
  },
  {
   "cell_type": "markdown",
   "metadata": {},
   "source": []
  },
  {
   "cell_type": "code",
   "execution_count": 5,
   "metadata": {},
   "outputs": [
    {
     "name": "stdout",
     "output_type": "stream",
     "text": [
      "This is another string Apna kaam kar\n"
     ]
    }
   ],
   "source": [
    "str2 = 'This is another string'\n",
    "str3 = \"\"\"Apna kaam kar\"\"\"\n",
    "\n",
    "print(str2 + \" \" +str3)"
   ]
  },
  {
   "cell_type": "code",
   "execution_count": 8,
   "metadata": {},
   "outputs": [
    {
     "name": "stdout",
     "output_type": "stream",
     "text": [
      "Kaam\n",
      "Apna Kaam\n"
     ]
    }
   ],
   "source": [
    "#### Slicing\n",
    "\n",
    "str = \"Apna Kaam\"\n",
    "\n",
    "print(str[5:])\n",
    "print(str[:]) # 0:9\n"
   ]
  },
  {
   "cell_type": "code",
   "execution_count": 9,
   "metadata": {},
   "outputs": [
    {
     "name": "stdout",
     "output_type": "stream",
     "text": [
      "7\n"
     ]
    }
   ],
   "source": [
    "str = input(\"Enter your irst name:\")\n",
    "print(len(str))"
   ]
  },
  {
   "cell_type": "code",
   "execution_count": 10,
   "metadata": {},
   "outputs": [
    {
     "data": {
      "text/plain": [
       "8"
      ]
     },
     "execution_count": 10,
     "metadata": {},
     "output_type": "execute_result"
    }
   ],
   "source": [
    "str = input(\"Enter a statement containing '$':\")\n",
    "\n",
    "str.count(\"$\")"
   ]
  },
  {
   "cell_type": "markdown",
   "metadata": {},
   "source": [
    "1. WAP to check if a number entered by the user is odd or even.\n",
    "2. WAP to find the greatest of 3 numbers entered by the user.\n",
    "3. WAP to check if a number is a multiple of 7 or not.\n"
   ]
  },
  {
   "cell_type": "code",
   "execution_count": 14,
   "metadata": {},
   "outputs": [
    {
     "name": "stdout",
     "output_type": "stream",
     "text": [
      "The number 4 you have entered is even.\n"
     ]
    }
   ],
   "source": [
    "# 1\n",
    "num = int(input(\"Enter a number to check even or odd:\"))\n",
    "\n",
    "if num % 2 == 0:\n",
    "    print(f\"The number {num} you have entered is even.\")\n",
    "else:\n",
    "    print(f\"The number {num} you have entered is odd.\")"
   ]
  },
  {
   "cell_type": "code",
   "execution_count": 17,
   "metadata": {},
   "outputs": [
    {
     "name": "stdout",
     "output_type": "stream",
     "text": [
      "The greatest number is 66\n"
     ]
    }
   ],
   "source": [
    "# 2\n",
    "n1 = int(input(\"Enter the 1st number:\"))\n",
    "n2 = int(input(\"Enter the 2nd number:\"))\n",
    "n3 = int(input(\"Enter the 3rd number:\"))\n",
    "\n",
    "if (n1>n2 and n1>n3):\n",
    "    print(f\"The greatest number is {n1}\")\n",
    "elif (n2>n1 and n2>n3):\n",
    "    print(f\"The greatest number is {n2}\")\n",
    "else:\n",
    "    print(f\"The greatest number is {n3}\")    "
   ]
  },
  {
   "cell_type": "code",
   "execution_count": 20,
   "metadata": {},
   "outputs": [
    {
     "name": "stdout",
     "output_type": "stream",
     "text": [
      "The number 66 is not divisible by 7.\n"
     ]
    }
   ],
   "source": [
    "# 3\n",
    "num = int(input(\"Enter a number to check even or odd:\"))\n",
    "\n",
    "if num % 7 == 0:\n",
    "    print(f\"The number {num} is divisible by 7.\")\n",
    "else:\n",
    "    print(f\"The number {num} is not divisible by 7.\")"
   ]
  },
  {
   "cell_type": "code",
   "execution_count": null,
   "metadata": {},
   "outputs": [],
   "source": []
  }
 ],
 "metadata": {
  "kernelspec": {
   "display_name": "Python 3",
   "language": "python",
   "name": "python3"
  },
  "language_info": {
   "codemirror_mode": {
    "name": "ipython",
    "version": 3
   },
   "file_extension": ".py",
   "mimetype": "text/x-python",
   "name": "python",
   "nbconvert_exporter": "python",
   "pygments_lexer": "ipython3",
   "version": "3.12.0"
  }
 },
 "nbformat": 4,
 "nbformat_minor": 2
}
