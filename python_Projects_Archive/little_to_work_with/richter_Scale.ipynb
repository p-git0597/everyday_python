{
 "cells": [
  {
   "cell_type": "markdown",
   "metadata": {},
   "source": [
    "#### Richter Scale\n",
    "For each of the following Richter scale measurements, your program will perform the\n",
    "appropriate calculations and display the equivalent amount of energy in joules and in tons of\n",
    "exploded TNT:\n",
    "- 1.0\n",
    "- 5.0\n",
    "- 9.1 (Indonesia earthquake, 2004)\n",
    "- 9.2 (Alaska earthquake, 1964)\n",
    "- 9.5 (Chile earthquake, 1960; largest ever measured)\n",
    "Your program will then prompt the user to enter a Richter scale measurement, accept a floating\n",
    "point value representing that measurement, perform the appropriate calculations, and display the\n",
    "equivalent amount of energy in joules and in tons of exploded TNT for that user-selected value. "
   ]
  },
  {
   "cell_type": "code",
   "execution_count": 4,
   "metadata": {},
   "outputs": [
    {
     "name": "stdout",
     "output_type": "stream",
     "text": [
      " The Richter Value is : 5.0\n",
      " The Energy is : 1995262314968.8828 joules\n",
      " Equivalent yeild: 476.87913837688404\n"
     ]
    }
   ],
   "source": [
    "def main():\n",
    "    richter_value = float(input(\"Enter a Richter value: \"))\n",
    "    \n",
    "    exploded_TNT = 4.184 * (10**9)\n",
    "    energy = 10 **((1.5 * richter_value) + 4.8)\n",
    "\n",
    "\n",
    "\n",
    "    print(f\" The Richter Value is : {richter_value}\")\n",
    "    print(f\" The Energy is : {energy} joules\")\n",
    "    print(f\" Equivalent yeild: {energy / exploded_TNT}\")\n",
    "    \n",
    "    \n",
    "if __name__ == \"__main__\":\n",
    "    main()\n",
    "    "
   ]
  },
  {
   "cell_type": "code",
   "execution_count": 10,
   "metadata": {},
   "outputs": [
    {
     "name": "stdout",
     "output_type": "stream",
     "text": [
      "Earthquake Energy Calculations\n",
      "\n",
      "\n",
      "Richter Scale: 1.0\n",
      "Energy released: 2.00e+06 joules\n",
      "Equivalent in tons of TNT: 0.00 tons\n",
      "\n",
      "Richter Scale: 5.0\n",
      "Energy released: 2.00e+12 joules\n",
      "Equivalent in tons of TNT: 476.88 tons\n",
      "\n",
      "Richter Scale: 9.1\n",
      "Energy released: 2.82e+18 joules\n",
      "Equivalent in tons of TNT: 673609687.20 tons\n",
      "\n",
      "Richter Scale: 9.2\n",
      "Energy released: 3.98e+18 joules\n",
      "Equivalent in tons of TNT: 951498973.60 tons\n",
      "\n",
      "Richter Scale: 9.5\n",
      "Energy released: 1.12e+19 joules\n",
      "Equivalent in tons of TNT: 2681688466.30 tons\n",
      "\n",
      "Richter Scale: 7.0\n",
      "Energy released: 2.00e+15 joules\n",
      "Equivalent in tons of TNT: 476879.14 tons\n"
     ]
    }
   ],
   "source": [
    "def calculate_energy(richter):\n",
    "    \"\"\"\n",
    "    Calculates the energy released by an earthquake based on the Richter scale value.\n",
    "    Returns energy in joules and equivalent tons of TNT.\n",
    "    \"\"\"\n",
    "    energy_joules = 10 ** (1.5 * richter + 4.8)\n",
    "    tons_TNT = energy_joules / 4.184e9\n",
    "    return energy_joules, tons_TNT\n",
    "\n",
    "def display_calculations(richter):\n",
    "    energy_joules, tons_TNT = calculate_energy(richter)\n",
    "    \n",
    "    print(f\"\\nRichter Scale: {richter}\")\n",
    "    print(f\"Energy released: {energy_joules:.2e} joules\")\n",
    "    print(f\"Equivalent in tons of TNT: {tons_TNT:.2f} tons\")\n",
    "    \n",
    "def main():\n",
    "    print(\"Earthquake Energy Calculations\\n\")\n",
    "    \n",
    "    known_values = [1.0, 5.0, 9.1, 9.2, 9.5]\n",
    "    for value in known_values:\n",
    "        display_calculations(value)\n",
    "        \n",
    "    \n",
    "    try:\n",
    "        user_value = float(input(\"Enter a richter scale value to calculate energy: \"))\n",
    "        display_calculations(user_value)\n",
    "    except ValueError:\n",
    "        print(\"Invalid input, Please enter a floating point number.\")\n",
    "        \n",
    "if __name__ == \"__main__\":\n",
    "    main()"
   ]
  },
  {
   "cell_type": "code",
   "execution_count": null,
   "metadata": {},
   "outputs": [],
   "source": []
  }
 ],
 "metadata": {
  "kernelspec": {
   "display_name": "Python 3",
   "language": "python",
   "name": "python3"
  },
  "language_info": {
   "codemirror_mode": {
    "name": "ipython",
    "version": 3
   },
   "file_extension": ".py",
   "mimetype": "text/x-python",
   "name": "python",
   "nbconvert_exporter": "python",
   "pygments_lexer": "ipython3",
   "version": "3.12.0"
  }
 },
 "nbformat": 4,
 "nbformat_minor": 2
}
