{
 "cells": [
  {
   "cell_type": "markdown",
   "metadata": {},
   "source": [
    "### Windchill\n",
    "Your program will be logically subdivided into two parts.\n",
    "For each of the following air temperature and wind speed measurements, your program will\n",
    "perform the appropriate calculations and display the corresponding wind chill temperature index: \n",
    "- 10.0 degrees and 15 MPH\n",
    "- 0.0 degrees and 25 MPH\n",
    "- -10.0 degrees and 35 MPH\n",
    "\n",
    "After calculating and displaying the wind chill temperature indices for the three pairs of\n",
    "measurements given above, your program will then: \n",
    "- prompt the user to enter an air temperature measurement and accept a floating point value\n",
    "representing that measurement \n",
    "- prompt the user to enter a wind speed measurement and accept a floating point value\n",
    "representing that measurement \n",
    "- perform the appropriate calculations \n",
    "- display the wind chill temperature index for those user-selected values\n",
    "Note that all air temperature measurements are given in the Fahrenheit scale."
   ]
  },
  {
   "cell_type": "code",
   "execution_count": 11,
   "metadata": {},
   "outputs": [
    {
     "name": "stdout",
     "output_type": "stream",
     "text": [
      "-32.20637379503651\n"
     ]
    }
   ],
   "source": [
    "\n",
    "air_speed = float(input(\"Enter the air speed: \"))\n",
    "air_temp = float(input(\"Enter the temperature: \"))\n",
    "def get_wct_index(air_speed, air_temp):\n",
    "    wct_index = 35.74 + 0.6215 * air_temp - 35.75 * air_speed ** 0.16 \\\n",
    "        + 0.4275 * air_temp * air_speed ** 0.16\n",
    "    return wct_index\n",
    "\n",
    "wct_index = get_wct_index(air_speed, air_temp)\n",
    "print(wct_index)\n",
    "\n",
    "# def main():\n",
    "    \n",
    "    \n",
    "\n",
    "\n",
    "# if __name__ == \"__main__\":\n",
    "#     main()\n"
   ]
  },
  {
   "cell_type": "code",
   "execution_count": 15,
   "metadata": {},
   "outputs": [
    {
     "name": "stdout",
     "output_type": "stream",
     "text": [
      "Wind Chill Temperature Index Calculation\n",
      "\n",
      "\n",
      "Air Temperature: 10.0 F\n",
      "Wind Speed: 15 MPH\n",
      "Wind Chill Temperature Index: -6.59 F\n",
      "\n",
      "Air Temperature: 0.0 F\n",
      "Wind Speed: 25 MPH\n",
      "Wind Chill Temperature Index: -24.09 F\n",
      "\n",
      "Air Temperature: -10.0 F\n",
      "Wind Speed: 35 MPH\n",
      "Wind Chill Temperature Index: -41.17 F\n",
      "\n",
      "Air Temperature: -56.0 F\n",
      "Wind Speed: 5.0 MPH\n",
      "Wind Chill Temperature Index: -76.29 F\n"
     ]
    }
   ],
   "source": [
    "def calculate_wct(air_speed, air_temp):\n",
    "    \"\"\"\n",
    "    calculate the wind chill Temperature Index.\n",
    "    Assumes air_temp is in Fahrenheit and air_speed is in MPH.\n",
    "    \"\"\"\n",
    "    \n",
    "    wct_index = 35.74 + 0.6215 * air_temp - 35.75 * air_speed ** 0.16 \\\n",
    "        + 0.4275 * air_temp * air_speed ** 0.16\n",
    "    return round(wct_index, 2)\n",
    "\n",
    "def display_records(air_speed, air_temp):\n",
    "    wct_index = calculate_wct(air_speed, air_temp)\n",
    "    \n",
    "    print(f\"\\nAir Temperature: {air_temp} F\")\n",
    "    print(f\"Wind Speed: {air_speed} MPH\")\n",
    "    print(f\"Wind Chill Temperature Index: {wct_index} F\")\n",
    "    \n",
    "def main():\n",
    "    \n",
    "    \n",
    "    print(\"Wind Chill Temperature Index Calculation\\n\")\n",
    "    \n",
    "    test_cases = [\n",
    "        (10.0, 15),\n",
    "        (0.0, 25),\n",
    "        (-10.0, 35)\n",
    "    ]\n",
    "    \n",
    "    for temp, speed in test_cases:\n",
    "        display_records(speed, temp)\n",
    "        \n",
    "    try:\n",
    "        air_speed = float(input(\"Enter the air speed: \"))\n",
    "        air_temp = float(input(\"Enter the temperature: \"))\n",
    "        display_records(air_speed, air_temp)\n",
    "    except ValueError:\n",
    "        print(\"Invalid input. Please enter numeric Values.\")\n",
    "        \n",
    "if __name__ == \"__main__\":\n",
    "    main()"
   ]
  },
  {
   "cell_type": "code",
   "execution_count": null,
   "metadata": {},
   "outputs": [],
   "source": []
  }
 ],
 "metadata": {
  "kernelspec": {
   "display_name": "Python 3",
   "language": "python",
   "name": "python3"
  },
  "language_info": {
   "codemirror_mode": {
    "name": "ipython",
    "version": 3
   },
   "file_extension": ".py",
   "mimetype": "text/x-python",
   "name": "python",
   "nbconvert_exporter": "python",
   "pygments_lexer": "ipython3",
   "version": "3.12.0"
  }
 },
 "nbformat": 4,
 "nbformat_minor": 2
}
