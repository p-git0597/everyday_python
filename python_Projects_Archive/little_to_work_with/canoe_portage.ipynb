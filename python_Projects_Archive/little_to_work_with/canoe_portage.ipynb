{
 "cells": [
  {
   "cell_type": "markdown",
   "metadata": {},
   "source": [
    "### Canoe Portage\n",
    "The basic design of your first program that in this class prompts for input, performs arithmetic on\n",
    "that information and then displays the results. \n",
    "\n",
    "Your program will prompt the user for a floating-point value representing a distance in rods. You\n",
    "will reprint that value along with that value converted to the following values. The most important\n",
    "value is the time to walk the portage.\n",
    "- meters\n",
    "- feet\n",
    "- miles\n",
    "- furlongs\n",
    "- the time in minutes to walk that distance\n",
    "\n",
    "You can find these measures on the web, but so everyone is using the same conversions:\n",
    "- 1 rod = 5.0292 meters\n",
    "- 1 furlong = 40 rods\n",
    "- 1 mile = 1609.34 meters\n",
    "- 1 foot = 0.3048 meters\n",
    "- average walking speed is 3.1 miles per hour "
   ]
  },
  {
   "cell_type": "code",
   "execution_count": 6,
   "metadata": {},
   "outputs": [
    {
     "name": "stdout",
     "output_type": "stream",
     "text": [
      "Conversion in meters 5.0 * 5.0292 = 25.146\n",
      "Conversion to feet 25.146 / 0.3048 = 82.5\n",
      "Conversion in miles 25.146 / 1609.34 = 0.01562503883579604\n",
      "Conversion in furlongs 5.0 / 40 = 0.125\n",
      "Time to walk in minutes: 0.01562503883579604 / 5.0292 = 0.3024005967833567\n"
     ]
    }
   ],
   "source": [
    "dist_in_rod = float(input(\"Enter a number representing distance in rods\"))\n",
    "\n",
    "rod = 5.0292\n",
    "furlong = 40\n",
    "miles = 1609.34\n",
    "foot = 0.3048\n",
    "speed = 0.05167\n",
    "\n",
    "print(f\"Conversion in meters {dist_in_rod} * {rod} = {dist_in_rod * rod}\")\n",
    "print(f\"Conversion to feet {dist_in_rod * rod} / {foot} = {(dist_in_rod * rod) / foot}\")\n",
    "print(f\"Conversion in miles {dist_in_rod * rod} / {miles} = {(dist_in_rod * rod) / miles}\")\n",
    "print(f\"Conversion in furlongs {dist_in_rod} / {furlong} = {dist_in_rod / furlong}\")\n",
    "print(f\"Time to walk in minutes: {(dist_in_rod * rod) / miles} / {rod} = {((dist_in_rod * rod) / miles) / speed}\")\n"
   ]
  },
  {
   "cell_type": "code",
   "execution_count": 7,
   "metadata": {},
   "outputs": [
    {
     "name": "stdout",
     "output_type": "stream",
     "text": [
      "\n",
      "Distance: 5.00 rods\n",
      "Meters: 25.15 m\n",
      "Feet: 82.50 ft\n",
      "Miles: 0.01563 mi\n",
      "Furlongs: 0.125 furlongs\n",
      "Estimated walking time: 0.30 minutes\n"
     ]
    }
   ],
   "source": [
    "def main():\n",
    "    # Conversion constants\n",
    "    ROD_TO_METERS = 5.0292\n",
    "    METER_TO_FEET = 1 / 0.3048\n",
    "    METER_TO_MILES = 1 / 1609.34\n",
    "    ROD_TO_FURLONG = 1 / 40\n",
    "    MILES_PER_HOUR = 3.1\n",
    "    MINUTES_PER_HOUR = 60\n",
    "\n",
    "    # Input\n",
    "    rods = float(input(\"Enter distance in rods: \"))\n",
    "\n",
    "    # Calculations\n",
    "    meters = rods * ROD_TO_METERS\n",
    "    feet = meters * METER_TO_FEET\n",
    "    miles = meters * METER_TO_MILES\n",
    "    furlongs = rods * ROD_TO_FURLONG\n",
    "    walking_speed_mpm = MILES_PER_HOUR / MINUTES_PER_HOUR  # miles per minute\n",
    "    time_minutes = miles / walking_speed_mpm\n",
    "\n",
    "    # Output\n",
    "    print(f\"\\nDistance: {rods:.2f} rods\")\n",
    "    print(f\"Meters: {meters:.2f} m\")\n",
    "    print(f\"Feet: {feet:.2f} ft\")\n",
    "    print(f\"Miles: {miles:.5f} mi\")\n",
    "    print(f\"Furlongs: {furlongs:.3f} furlongs\")\n",
    "    print(f\"Estimated walking time: {time_minutes:.2f} minutes\")\n",
    "\n",
    "if __name__ == \"__main__\":\n",
    "    main()\n"
   ]
  },
  {
   "cell_type": "code",
   "execution_count": null,
   "metadata": {},
   "outputs": [],
   "source": []
  }
 ],
 "metadata": {
  "kernelspec": {
   "display_name": "Python 3",
   "language": "python",
   "name": "python3"
  },
  "language_info": {
   "codemirror_mode": {
    "name": "ipython",
    "version": 3
   },
   "file_extension": ".py",
   "mimetype": "text/x-python",
   "name": "python",
   "nbconvert_exporter": "python",
   "pygments_lexer": "ipython3",
   "version": "3.12.0"
  }
 },
 "nbformat": 4,
 "nbformat_minor": 2
}
