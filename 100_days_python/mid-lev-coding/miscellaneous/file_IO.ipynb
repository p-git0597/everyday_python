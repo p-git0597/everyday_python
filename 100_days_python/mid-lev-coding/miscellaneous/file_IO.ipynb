{
 "cells": [
  {
   "cell_type": "markdown",
   "metadata": {},
   "source": [
    "# Opening a File\n",
    "Before we can perform any operations on a file, we must first open it. Python provides the open() function to open a file. It takes two arguments: the name of the file and the mode in which the file should be opened. The mode can be 'r' for reading, 'w' for writing, or 'a' for appending.\n",
    "Below is the example:"
   ]
  },
  {
   "cell_type": "code",
   "execution_count": 3,
   "metadata": {},
   "outputs": [],
   "source": [
    "f = open(\"myfile.txt\", 'r')\n",
    "# By default, the open() function returns a file object that can be used to read from or write to the file, depending on the mode."
   ]
  },
  {
   "cell_type": "markdown",
   "metadata": {},
   "source": [
    "## Modes in file\n",
    "There are various modes in which we can open files.\n",
    "\n",
    "read (r): This mode opens the file for reading only and gives an error if the file does not exist. This is the default mode if no mode is passed as a parameter.\n",
    "\n",
    "write (w): This mode opens the file for writing only and creates a new file if the file does not exist.\n",
    "\n",
    "append (a): This mode opens the file for appending only and creates a new file if the file does not exist.\n",
    "\n",
    "create (x): This mode creates a file and gives an error if the file already exists.\n",
    "\n",
    "text (t): Apart from these modes we also need to specify how the file must be handled. t mode is used to handle text files. t refers to the text mode. There is no difference between r and rt or w and wt since text mode is the default. The default mode is 'r' (open for reading text, synonym of 'rt' ).\n",
    "\n",
    "binary (b): used to handle binary files (images, pdfs, etc)."
   ]
  },
  {
   "cell_type": "markdown",
   "metadata": {},
   "source": []
  },
  {
   "cell_type": "markdown",
   "metadata": {},
   "source": [
    "## Reading from a file:\n",
    "Once we have a file object, we can use various methods to read from the file.\n",
    "The read() method reads the entire contents of the file and returns it as a string."
   ]
  },
  {
   "cell_type": "code",
   "execution_count": 4,
   "metadata": {},
   "outputs": [
    {
     "name": "stdout",
     "output_type": "stream",
     "text": [
      "Hello Coder, How are you?\n"
     ]
    }
   ],
   "source": [
    "f = open(\"myfile.txt\", 'r')\n",
    "contents = f.read()\n",
    "print(contents)"
   ]
  },
  {
   "cell_type": "markdown",
   "metadata": {},
   "source": [
    "##  Writing to a file\n",
    "To write in a file, first we need to open it in write mode."
   ]
  },
  {
   "cell_type": "code",
   "execution_count": 8,
   "metadata": {},
   "outputs": [
    {
     "name": "stdout",
     "output_type": "stream",
     "text": [
      "Also you will soon learn coding, keep practicing\n"
     ]
    }
   ],
   "source": [
    "f = open(\"myfile.txt\", \"w\")\n",
    "f.write(\"Also you will soon learn coding, keep practicing\")\n",
    "# Keep in mind that writing to a file will overwrite its contents. If you want to append to a file instead of \n",
    "# overwriting it, you can open it in append mode.\n",
    "r = open(\"myfile.txt\", 'r')\n",
    "contents = r.read()\n",
    "print(contents)"
   ]
  },
  {
   "cell_type": "code",
   "execution_count": 10,
   "metadata": {},
   "outputs": [
    {
     "name": "stdout",
     "output_type": "stream",
     "text": [
      "Also you will soon learn coding, keep practicing I forgot to say: Hi! How are you?\n"
     ]
    }
   ],
   "source": [
    "f = open(\"myfile.txt\", \"a\")\n",
    "f.write(\" I forgot to say: Hi! How are you?\")\n",
    "# reading from a file one the append is done\n",
    "re = open(\"myfile.txt\", 'r')\n",
    "contents = re.read()\n",
    "print(contents)\n"
   ]
  },
  {
   "cell_type": "markdown",
   "metadata": {},
   "source": [
    "# Closing a file\n",
    "It is important to close a file after you are done with it. This releases the resources used by the file and allows other programs to access it."
   ]
  },
  {
   "cell_type": "code",
   "execution_count": 11,
   "metadata": {},
   "outputs": [],
   "source": [
    "f = open('myfile.txt', 'r')\n",
    "# ... do something with the file\n",
    "f.close()"
   ]
  },
  {
   "cell_type": "code",
   "execution_count": 14,
   "metadata": {},
   "outputs": [],
   "source": [
    "# The 'with' statement\n",
    "# Alternatively, you can use the with statement to automatically close the file after you are done with it.\n",
    "\n",
    "with open('myfile.txt', 'a') as f:\n",
    "    # ... do something with the file\n",
    "    f.write(\".Bye Bye.\")"
   ]
  },
  {
   "cell_type": "markdown",
   "metadata": {},
   "source": [
    "## readlines() method in Python\n",
    "The `readline()` method reads a single line from the file. If we want to read multiple lines, we can use a loop.\n",
    "The `readlines()` method reads all the lines of the file and returns them as a list of strings."
   ]
  },
  {
   "cell_type": "markdown",
   "metadata": {},
   "source": []
  },
  {
   "cell_type": "code",
   "execution_count": 1,
   "metadata": {},
   "outputs": [
    {
     "name": "stdout",
     "output_type": "stream",
     "text": [
      "Also you will soon learn coding, keep practicing.\n",
      "\n",
      "I forgot to say: \n",
      "\n",
      "Hi! How are you? \n",
      "\n",
      "I forgot to say: \n",
      "\n",
      "Hi! How are you?.Bye Bye.\n"
     ]
    }
   ],
   "source": [
    "f = open(\"myfile.txt\", 'r')\n",
    "while True:\n",
    "    line = f.readline()\n",
    "    if not line:\n",
    "        break\n",
    "    print(line)\n",
    "f.close()"
   ]
  },
  {
   "cell_type": "code",
   "execution_count": 5,
   "metadata": {},
   "outputs": [
    {
     "name": "stdout",
     "output_type": "stream",
     "text": [
      "Marks of student 1 in maths is: 60\n",
      "Marks of student 1 in science is: 67\n",
      "Marks of student 1 in SS is: 45\n",
      "60,67,45\n",
      "\n",
      "Marks of student 2 in maths is: 40\n",
      "Marks of student 2 in science is: 78\n",
      "Marks of student 2 in SS is: 89\n",
      "40,78,89\n",
      "\n",
      "Marks of student 3 in maths is: 89\n",
      "Marks of student 3 in science is: 98\n",
      "Marks of student 3 in SS is: 78\n",
      "89,98,78\n"
     ]
    }
   ],
   "source": [
    "f = open(\"marks.txt\", \"r\")\n",
    "i = 0\n",
    "while True:\n",
    "    i += 1\n",
    "    line = f.readline()\n",
    "    if not line:\n",
    "        break\n",
    "    m1 = int(line.split(\",\")[0])\n",
    "    m2 = int(line.split(\",\")[1])\n",
    "    m3 = int(line.split(\",\")[2])\n",
    "    print(f\"Marks of student {i} in maths is: {m1}\")\n",
    "    print(f\"Marks of student {i} in science is: {m2}\")\n",
    "    print(f\"Marks of student {i} in SS is: {m3}\")\n",
    "    print(line)"
   ]
  },
  {
   "cell_type": "markdown",
   "metadata": {},
   "source": [
    "### writelines() method\n",
    "The `writelines()` method in Python writes a sequence of strings to a file. The sequence can be any iterable object, such as a list or a tuple.\n",
    "Here's an example of how to use the `writelines()` method:"
   ]
  },
  {
   "cell_type": "code",
   "execution_count": 6,
   "metadata": {},
   "outputs": [],
   "source": [
    "f = open('myfile2.txt', 'w')\n",
    "lines = ['line 1\\n', 'line 2\\n', 'line 3\\n']\n",
    "f.writelines(lines)\n",
    "f.close()"
   ]
  },
  {
   "cell_type": "markdown",
   "metadata": {},
   "source": [
    "This will write the strings in the lines list to the file myfile.txt. The \\n characters are used to add newline characters to the end of each string.\n",
    "\n",
    "Keep in mind that the `writelines()` method does not add newline characters between the strings in the sequence. If you want to add newlines between the strings, you can use a loop to write each string separately:"
   ]
  },
  {
   "cell_type": "code",
   "execution_count": 7,
   "metadata": {},
   "outputs": [],
   "source": [
    "f = open('myfile.txt', 'w')\n",
    "lines = ['line 1', 'line 2', 'line 3']\n",
    "for line in lines:\n",
    "    f.write(line + '\\n')\n",
    "f.close()"
   ]
  },
  {
   "cell_type": "markdown",
   "metadata": {},
   "source": [
    "## seek() and tell() functions\n",
    "In Python, the seek() and tell() functions are used to work with file objects and their positions within a file. These functions are part of the built-in io module, which provides a consistent interface for reading and writing to various file-like objects, such as files, pipes, and in-memory buffers.\n",
    "\n",
    "### seek() function\n",
    "The seek() function allows you to move the current position within a file to a specific point. The position is specified in bytes, and you can move either forward or backward from the current position.\n",
    "\n",
    "### tell() function\n",
    "The tell() function returns the current position within the file, in bytes. This can be useful for keeping track of your location within the file or for seeking to a specific position relative to the current position.\n",
    "\n",
    "### truncate() function\n",
    "When you open a file in Python using the open function, you can specify the mode in which you want to open the file. If you specify the mode as 'w' or 'a', the file is opened in write mode and you can write to the file. However, if you want to truncate the file to a specific size, you can use the truncate function.\n"
   ]
  },
  {
   "cell_type": "code",
   "execution_count": 9,
   "metadata": {},
   "outputs": [
    {
     "name": "stdout",
     "output_type": "stream",
     "text": [
      "<class '_io.TextIOWrapper'>\n",
      "e i a\n"
     ]
    }
   ],
   "source": [
    "with open('myfile2.txt', 'r') as f:\n",
    "  print(type(f))\n",
    "  # Move to the 10th byte in the file\n",
    "  f.seek(10)\n",
    "\n",
    "  # Read the next 5 bytes\n",
    "  data = f.read(5)\n",
    "  print(data)"
   ]
  },
  {
   "cell_type": "code",
   "execution_count": 11,
   "metadata": {},
   "outputs": [
    {
     "name": "stdout",
     "output_type": "stream",
     "text": [
      "line 1 her\n",
      "10\n"
     ]
    }
   ],
   "source": [
    "with open('myfile2.txt', 'r') as f:\n",
    "  # Read the first 10 bytes\n",
    "    data = f.read(10)\n",
    "    print(data)\n",
    "  # Save the current position\n",
    "    current_position = f.tell()\n",
    "\n",
    "  # Seek to the saved position\n",
    "    print(f.seek(current_position))"
   ]
  },
  {
   "cell_type": "code",
   "execution_count": 13,
   "metadata": {},
   "outputs": [
    {
     "name": "stdout",
     "output_type": "stream",
     "text": [
      "Hello\n"
     ]
    }
   ],
   "source": [
    "with open('myfile2.txt', 'w') as f:\n",
    "  f.write('Hello World!')\n",
    "  f.truncate(5)\n",
    "\n",
    "with open('myfile2.txt', 'r') as f:\n",
    "  print(f.read())"
   ]
  }
 ],
 "metadata": {
  "kernelspec": {
   "display_name": "Python 3",
   "language": "python",
   "name": "python3"
  },
  "language_info": {
   "codemirror_mode": {
    "name": "ipython",
    "version": 3
   },
   "file_extension": ".py",
   "mimetype": "text/x-python",
   "name": "python",
   "nbconvert_exporter": "python",
   "pygments_lexer": "ipython3",
   "version": "3.12.0"
  }
 },
 "nbformat": 4,
 "nbformat_minor": 2
}
