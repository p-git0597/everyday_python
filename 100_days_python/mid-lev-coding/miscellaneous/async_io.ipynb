{
 "cells": [
  {
   "cell_type": "markdown",
   "metadata": {},
   "source": [
    "## Async IO in Python\n",
    "Asynchronous I/O, or async for short, is a programming pattern that allows for high-performance I/O operations in a concurrent and non-blocking manner. In Python, async programming is achieved through the use of the `asyncio` module and asynchronous functions.\n",
    "\n",
    "### Syntax\n",
    "Here is the basic syntax for creating an asynchronous function in Python:"
   ]
  },
  {
   "cell_type": "code",
   "execution_count": null,
   "metadata": {},
   "outputs": [],
   "source": [
    "import asyncio\n",
    "\n",
    "async def my_async_function():\n",
    "    # asynchronous code here\n",
    "    await asyncio.sleep(1)\n",
    "    return \"Hello, Async World!\"\n",
    "\n",
    "async def main():\n",
    "    result = await my_async_function()\n",
    "    print(result)\n",
    "\n",
    "asyncio.run(main())"
   ]
  },
  {
   "cell_type": "code",
   "execution_count": 2,
   "metadata": {},
   "outputs": [
    {
     "name": "stdout",
     "output_type": "stream",
     "text": [
      "['Hello, Async World!', 'Hello, Async World!', 'Hello, Async World!']\n"
     ]
    }
   ],
   "source": [
    "# Another way to schedule tasks concurrently is as follows:\n",
    "L = await asyncio.gather(\n",
    "        my_async_function(),\n",
    "        my_async_function(),\n",
    "        my_async_function(),\n",
    "    )\n",
    "print(L)"
   ]
  },
  {
   "cell_type": "markdown",
   "metadata": {},
   "source": [
    "Async IO is a powerful programming pattern that allows for high-performance and concurrent I/O operations in Python. With the `asyncio` module and asynchronous functions, you can write efficient and scalable code that can handle large amounts of data and I/O operations without blocking the main thread. Whether you're working on web applications, network services, or data processing pipelines, async IO is an essential tool for any Python developer."
   ]
  },
  {
   "cell_type": "code",
   "execution_count": null,
   "metadata": {},
   "outputs": [],
   "source": [
    "import time \n",
    "import asyncio\n",
    "import requests\n",
    "\n",
    "async def function1():\n",
    "  print(\"func 1\") \n",
    "  URL = \"https://jbrcapital.com/wp-content/uploads/Porsche-911-GT3-RS.jpg\"\n",
    "  response = requests.get(URL)\n",
    "  open(\"car1.ico\", \"wb\").write(response.content)\n",
    "   \n",
    "  return \"Sampu\"\n",
    "  \n",
    "async def function2():\n",
    "  print(\"func 2\") \n",
    "  URL = \"https://images.wallpaperscraft.com/image/single/lamborghini_car_sports_car_146392_3840x2400.jpg\"\n",
    "  response = requests.get(URL)\n",
    "  open(\"car.jpg\", \"wb\").write(response.content)\n",
    "  \n",
    "async def function3():\n",
    "  print(\"func 3\")\n",
    "  URL = \"https://wallpapercave.com/wp/wp2707512.jpg\"\n",
    "  response = requests.get(URL)\n",
    "  open(\"getit.ico\", \"wb\").write(response.content)\n",
    "  \n",
    "  \n",
    "async def main():\n",
    "      # await function1()\n",
    "      # await function2()\n",
    "      # await function3()\n",
    "      # return \"Ran it\"\n",
    "  \n",
    "    L = await asyncio.gather(\n",
    "        function1(),\n",
    "        function2(),\n",
    "        function3()\n",
    "    )\n",
    "    print(L)\n",
    "  #   task = asyncio.create_task(function1())\n",
    "  # # await function1()\n",
    "  #   await function2()\n",
    "  #   await function3()\n",
    "asyncio.run(main())"
   ]
  },
  {
   "cell_type": "code",
   "execution_count": null,
   "metadata": {},
   "outputs": [],
   "source": []
  }
 ],
 "metadata": {
  "kernelspec": {
   "display_name": "Python 3",
   "language": "python",
   "name": "python3"
  },
  "language_info": {
   "codemirror_mode": {
    "name": "ipython",
    "version": 3
   },
   "file_extension": ".py",
   "mimetype": "text/x-python",
   "name": "python",
   "nbconvert_exporter": "python",
   "pygments_lexer": "ipython3",
   "version": "3.12.0"
  }
 },
 "nbformat": 4,
 "nbformat_minor": 2
}
