{
 "cells": [
  {
   "cell_type": "markdown",
   "metadata": {},
   "source": [
    "## Regular Expressions in Python\n",
    "Regular expressions, or \"regex\" for short, are a powerful tool for working with strings and text data in Python. They allow you to match and manipulate strings based on patterns, making it easy to perform complex string operations with just a few lines of code.\n",
    "\n",
    "Metacharacters in regular expressions\n",
    "```\n",
    "[]  Represent a character class\n",
    "^   Matches the beginning\n",
    "$   Matches the end\n",
    ".   Matches any character except newline\n",
    "?   Matches zero or one occurrence.\n",
    "|   Means OR (Matches with any of the characters\n",
    "    separated by it.)\n",
    "*   Any number of occurrences (including 0 occurrences)\n",
    "+   One or more occurrences\n",
    "{}  Indicate number of occurrences of a preceding RE \n",
    "    to match.\n",
    "()  Enclose a group of REs\n",
    "```\n",
    "\n",
    "Find list of more meta characters here - https://www.ibm.com/docs/en/rational-clearquest/9.0.1?topic=tags-meta-characters-in-regular-expressions\n",
    "\n",
    "### Importing re Package\n",
    "In Python, regular expressions are supported by the re module. The basic syntax for working with regular expressions in Python is as follows:\n",
    "\n",
    "`import re`\n",
    "\n",
    "### Searching for a pattern in re using re.search() Method\n",
    "\n",
    "re.search() method either returns None (if the pattern doesn’t match), or a re.MatchObject that contains information about the matching part of the string. This method stops after the first match, so this is best suited for testing a regular expression more than extracting data. We can use re.search method like this to search for a pattern in regular expression:"
   ]
  },
  {
   "cell_type": "code",
   "execution_count": 1,
   "metadata": {},
   "outputs": [
    {
     "name": "stdout",
     "output_type": "stream",
     "text": [
      "Match not found.\n"
     ]
    }
   ],
   "source": [
    "import re\n",
    "# Define a regular expression pattern\n",
    "pattern = r\"expression\"\n",
    "\n",
    "# Match the pattern against a string\n",
    "text = \"Hello, world!\"\n",
    "\n",
    "match = re.search(pattern, text)\n",
    "\n",
    "if match:\n",
    "    print(\"Match found!\")\n",
    "else:\n",
    "    print(\"Match not found.\")"
   ]
  },
  {
   "cell_type": "code",
   "execution_count": 6,
   "metadata": {},
   "outputs": [
    {
     "name": "stdout",
     "output_type": "stream",
     "text": [
      "['cat', 'hat']\n"
     ]
    }
   ],
   "source": [
    "# Searching for a pattern in `re` using `re.findall()` Method\n",
    "# You can also use the re.findall function to find all occurrences of the pattern in a string:\n",
    "# Replacing a pattern\n",
    "# The following example shows how to replace a pattern in a string:\n",
    "import re\n",
    "pattern = r\"[a-z]+at\"\n",
    "text = \"The cat is in the hat.\"\n",
    "\n",
    "matches = re.findall(pattern, text)\n",
    "\n",
    "print(matches)\n",
    "# Output: ['cat', 'hat']"
   ]
  },
  {
   "cell_type": "code",
   "execution_count": 7,
   "metadata": {},
   "outputs": [
    {
     "name": "stdout",
     "output_type": "stream",
     "text": [
      "example@example.com\n"
     ]
    }
   ],
   "source": [
    "# Replacing a pattern\n",
    "# The following example shows how to replace a pattern in a string:\n",
    "import re\n",
    "\n",
    "text = \"The email address is example@example.com.\"\n",
    "\n",
    "pattern = r\"\\w+@\\w+\\.\\w+\"\n",
    "\n",
    "match = re.search(pattern, text)\n",
    "\n",
    "if match:\n",
    "    email = match.group()\n",
    "    print(email)"
   ]
  }
 ],
 "metadata": {
  "kernelspec": {
   "display_name": "Python 3",
   "language": "python",
   "name": "python3"
  },
  "language_info": {
   "codemirror_mode": {
    "name": "ipython",
    "version": 3
   },
   "file_extension": ".py",
   "mimetype": "text/x-python",
   "name": "python",
   "nbconvert_exporter": "python",
   "pygments_lexer": "ipython3",
   "version": "3.12.0"
  }
 },
 "nbformat": 4,
 "nbformat_minor": 2
}
