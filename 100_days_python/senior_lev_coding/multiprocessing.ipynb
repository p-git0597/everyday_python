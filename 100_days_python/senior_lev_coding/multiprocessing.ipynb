{
 "cells": [
  {
   "cell_type": "markdown",
   "metadata": {},
   "source": [
    "## Multiprocessing in Python\n",
    "Multiprocessing is a Python module that provides a simple way to run multiple processes in parallel. It allows you to take advantage of multiple cores or processors on your system and can significantly improve the performance of your code. In this repl, we'll take a closer look at the multiprocessing module and its various functions and how they can be used in Python.\n",
    "\n",
    "### Importing Multiprocessing\n",
    "We can use multiprocessing by importing the multiprocessing module.\n",
    "\n",
    "`import multiprocessing`\n",
    "\n",
    "Now, to use multiprocessing we need to create a process object which calls a start() method. The start() method runs the process and then to stop the execution, we use the join() method. Here's how we can create a simple process.\n",
    "\n",
    "### Creating a process"
   ]
  },
  {
   "cell_type": "code",
   "execution_count": null,
   "metadata": {},
   "outputs": [],
   "source": [
    "import multiprocessing\n",
    "def my_func():\n",
    "  print(\"Hello from process\", multiprocessing.current_process().name)\n",
    "  process = multiprocessing.Process(target=my_func)\n",
    "  process.start()\n",
    "  process.join()"
   ]
  },
  {
   "cell_type": "markdown",
   "metadata": {},
   "source": [
    "### Functions\n",
    "The following are some of the most commonly used functions in the multiprocessing module:\n",
    "\n",
    "- `multiprocessing.Process(target, args)`: This function creates a new process that runs the target function with the specified arguments.\n",
    "\n",
    "- `multiprocessing.Pool(processes)`: This function creates a pool of worker processes that can be used to parallelize the execution of a function across multiple input values.\n",
    "\n",
    "- `multiprocessing.Queue()`: This function creates a queue that can be used to communicate data between processes.\n",
    "\n",
    "- `multiprocessing.Lock()`: This function creates a lock that can be used to synchronize access to shared resources between processes.\n",
    "\n",
    "### Creating a pool of worker processes\n",
    "Creating a pool of worker processes is a common approach to using multiprocessing in Python. The idea is to create a pool of worker processes and then assign tasks to them as needed. This allows you to take advantage of multiple CPU cores and process tasks in parallel."
   ]
  },
  {
   "cell_type": "code",
   "execution_count": 1,
   "metadata": {},
   "outputs": [],
   "source": [
    "from multiprocessing import Pool\n",
    "\n",
    "def process_task(task):\n",
    "    # Do some work here\n",
    "    print(\"Task processed:\", task)\n",
    "\n",
    "if __name__ == '__main__':\n",
    "    tasks = [1, 2, 3, 4, 5, 6, 7, 8, 9, 10]\n",
    "\n",
    "    with Pool(processes=4) as pool:\n",
    "        results = pool.map(process_task, tasks)"
   ]
  },
  {
   "cell_type": "markdown",
   "metadata": {},
   "source": [
    "### Using a queue to communicate between processes\n",
    "When working with multiple processes, it is often necessary to pass data between them. One way to do this is by using a queue. A queue is a data structure that allows data to be inserted at one end and removed from the other end. In the context of multiprocessing, a queue can be used to pass data between processes."
   ]
  },
  {
   "cell_type": "code",
   "execution_count": 2,
   "metadata": {},
   "outputs": [],
   "source": [
    "import multiprocessing\n",
    "\n",
    "def producer(queue):\n",
    "    for i in range(10):\n",
    "        queue.put(i)\n",
    "\n",
    "\n",
    "def consumer(queue):\n",
    "    while True:\n",
    "        item = queue.get()\n",
    "        print(item)\n",
    "\n",
    "\n",
    "queue = multiprocessing.Queue()\n",
    "p1 = multiprocessing.Process(target=producer, args=(queue,))\n",
    "p2 = multiprocessing.Process(target=consumer, args=(queue,))\n",
    "p1.start()\n",
    "p2.start()"
   ]
  },
  {
   "cell_type": "markdown",
   "metadata": {},
   "source": [
    "### Using a lock to synchronize access to shared resources\n",
    "When working with multiprocessing in python, locks can be used to synchronize access to shared resources among multiple processes. A lock is an object that acts as a semaphore, allowing only one process at a time to execute a critical section of code. The lock is released when the process finishes executing the critical section."
   ]
  },
  {
   "cell_type": "code",
   "execution_count": 3,
   "metadata": {},
   "outputs": [
    {
     "name": "stdout",
     "output_type": "stream",
     "text": [
      "Counter value: 0\n"
     ]
    }
   ],
   "source": [
    "def increment(counter, lock):\n",
    "    for i in range(10000):\n",
    "        lock.acquire()\n",
    "        counter.value += 1\n",
    "        lock.release()\n",
    "\n",
    "if __name__ == '__main__':\n",
    "    counter = multiprocessing.Value('i', 0)\n",
    "    lock = multiprocessing.Lock()\n",
    "\n",
    "    p1 = multiprocessing.Process(target=increment, args=(counter, lock))\n",
    "    p2 = multiprocessing.Process(target=increment, args=(counter, lock))\n",
    "\n",
    "    p1.start()\n",
    "    p2.start()\n",
    "\n",
    "    p1.join()\n",
    "    p2.join()\n",
    "\n",
    "    print(\"Counter value:\", counter.value)"
   ]
  },
  {
   "cell_type": "markdown",
   "metadata": {},
   "source": [
    "As you can see, the multiprocessing module provides a simple and efficient way to run multiple processes in parallel. Whether you need to create a new process, run a function across multiple input values, communicate data between processes, or synchronize access to shared resources, the multiprocessing module has you covered.\n",
    "\n",
    "In conclusion, the multiprocessing module is a powerful tool for parallelizing code in Python. Whether you are a beginner or an experienced Python developer, the multiprocessing module is an essential tool to have in your toolbox."
   ]
  },
  {
   "cell_type": "code",
   "execution_count": null,
   "metadata": {},
   "outputs": [],
   "source": [
    "import concurrent.futures\n",
    "import requests\n",
    "\n",
    "\n",
    "def downloadFile(url, name):\n",
    "  print(f\"Started Downloading {name}\")\n",
    "  response = requests.get(url)\n",
    "  open(f\"files/file{name}.jpg\", \"wb\").write(response.content)\n",
    "  print(f\"Finished Downloading {name}\")\n",
    " \n",
    "url = \"https://picsum.photos/2000/3000\"\n",
    "# pros = []\n",
    "# for i in range(10):\n",
    "#   # downloadFile(url, i)\n",
    "#   p = multiprocessing.Process(target=downloadFile, args=[url, i])\n",
    "#   p.start()\n",
    "#   pros.append(p)\n",
    "\n",
    "# for p in pros:\n",
    "#   p.join()\n",
    "\n",
    "with concurrent.futures.ProcessPoolExecutor() as executor:\n",
    "  l1 = [url for i in range(6)]\n",
    "  l2 = [i for i in range(6)]\n",
    "  results = executor.map(downloadFile, l1, l2)\n",
    "  for r in results:\n",
    "    print(r)"
   ]
  },
  {
   "cell_type": "code",
   "execution_count": null,
   "metadata": {},
   "outputs": [],
   "source": []
  }
 ],
 "metadata": {
  "kernelspec": {
   "display_name": "Python 3",
   "language": "python",
   "name": "python3"
  },
  "language_info": {
   "codemirror_mode": {
    "name": "ipython",
    "version": 3
   },
   "file_extension": ".py",
   "mimetype": "text/x-python",
   "name": "python",
   "nbconvert_exporter": "python",
   "pygments_lexer": "ipython3",
   "version": "3.12.0"
  }
 },
 "nbformat": 4,
 "nbformat_minor": 2
}
