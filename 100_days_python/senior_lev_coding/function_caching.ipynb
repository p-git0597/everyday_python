{
 "cells": [
  {
   "cell_type": "markdown",
   "metadata": {},
   "source": [
    "## Function Caching in Python\n",
    "Function caching is a technique for improving the performance of a program by storing the results of a function call so that you can reuse the results instead of recomputing them every time the function is called. This can be particularly useful when a function is computationally expensive, or when the inputs to the function are unlikely to change frequently.\n",
    "\n",
    "In Python, function caching can be achieved using the `functools.lru_cache` decorator. The `functools.lru_cache` decorator is used to cache the results of a function so that you can reuse the results instead of recomputing them every time the function is called. Here's an example:"
   ]
  },
  {
   "cell_type": "code",
   "execution_count": 5,
   "metadata": {},
   "outputs": [
    {
     "name": "stdout",
     "output_type": "stream",
     "text": [
      "6765\n",
      "2\n",
      "233\n",
      "2\n",
      "46368\n"
     ]
    }
   ],
   "source": [
    "from functools import lru_cache\n",
    "@lru_cache(maxsize=None)\n",
    "def fib(n):\n",
    "    if n < 2:\n",
    "        return n\n",
    "    return fib(n-1) + fib(n-2)\n",
    "\n",
    "print(fib(20))\n",
    "print(fib(3))\n",
    "print(fib(13))\n",
    "\n",
    "print(fib(3))\n",
    "print(fib(24))"
   ]
  },
  {
   "cell_type": "markdown",
   "metadata": {},
   "source": [
    "As you can see, the `functools.lru_cache` decorator is used to cache the results of the `fib` function. The `maxsize` parameter is used to specify the maximum number of results to cache. If `maxsize` is set to `None`, the cache will have an unlimited size.\n",
    "\n",
    "### Benefits of Function Caching\n",
    "Function caching can have a significant impact on the performance of a program, particularly for computationally expensive functions. By caching the results of a function, you can avoid having to recompute the results every time the function is called, which can save a significant amount of time and computational resources.\n",
    "\n",
    "Another benefit of function caching is that it can simplify the code of a program by removing the need to manually cache the results of a function. With the `functools.lru_cache` decorator, the caching is handled automatically, so you can focus on writing the core logic of your program.\n",
    "\n",
    "### Conclusion\n",
    "Function caching is a technique for improving the performance of a program by storing the results of a function so that you can reuse the results instead of recomputing them every time the function is called. In Python 3, function caching can be achieved using the `functools.lru_cache` decorator, which provides an easy and efficient way to cache the results of a function. Whether you're writing a computationally expensive program, or just want to simplify your code, function caching is a great technique to have in your toolbox."
   ]
  },
  {
   "cell_type": "code",
   "execution_count": 1,
   "metadata": {},
   "outputs": [
    {
     "name": "stdout",
     "output_type": "stream",
     "text": [
      "100\n",
      "done for 20\n",
      "10\n",
      "done for 2\n",
      "30\n",
      "done for 6\n",
      "100\n",
      "done for 20\n",
      "10\n",
      "done for 2\n",
      "30\n",
      "done for 6\n",
      "305\n",
      "done for 61\n"
     ]
    }
   ],
   "source": [
    "from functools import lru_cache\n",
    "import time\n",
    "\n",
    "@lru_cache(maxsize=None)\n",
    "def fx(n):\n",
    "  time.sleep(5)\n",
    "  return n*5\n",
    "    \n",
    "\n",
    "print(fx(20))\n",
    "print(\"done for 20\")\n",
    "print(fx(2))\n",
    "print(\"done for 2\")\n",
    "print(fx(6))\n",
    "print(\"done for 6\")\n",
    "\n",
    "print(fx(20))\n",
    "print(\"done for 20\")\n",
    "print(fx(2))\n",
    "print(\"done for 2\")\n",
    "print(fx(6))\n",
    "print(\"done for 6\")\n",
    "print(fx(61))\n",
    "print(\"done for 61\")"
   ]
  },
  {
   "cell_type": "code",
   "execution_count": null,
   "metadata": {},
   "outputs": [],
   "source": []
  }
 ],
 "metadata": {
  "kernelspec": {
   "display_name": "Python 3",
   "language": "python",
   "name": "python3"
  },
  "language_info": {
   "codemirror_mode": {
    "name": "ipython",
    "version": 3
   },
   "file_extension": ".py",
   "mimetype": "text/x-python",
   "name": "python",
   "nbconvert_exporter": "python",
   "pygments_lexer": "ipython3",
   "version": "3.12.0"
  }
 },
 "nbformat": 4,
 "nbformat_minor": 2
}
