{
 "cells": [
  {
   "cell_type": "markdown",
   "metadata": {},
   "source": [
    "## The Walrus Operator in Python\n",
    "The Walrus Operator is a new addition to Python 3.8 and allows you to assign a value to a variable within an expression. This can be useful when you need to use a value multiple times in a loop, but don't want to repeat the calculation.\n",
    "\n",
    "The Walrus Operator is represented by the `:=` syntax and can be used in a variety of contexts including while loops and if statements.\n",
    "\n",
    "Here's an example of how you can use the Walrus Operator in a while loop:"
   ]
  },
  {
   "cell_type": "code",
   "execution_count": 1,
   "metadata": {},
   "outputs": [
    {
     "name": "stdout",
     "output_type": "stream",
     "text": [
      "5\n",
      "4\n",
      "3\n",
      "2\n",
      "1\n"
     ]
    }
   ],
   "source": [
    "numbers = [1,2,3,4,5]\n",
    "while (n := len(numbers)) > 0:\n",
    "    print(numbers.pop())"
   ]
  },
  {
   "cell_type": "markdown",
   "metadata": {},
   "source": [
    "In this example, the length of the `numbers` list is assigned to the variable `n` using the Walrus Operator. The value of n is then used in the condition of the while loop, so that the loop will continue to execute until the `numbers` list is empty.\n",
    "\n",
    "Another example of using the Walrus Operator in an if statement:"
   ]
  },
  {
   "cell_type": "code",
   "execution_count": 2,
   "metadata": {},
   "outputs": [
    {
     "name": "stdout",
     "output_type": "stream",
     "text": [
      "Name not found.\n"
     ]
    }
   ],
   "source": [
    "names = [\"John\", \"Jane\", \"Jim\"]\n",
    "\n",
    "if (name := input(\"Enter a name: \")) in names:\n",
    "    print(f\"Hello, {name}!\")\n",
    "else:\n",
    "    print(\"Name not found.\")"
   ]
  },
  {
   "cell_type": "code",
   "execution_count": 4,
   "metadata": {},
   "outputs": [
    {
     "name": "stdout",
     "output_type": "stream",
     "text": [
      "['apple', 'Orange', 'Banana', 'Blueberry', 'redberry']\n"
     ]
    }
   ],
   "source": [
    "# walrus operator :=\n",
    "\n",
    "# new to Python 3.8\n",
    "# assignment expression aka walrus operator\n",
    "# assigns values to variables as part of a larger expression\n",
    "\n",
    "# happy = True\n",
    "# print(happy)\n",
    "\n",
    "# print(happy := True)\n",
    "\n",
    "# regular while loops method\n",
    "# foods = list()\n",
    "# while True:\n",
    "#   food = input(\"What food do you like?: \")\n",
    "#       if food == \"quit\":\n",
    "#           break\n",
    "#   foods.append(food)\n",
    "\n",
    "# using Walrus operator\n",
    "foods = list()\n",
    "while (food := input(\"What food do you like?: \")) != \"quit\":\n",
    "    foods.append(food)\n",
    "    \n",
    "print(foods)"
   ]
  },
  {
   "cell_type": "markdown",
   "metadata": {},
   "source": [
    "In this example, the user input is assigned to the variable `name` using the Walrus Operator. The value of `name` is then used in the if statement to determine whether it is in the names list. If it is, the corresponding message is printed, otherwise, a different message is printed.\n",
    "\n",
    "It is important to note that the Walrus Operator should be used sparingly as it can make code less readable if overused.\n",
    "\n",
    "In conclusion, the Walrus Operator is a useful tool for Python developers to have in their toolkit. It can help streamline code and reduce duplication, but it should be used with care to ensure code readability and maintainability."
   ]
  },
  {
   "cell_type": "markdown",
   "metadata": {},
   "source": []
  }
 ],
 "metadata": {
  "kernelspec": {
   "display_name": "Python 3",
   "language": "python",
   "name": "python3"
  },
  "language_info": {
   "codemirror_mode": {
    "name": "ipython",
    "version": 3
   },
   "file_extension": ".py",
   "mimetype": "text/x-python",
   "name": "python",
   "nbconvert_exporter": "python",
   "pygments_lexer": "ipython3",
   "version": "3.12.0"
  }
 },
 "nbformat": 4,
 "nbformat_minor": 2
}
