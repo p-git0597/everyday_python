{
 "cells": [
  {
   "cell_type": "markdown",
   "metadata": {},
   "source": [
    "# Lambda Functions in Python\n",
    "In Python, a lambda function is a small anonymous function without a name. It is defined using the lambda keyword and has the following syntax:\n",
    "`lambda arguments: expression`\n",
    "Lambda functions are often used in situations where a small function is required for a short period of time. They are commonly used as arguments to higher-order functions, such as `map`, `filter`, and `reduce`.\n",
    "\n",
    "Here is an example of how to use a lambda function:"
   ]
  },
  {
   "cell_type": "code",
   "execution_count": 5,
   "metadata": {},
   "outputs": [
    {
     "name": "stdout",
     "output_type": "stream",
     "text": [
      "8\n",
      "The double of x using lambda is 4\n"
     ]
    }
   ],
   "source": [
    "# Function to double the input.\n",
    "def double(x):\n",
    "    return x * 2\n",
    "print(double(4))\n",
    "# Lambda function to double the input:\n",
    "double = lambda x: x * 2\n",
    "print(f\"The double of x using lambda is {double(2)}\") "
   ]
  },
  {
   "cell_type": "markdown",
   "metadata": {},
   "source": [
    "The above lambda function has the same functionality as the double function defined earlier. However, the lambda function is anonymous, as it does not have a name.\n",
    "\n",
    "Lambda functions can have multiple arguments, just like regular functions. Here is an example of a lambda function with multiple arguments:"
   ]
  },
  {
   "cell_type": "code",
   "execution_count": 7,
   "metadata": {},
   "outputs": [
    {
     "name": "stdout",
     "output_type": "stream",
     "text": [
      "20\n",
      "30\n"
     ]
    }
   ],
   "source": [
    "# Function to calculate product of 2 numbers:\n",
    "\n",
    "def multiply(x, y):\n",
    "    return x * y\n",
    "print(multiply(4, 5))\n",
    "\n",
    "multiplication = lambda x, y:  x * y\n",
    "print(multiplication(6,5))"
   ]
  },
  {
   "cell_type": "code",
   "execution_count": 11,
   "metadata": {},
   "outputs": [
    {
     "name": "stdout",
     "output_type": "stream",
     "text": [
      "4 * 5 = 20\n"
     ]
    }
   ],
   "source": [
    "# Lambda functions can also include multiple statements, but they are limited to a single expression. For example:\n",
    "# Lambda function to calculate the product of two numbers,\n",
    "# with additional print statement\n",
    "\n",
    "multi_statement = lambda x, y: print(f\"{x} * {y} = {x * y}\")\n",
    "multi_statement(4, 5)"
   ]
  },
  {
   "cell_type": "markdown",
   "metadata": {},
   "source": [
    "In the above example, the lambda function includes a print statement, but it is still limited to a single expression.\n",
    "\n",
    "Lambda functions are often used in conjunction with higher-order functions, such as  `map`, `filter`, and `reduce`."
   ]
  }
 ],
 "metadata": {
  "kernelspec": {
   "display_name": "Python 3",
   "language": "python",
   "name": "python3"
  },
  "language_info": {
   "codemirror_mode": {
    "name": "ipython",
    "version": 3
   },
   "file_extension": ".py",
   "mimetype": "text/x-python",
   "name": "python",
   "nbconvert_exporter": "python",
   "pygments_lexer": "ipython3",
   "version": "3.12.0"
  }
 },
 "nbformat": 4,
 "nbformat_minor": 2
}
