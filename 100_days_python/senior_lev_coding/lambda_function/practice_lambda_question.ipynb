{
 "cells": [
  {
   "cell_type": "markdown",
   "metadata": {},
   "source": [
    "### 1.Basic Lambda Expression:\n",
    "Write a lambda function that takes two parameters and returns their sum."
   ]
  },
  {
   "cell_type": "code",
   "execution_count": 6,
   "metadata": {},
   "outputs": [
    {
     "name": "stdout",
     "output_type": "stream",
     "text": [
      "The sum of 5 + 5 is 10\n"
     ]
    }
   ],
   "source": [
    "sum_num = lambda x, y: print(f\"The sum of {x} + {y} is {x + y}\")\n",
    "sum_num(5, 5)"
   ]
  },
  {
   "cell_type": "markdown",
   "metadata": {},
   "source": [
    "### 2.Multiplication using Lambda:\n",
    "Create a lambda function to calculate the product of three numbers."
   ]
  },
  {
   "cell_type": "code",
   "execution_count": 7,
   "metadata": {},
   "outputs": [
    {
     "name": "stdout",
     "output_type": "stream",
     "text": [
      "The product of three numbers is 24\n"
     ]
    }
   ],
   "source": [
    "product_3_nums = lambda x, y, z: print(f\"The product of three numbers is {x * y * z}\")\n",
    "product_3_nums(2, 3, 4)"
   ]
  },
  {
   "cell_type": "markdown",
   "metadata": {},
   "source": [
    "### 3.Filtering with Lambda:\n",
    "Use the filter() function with a lambda expression to filter out even numbers from a list."
   ]
  },
  {
   "cell_type": "code",
   "execution_count": 8,
   "metadata": {},
   "outputs": [
    {
     "name": "stdout",
     "output_type": "stream",
     "text": [
      " The even numbers from the list [22, 34, 45, 32, 57, 44, 89, 21, 7, 5] is [22, 34, 32, 44]\n"
     ]
    }
   ],
   "source": [
    "l = [22, 34, 45, 32, 57, 44, 89, 21, 7, 5]\n",
    "\n",
    "evens = list(filter(lambda x: x % 2 ==0, l))\n",
    "print(f\" The even numbers from the list {l} is {evens}\")"
   ]
  },
  {
   "cell_type": "markdown",
   "metadata": {},
   "source": [
    "### 4.Mapping with Lambda:\n",
    "Use the map() function with a lambda expression to square each element in a list."
   ]
  },
  {
   "cell_type": "code",
   "execution_count": 11,
   "metadata": {},
   "outputs": [
    {
     "name": "stdout",
     "output_type": "stream",
     "text": [
      "The square of the given list of elements is [1, 9, 25, 49, 4, 16, 144, 36, 81, 64, 100]\n"
     ]
    }
   ],
   "source": [
    "l = [1, 3, 5, 7, 2, 4, 12, 6, 9, 8, 10]\n",
    "\n",
    "square_map = list(map(lambda x: x * x, l))\n",
    "print(f\"The square of the given list of elements is {square_map}\")"
   ]
  },
  {
   "cell_type": "markdown",
   "metadata": {},
   "source": [
    "### 5.Sorting with Lambda:\n",
    "Sort a list of tuples based on the second element of each tuple using a lambda function."
   ]
  },
  {
   "cell_type": "code",
   "execution_count": 12,
   "metadata": {},
   "outputs": [
    {
     "ename": "SyntaxError",
     "evalue": "invalid syntax (643344829.py, line 3)",
     "output_type": "error",
     "traceback": [
      "\u001b[1;36m  Cell \u001b[1;32mIn[12], line 3\u001b[1;36m\u001b[0m\n\u001b[1;33m    sorting = list(map(lambda x, y: if(x >y): print(x) else: print(y)))\u001b[0m\n\u001b[1;37m                                    ^\u001b[0m\n\u001b[1;31mSyntaxError\u001b[0m\u001b[1;31m:\u001b[0m invalid syntax\n"
     ]
    }
   ],
   "source": [
    "l = (1, 3, 5, 7, 2, 4, 12, 6, 9, 8, 10)\n",
    "\n",
    "sorting = list(map(lambda x, y:  )) "
   ]
  },
  {
   "cell_type": "code",
   "execution_count": 19,
   "metadata": {},
   "outputs": [
    {
     "name": "stdout",
     "output_type": "stream",
     "text": [
      "Soreted list using lambda:  [(4, 1), (3, 2), (1, 5), (2, 8)]\n",
      "Sorted list using map and lambda:  [1, 2, 5, 8]\n",
      "Sorted list using  filter and lambda:  [(4, 1), (3, 2), (1, 5), (2, 8)]\n",
      "Sorted tuple using reduce and lambda:  (4, 1, 3, 2, 1, 5, 2, 8)\n"
     ]
    }
   ],
   "source": [
    "from functools import reduce\n",
    "list_tuple = [(1, 5), (3, 2), (2, 8), (4, 1)]\n",
    "sorted_list_lambda = sorted(list_tuple, key = lambda x: x[1])\n",
    "print(\"Soreted list using lambda: \",  sorted_list_lambda)\n",
    "\n",
    "sorted_list_map = list(map(lambda x: x[1], sorted(list_tuple, key = lambda x: x[1])))\n",
    "print(\"Sorted list using map and lambda: \", sorted_list_map)\n",
    "\n",
    "sorted_list_filter = list(filter(lambda x: x[1], sorted(list_tuple, key =lambda x: x[1])))\n",
    "print(\"Sorted list using  filter and lambda: \", sorted_list_filter)\n",
    "\n",
    "sorted_list_reduce = reduce(lambda x, y: x + y, sorted(list_tuple, key=lambda x: x[1]))\n",
    "print(\"Sorted tuple using reduce and lambda: \", sorted_list_reduce)\n"
   ]
  },
  {
   "cell_type": "markdown",
   "metadata": {},
   "source": [
    "### 6.Conditional Operation in Lambda:\n",
    "Write a lambda function that returns \"Even\" if the input is even and \"Odd\" otherwise."
   ]
  },
  {
   "cell_type": "code",
   "execution_count": 20,
   "metadata": {},
   "outputs": [
    {
     "name": "stdout",
     "output_type": "stream",
     "text": [
      "Odd\n",
      "Even\n"
     ]
    }
   ],
   "source": [
    "even_odd = lambda x: \"Even\" if x%2==0 else \"Odd\"\n",
    "print(even_odd(5))\n",
    "print(even_odd(4))"
   ]
  },
  {
   "cell_type": "markdown",
   "metadata": {},
   "source": [
    "### 7.Combining Lambda with Other Functions:\n",
    "Create a function that takes a list of integers and returns a list of their squares using both a lambda function and the map() function."
   ]
  },
  {
   "cell_type": "code",
   "execution_count": 21,
   "metadata": {},
   "outputs": [
    {
     "name": "stdout",
     "output_type": "stream",
     "text": [
      "[1, 4, 9, 16, 25, 36, 49]\n"
     ]
    }
   ],
   "source": [
    "l = [1, 2, 3, 4, 5, 6, 7]\n",
    "square_num = list(map(lambda x: x * x, l))\n",
    "print(square_num)"
   ]
  },
  {
   "cell_type": "code",
   "execution_count": 23,
   "metadata": {},
   "outputs": [
    {
     "name": "stdout",
     "output_type": "stream",
     "text": [
      "[1, 4, 9, 16, 25, 36, 49]\n"
     ]
    }
   ],
   "source": [
    "l = [1, 2, 3, 4, 5, 6, 7]\n",
    "squareList = lambda lst: list(map(lambda x: x * x, lst))\n",
    "print(squareList(l))"
   ]
  },
  {
   "cell_type": "markdown",
   "metadata": {},
   "source": [
    "### 8.Calculating the Average with Lambda:\n",
    "Write a lambda function to calculate the average of three numbers."
   ]
  },
  {
   "cell_type": "code",
   "execution_count": 27,
   "metadata": {},
   "outputs": [
    {
     "name": "stdout",
     "output_type": "stream",
     "text": [
      "4.0\n",
      "20.0\n"
     ]
    }
   ],
   "source": [
    "l = [1, 2, 3, 4, 5, 6, 7]\n",
    "avg_num = lambda x: sum(x)/len(x)\n",
    "print(avg_num(l))\n",
    "\n",
    "average = lambda a, b, c: (a + b + c) / 3\n",
    "# Example usage:\n",
    "result = average(10, 20, 30)\n",
    "print(result)"
   ]
  },
  {
   "cell_type": "markdown",
   "metadata": {},
   "source": [
    "### 9.Finding Maximum with Lambda:\n",
    "\n",
    "Use the max() function with a lambda expression to find the maximum value in a list of numbers."
   ]
  },
  {
   "cell_type": "code",
   "execution_count": 31,
   "metadata": {},
   "outputs": [
    {
     "name": "stdout",
     "output_type": "stream",
     "text": [
      "92\n"
     ]
    }
   ],
   "source": [
    "l = (1, 92, 53, 14, 5, 76, 17)\n",
    "max_num = lambda x: max(x)\n",
    "print(max_num(l))"
   ]
  },
  {
   "cell_type": "markdown",
   "metadata": {},
   "source": [
    "### 10.Multiple Parameters in Lambda:\n",
    "\n",
    "Write a lambda function that takes three parameters and returns their product."
   ]
  },
  {
   "cell_type": "code",
   "execution_count": 32,
   "metadata": {},
   "outputs": [
    {
     "name": "stdout",
     "output_type": "stream",
     "text": [
      "16\n"
     ]
    }
   ],
   "source": [
    "product = lambda x, y, z: x*y*z\n",
    "print(product(2, 2, 4))"
   ]
  }
 ],
 "metadata": {
  "kernelspec": {
   "display_name": "Python 3",
   "language": "python",
   "name": "python3"
  },
  "language_info": {
   "codemirror_mode": {
    "name": "ipython",
    "version": 3
   },
   "file_extension": ".py",
   "mimetype": "text/x-python",
   "name": "python",
   "nbconvert_exporter": "python",
   "pygments_lexer": "ipython3",
   "version": "3.12.0"
  }
 },
 "nbformat": 4,
 "nbformat_minor": 2
}
