{
 "cells": [
  {
   "cell_type": "markdown",
   "metadata": {},
   "source": [
    "## Map, Filter and Reduce\n",
    "In Python, the `map`, filter, and reduce functions are built-in functions that allow you to apply a function to a sequence of elements and return a new sequence. These functions are known as higher-order functions, as they take other functions as arguments.\n",
    "\n",
    "### map\n",
    "The `map` function applies a function to each element in a sequence and returns a new sequence containing the transformed elements. The `map` function has the following syntax:\n",
    "\n",
    "`map(function, iterable)`\n",
    "\n",
    "The function argument is a function that is applied to each element in the iterable argument. The iterable argument can be a list, tuple, or any other iterable object.\n",
    "\n",
    "Here is an example of how to use the `map` function:"
   ]
  },
  {
   "cell_type": "code",
   "execution_count": 3,
   "metadata": {},
   "outputs": [
    {
     "name": "stdout",
     "output_type": "stream",
     "text": [
      "[1, 9, 16, 36, 64, 100]\n"
     ]
    }
   ],
   "source": [
    "# Here is the example using normal function definetion:\n",
    "x = [1, 3, 4, 6, 8, 10]\n",
    "def square(x):\n",
    "    return x * x\n",
    "square_map = map(square, x)\n",
    "print(list(square_map))"
   ]
  },
  {
   "cell_type": "code",
   "execution_count": 6,
   "metadata": {},
   "outputs": [
    {
     "name": "stdout",
     "output_type": "stream",
     "text": [
      "[1, 8, 27, 64, 125, 216, 343, 512, 729, 1000]\n"
     ]
    }
   ],
   "source": [
    "# using lambda in map:\n",
    "l = [1, 2, 3, 4, 5, 6, 7, 8, 9, 10]\n",
    "new_list = map(lambda x: (x * x * x), l)\n",
    "print(list(new_list))\n",
    "\n",
    "# In the above example, the lambda function lambda x: x * x * x is used to cube each element in the numbers list. The map\n",
    "# function applies the lambda function to each element in the list and returns a new list containing the cubed numbers."
   ]
  },
  {
   "cell_type": "markdown",
   "metadata": {},
   "source": [
    "### filter\n",
    "The `filter` function filters a sequence of elements based on a given predicate (a function that returns a boolean value) and returns a new sequence containing only the elements that meet the predicate. The `filter` function has the following syntax:\n",
    "\n",
    "`filter(predicate, iterable)`\n",
    "\n",
    "The predicate argument is a function that returns a boolean value and is applied to each element in the iterable argument. The iterable argument can be a list, tuple, or any other iterable object.\n",
    "\n",
    "Here is an example of how to use the `filter` function:"
   ]
  },
  {
   "cell_type": "code",
   "execution_count": 9,
   "metadata": {},
   "outputs": [
    {
     "name": "stdout",
     "output_type": "stream",
     "text": [
      "[2, 4, 12, 6, 8, 10]\n",
      "[1, 3, 5, 7, 9]\n"
     ]
    }
   ],
   "source": [
    "num = [1, 3, 5, 7, 2, 4, 12, 6, 9, 8, 10]\n",
    "\n",
    "evens = filter(lambda x: x % 2 ==0, num)\n",
    "print(list(evens))\n",
    "\n",
    "odds = filter(lambda x: x % 2 !=0, num)\n",
    "print(list(odds))\n",
    "\n",
    "# the lambda function lambda x: x % 2 == 0 is used to filter the numbers list and return only the even numbers. The \n",
    "# filter function applies the lambda function to each element in the list and returns a new list containing only the \n",
    "# even numbers."
   ]
  },
  {
   "cell_type": "markdown",
   "metadata": {},
   "source": [
    "### reduce\n",
    "The `reduce` function is a higher-order function that applies a function to a sequence and returns a single value. It is a part of the functools module in Python and has the following syntax:\n",
    "\n",
    "`reduce(function, iterable)`\n",
    "\n",
    "The function argument is a function that takes in two arguments and returns a single value. The iterable argument is a sequence of elements, such as a list or tuple.\n",
    "\n",
    "The `reduce` function applies the function to the first two elements in the iterable and then applies the function to the result and the next element, and so on. The `reduce` function returns the final result.\n",
    "\n",
    "Here is an example of how to use the `reduce` function:"
   ]
  },
  {
   "cell_type": "code",
   "execution_count": 11,
   "metadata": {},
   "outputs": [
    {
     "name": "stdout",
     "output_type": "stream",
     "text": [
      "36\n"
     ]
    }
   ],
   "source": [
    "# firstly import the reduce function:\n",
    "from functools import reduce\n",
    "\n",
    "nums = [1, 2, 3, 4, 5, 6, 7, 8]\n",
    "sum_num = reduce(lambda x, y: x + y, nums)\n",
    "print(sum_num)"
   ]
  },
  {
   "cell_type": "markdown",
   "metadata": {},
   "source": [
    "The reduce function applies the lambda function lambda x, y: x + y to the elements in the numbers list. The lambda function adds the two arguments x and y and returns the result. The reduce function applies the lambda function to the first two elements in the list (1 and 2), then applies the function to the result (3) and the next element (3), and so on. The final result is the sum of all the elements in the list, which 36."
   ]
  },
  {
   "cell_type": "markdown",
   "metadata": {},
   "source": []
  }
 ],
 "metadata": {
  "kernelspec": {
   "display_name": "Python 3",
   "language": "python",
   "name": "python3"
  },
  "language_info": {
   "codemirror_mode": {
    "name": "ipython",
    "version": 3
   },
   "file_extension": ".py",
   "mimetype": "text/x-python",
   "name": "python",
   "nbconvert_exporter": "python",
   "pygments_lexer": "ipython3",
   "version": "3.12.0"
  }
 },
 "nbformat": 4,
 "nbformat_minor": 2
}
