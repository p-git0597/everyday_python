{
 "cells": [
  {
   "cell_type": "markdown",
   "metadata": {},
   "source": [
    "## Shutil Module in Python\n",
    "Shutil is a Python module that provides a higher level interface for working with file and directories. The name \"shutil\" is short for shell utility. It provides a convenient and efficient way to automate tasks that are commonly performed on files and directories. In this repl, we'll take a closer look at the shutil module and its various functions and how they can be used in Python.\n",
    "\n",
    "### Importing shutil\n",
    "The syntax for importing the shutil module is as follows:\n",
    "```\n",
    "import shutil\n",
    "```\n",
    "### Functions\n",
    "The following are some of the most commonly used functions in the shutil module:\n",
    "\n",
    "`shutil.copy(src, dst)`: This function copies the file located at src to a new location specified by dst. If the destination location already exists, the original file will be overwritten.\n",
    "\n",
    "`shutil.copy2(src, dst)`: This function is similar to shutil.copy, but it also preserves more metadata about the original file, such as the timestamp.\n",
    "\n",
    "`shutil.copytree(src, dst)`: This function recursively copies the directory located at src to a new location specified by dst. If the destination location already exists, the original directory will be merged with it.\n",
    "\n",
    "`shutil.move(src, dst)`: This function moves the file located at src to a new location specified by dst. This function is equivalent to renaming a file in most cases.\n",
    "\n",
    "`shutil.rmtree(path)`: This function recursively deletes the directory located at path, along with all of its contents. This function is similar to using the rm -rf command in a shell.\n",
    "### Examples\n",
    "Here are some examples of how you can use the shutil module in your Python code:"
   ]
  },
  {
   "cell_type": "code",
   "execution_count": null,
   "metadata": {},
   "outputs": [],
   "source": [
    "import shutil\n",
    "# copying a file\n",
    "shutil.copy(\"harcar.jpg\", \"Car.jpg\")\n",
    "\n",
    "# Copying a directory\n",
    "shutil.copytree(\"temp\", \"DeleteThisFolder\")\n",
    "\n",
    "# Moving a file\n",
    "shutil.move(\"src.txt\", \"dst.txt\")\n",
    "\n",
    "# Deleting a directory\n",
    "shutil.rmtree(\"dir\")"
   ]
  },
  {
   "cell_type": "markdown",
   "metadata": {},
   "source": [
    "As you can see, the shutil module provides a simple and efficient way to perform common file and directory-related tasks in Python. Whether you need to copy, move, delete, or preserve metadata about files and directories, the shutil module has you covered.\n",
    "\n",
    "In conclusion, the shutil module is a powerful tool for automating file and directory-related tasks in Python. "
   ]
  },
  {
   "cell_type": "markdown",
   "metadata": {},
   "source": []
  }
 ],
 "metadata": {
  "kernelspec": {
   "display_name": "Python 3",
   "language": "python",
   "name": "python3"
  },
  "language_info": {
   "codemirror_mode": {
    "name": "ipython",
    "version": 3
   },
   "file_extension": ".py",
   "mimetype": "text/x-python",
   "name": "python",
   "nbconvert_exporter": "python",
   "pygments_lexer": "ipython3",
   "version": "3.12.0"
  }
 },
 "nbformat": 4,
 "nbformat_minor": 2
}
