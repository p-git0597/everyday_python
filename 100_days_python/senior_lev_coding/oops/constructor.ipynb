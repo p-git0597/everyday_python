{
 "cells": [
  {
   "cell_type": "markdown",
   "metadata": {},
   "source": [
    "## Constructors\n",
    "A constructor is a special method in a class used to create and initialize an object of a class. There are different types of constructors. Constructor is invoked automatically when an object of a class is created.\n",
    "\n",
    "A constructor is a unique function that gets called automatically when an object is created of a class. The main purpose of a constructor is to initialize or assign values to the data members of that class. It cannot return any value other than None.\n",
    "\n",
    "Syntax of Python Constructor:\n",
    "```\n",
    "def __init__(self):\n",
    "\t# initializations\n",
    "```\n",
    "init is one of the reserved functions in Python. In Object Oriented Programming, it is known as a constructor.\n",
    "\n",
    "### Types of Constructors in Python\n",
    "1. Parameterized Constructor\n",
    "2. Default Constructor  (No Parameters)\n",
    "3. Copy Constructor   (Use `=` operator to create object from existing object)\n",
    "4. Implicitly Defined Constructor (`__new__()` method is defined).\n",
    "5. Explicitly Defined Constructor (`__new__()` and `__init__()` methods are both defined).\n",
    "6. Multiple Inheritance Constructor (`__new__()` and `__init__()` methods are not defined, but a class has more than one parent class).\n",
    "7. Multiple Constructors can be defined for a class, but there can only be one implicitly defined constructor. \n",
    "Parameterized Constructor in Python\n",
    "When the constructor accepts arguments along with self, it is known as parameterized constructor.\n",
    "These arguments can be used inside the class to assign the values to the data members.\n",
    "```\n",
    "class Details:\n",
    "    def __init__(self, animal, group):\n",
    "        self.animal = animal\n",
    "        self.group = group\n",
    "\n",
    "obj1 = Details(\"Crab\", \"Crustaceans\")\n",
    "print(obj1.animal, \"belongs to the\", obj1.group, \"group.\")\n",
    "```\n",
    "### Default Constructor in Python\n",
    "When the constructor doesn't accept any arguments from the object and has only one argument, self, in the constructor, it is known as a Default constructor.\n",
    "\n",
    "Example:\n",
    "```\n",
    "class Details:\n",
    "  def __init__(self):\n",
    "    print(\"animal Crab belongs to Crustaceans group\")\n",
    "obj1=Details()\n",
    "```"
   ]
  },
  {
   "cell_type": "code",
   "execution_count": 1,
   "metadata": {},
   "outputs": [
    {
     "name": "stdout",
     "output_type": "stream",
     "text": [
      "Sam is a Doctor.\n",
      "Nikki is a HR.\n"
     ]
    }
   ],
   "source": [
    "# Example\n",
    "\n",
    "class Person:\n",
    "    def __init__(self, name, occ):\n",
    "        self.name = name\n",
    "        self.occ = occ\n",
    "        \n",
    "    def info(self):\n",
    "        print(f\"{self.name} is a {self.occ}.\")\n",
    "        \n",
    "a = Person(\"Sam\", \"Doctor\")\n",
    "b = Person(\"Nikki\", \"HR\")\n",
    "a.info()\n",
    "b.info()"
   ]
  }
 ],
 "metadata": {
  "kernelspec": {
   "display_name": "Python 3",
   "language": "python",
   "name": "python3"
  },
  "language_info": {
   "codemirror_mode": {
    "name": "ipython",
    "version": 3
   },
   "file_extension": ".py",
   "mimetype": "text/x-python",
   "name": "python",
   "nbconvert_exporter": "python",
   "pygments_lexer": "ipython3",
   "version": "3.12.0"
  }
 },
 "nbformat": 4,
 "nbformat_minor": 2
}
