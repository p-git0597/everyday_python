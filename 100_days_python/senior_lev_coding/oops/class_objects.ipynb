{
 "cells": [
  {
   "cell_type": "markdown",
   "metadata": {},
   "source": [
    "# Python Class and Objects\n",
    "A class is a blueprint or a template for creating objects, providing initial values for state (member variables or attributes), and implementations of behavior (member functions or methods). The user-defined objects are created using the class keyword.\n",
    "\n",
    "Creating a Class:\n",
    "Let us now create a class using the class keyword.\n",
    "```\n",
    "class Details:\n",
    "    name = \"Rohan\"\n",
    "    age = 20\n",
    "```\n",
    "\n",
    "Creating an Object:\n",
    "Object is the instance of the class used to access the properties of the class Now lets create an object of the class.\n",
    "\n",
    "Example:\n",
    "```\n",
    "obj1 = Details()\n",
    "```\n",
    "Now we can print values:\n",
    "\n",
    "Example:\n",
    "```\n",
    "class Details:\n",
    "    name = \"Rohan\"\n",
    "    age = 20\n",
    "obj1 = Details()\n",
    "print(obj1.name)\n",
    "print(obj1.age)\n",
    "```"
   ]
  },
  {
   "cell_type": "markdown",
   "metadata": {},
   "source": []
  }
 ],
 "metadata": {
  "language_info": {
   "name": "python"
  }
 },
 "nbformat": 4,
 "nbformat_minor": 2
}
