{
 "cells": [
  {
   "cell_type": "markdown",
   "metadata": {},
   "source": [
    "# Python Class and Objects\n",
    "A class is a blueprint or a template for creating objects, providing initial values for state (member variables or attributes), and implementations of behavior (member functions or methods). The user-defined objects are created using the class keyword.\n",
    "\n",
    "#### Creating a Class:\n",
    "Let us now create a class using the class keyword.\n",
    "```\n",
    "class Details:\n",
    "    name = \"Rohan\"\n",
    "    age = 20\n",
    "```\n",
    "\n",
    "#### Creating an Object:\n",
    "Object is the instance of the class used to access the properties of the class Now lets create an object of the class.\n",
    "\n",
    "Example:\n",
    "```\n",
    "obj1 = Details()\n",
    "```\n",
    "Now we can print values:\n",
    "\n",
    "Example:\n",
    "```\n",
    "class Details:\n",
    "    name = \"Rohan\"\n",
    "    age = 20\n",
    "obj1 = Details()\n",
    "print(obj1.name)\n",
    "print(obj1.age)\n",
    "```"
   ]
  },
  {
   "cell_type": "code",
   "execution_count": 4,
   "metadata": {},
   "outputs": [
    {
     "name": "stdout",
     "output_type": "stream",
     "text": [
      "Shubham Software Developer\n",
      "Nikki Teacher\n",
      "Sam Doctor\n"
     ]
    }
   ],
   "source": [
    "class Person:\n",
    "    name = \"Sam\"\n",
    "    occupation = \"Doctor\"\n",
    "    age = 23\n",
    "    \n",
    "a = Person()\n",
    "b = Person()\n",
    "c = Person()\n",
    "\n",
    "\n",
    "a.name = \"Shubham\"\n",
    "a.age = 27\n",
    "a.occupation = \"Software Developer\"\n",
    "\n",
    "b.name = \"Nikki\"\n",
    "b.age = 30\n",
    "b.occupation = \"Teacher\"\n",
    "\n",
    "print(a.name, a.occupation)\n",
    "print(b.name, b.occupation)\n",
    "print(c.name, c.occupation)"
   ]
  },
  {
   "cell_type": "markdown",
   "metadata": {},
   "source": [
    "#### self parameter\n",
    "The self parameter is a reference to the current instance of the class, and is used to access variables that belongs to the class.\n",
    "\n",
    "It must be provided as the extra parameter inside the method definition."
   ]
  },
  {
   "cell_type": "code",
   "execution_count": 6,
   "metadata": {},
   "outputs": [
    {
     "name": "stdout",
     "output_type": "stream",
     "text": [
      "Shubham is a Software Developer\n",
      "Nikki is a Teacher\n",
      "Sam is a Doctor\n"
     ]
    }
   ],
   "source": [
    "class Person:\n",
    "    name = \"Sam\"\n",
    "    occupation = \"Doctor\"\n",
    "    age = 23\n",
    "    \n",
    "    def info(self):\n",
    "        print(f\"{self.name} is a {self.occupation}\")\n",
    "\n",
    "a = Person()\n",
    "b = Person()\n",
    "c = Person()\n",
    "\n",
    "\n",
    "a.name = \"Shubham\"\n",
    "a.age = 27\n",
    "a.occupation = \"Software Developer\"\n",
    "\n",
    "b.name = \"Nikki\"\n",
    "b.age = 30\n",
    "b.occupation = \"Teacher\"\n",
    "\n",
    "a.info()\n",
    "b.info()\n",
    "c.info()"
   ]
  }
 ],
 "metadata": {
  "kernelspec": {
   "display_name": "Python 3",
   "language": "python",
   "name": "python3"
  },
  "language_info": {
   "codemirror_mode": {
    "name": "ipython",
    "version": 3
   },
   "file_extension": ".py",
   "mimetype": "text/x-python",
   "name": "python",
   "nbconvert_exporter": "python",
   "pygments_lexer": "ipython3",
   "version": "3.12.0"
  }
 },
 "nbformat": 4,
 "nbformat_minor": 2
}
