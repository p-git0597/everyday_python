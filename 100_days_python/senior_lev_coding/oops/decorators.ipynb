{
 "cells": [
  {
   "cell_type": "markdown",
   "metadata": {},
   "source": [
    "## Python Decorators\n",
    "Python decorators are a powerful and versatile tool that allow you to modify the behavior of functions and methods. They are a way to extend the functionality of a function or method without modifying its source code.\n",
    "\n",
    "A decorator is a function that takes another function as an argument and returns a new function that modifies the behavior of the original function. The new function is often referred to as a \"decorated\" function. The basic syntax for using a decorator is the following:\n",
    "```\n",
    "@decorator_function\n",
    "def my_function():\n",
    "    pass\n",
    "```\n",
    "The @decorator_function notation is just a shorthand for the following code:\n",
    "```\n",
    "def my_function():\n",
    "    pass\n",
    "my_function = decorator_function(my_function)\n",
    "```\n",
    "Decorators are often used to add functionality to functions and methods, such as logging, memoization, and access control.\n",
    "\n",
    "### Practical use case\n",
    "One common use of decorators is to add logging to a function. For example, you could use a decorator to log the arguments and return value of a function each time it is called:\n",
    "```\n",
    "import logging\n",
    "def log_function_call(func):\n",
    "    def decorated(*args, **kwargs):\n",
    "        logging.info(f\"Calling {func.__name__} with args={args}, kwargs={kwargs}\")\n",
    "        result = func(*args, **kwargs)\n",
    "        logging.info(f\"{func.__name__} returned {result}\")\n",
    "        return result\n",
    "    return decorated\n",
    "@log_function_call\n",
    "def my_function(a, b):\n",
    "    return a + b\n",
    "```\n",
    "In this example, the log_function_call decorator takes a function as an argument and returns a new function that logs the function call before and after the original function is called.\n",
    "\n",
    "### Conclusion\n",
    "Decorators are a powerful and flexible feature in Python that can be used to add functionality to functions and methods without modifying their source code. They are a great tool for separating concerns, reducing code duplication, and making your code more readable and maintainable.\n",
    "\n",
    "In conclusion, python decorators are a way to extend the functionality of functions and methods, by modifying its behavior without modifying the source code. They are used for a variety of purposes, such as logging, memoization, access control, and more. They are a powerful tool that can be used to make your code more readable, maintainable, and extendable."
   ]
  },
  {
   "cell_type": "code",
   "execution_count": 2,
   "metadata": {},
   "outputs": [
    {
     "name": "stdout",
     "output_type": "stream",
     "text": [
      "Good Morning\n",
      "Hello World!\n",
      "Thanksfor using this function\n",
      "Good Morning\n",
      "9\n",
      "Thanksfor using this function\n"
     ]
    }
   ],
   "source": [
    "# example\n",
    "def greet(fx):\n",
    "    def mfx(*args, **kwargs):\n",
    "        print(\"Good Morning\")\n",
    "        fx(*args, **kwargs)\n",
    "        print(\"Thanksfor using this function\")\n",
    "    return mfx\n",
    "\n",
    "@greet\n",
    "def  say_hello():\n",
    "    print(\"Hello World!\")\n",
    "\n",
    "@greet\n",
    "def add(a, b):\n",
    "    print(a+b)  \n",
    "say_hello()\n",
    "\n",
    "add(4, 5)"
   ]
  },
  {
   "cell_type": "code",
   "execution_count": null,
   "metadata": {},
   "outputs": [],
   "source": []
  }
 ],
 "metadata": {
  "kernelspec": {
   "display_name": "Python 3",
   "language": "python",
   "name": "python3"
  },
  "language_info": {
   "codemirror_mode": {
    "name": "ipython",
    "version": 3
   },
   "file_extension": ".py",
   "mimetype": "text/x-python",
   "name": "python",
   "nbconvert_exporter": "python",
   "pygments_lexer": "ipython3",
   "version": "3.12.0"
  }
 },
 "nbformat": 4,
 "nbformat_minor": 2
}
