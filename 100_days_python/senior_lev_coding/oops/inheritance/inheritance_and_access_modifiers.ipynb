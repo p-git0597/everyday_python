{
 "cells": [
  {
   "cell_type": "markdown",
   "metadata": {},
   "source": [
    "## Inheritance in python\n",
    "When a class derives from another class. The child class will inherit all the public and protected properties and methods from the parent class. In addition, it can have its own properties and methods, this is called as inheritance.\n",
    "\n",
    "#### Python Inheritance Syntax:\n",
    "```\n",
    "class BaseClass:\n",
    "  Body of base class\n",
    "class DerivedClass(BaseClass):\n",
    "  Body of derived class\n",
    "```\n",
    "Derived class inherits features from the base class where new features can be added to it. This results in re-usability of code.\n",
    "\n",
    "### Types of inheritance in Python:\n",
    "1. Single inheritance - (Deriving from one parent) - `class DerivedClass(BaseClass)`\n",
    "2. Multiple inheritance - (Deriving from more than one parents) - `class DerivedClass(BaseClass1, BaseClass2)`(also known as or diamond problem)\n",
    "3. Multiple inheritance - (Deriving from more than one parent) - `class DerivedClass(BaseClass1, BaseClass2)`\n",
    "4. Multilevel inheritance - (More than two parents)\n",
    "5. Hierarchical Inheritance - (A class inherits from another class which itself is derived from a third class)\n",
    "6. Hybrid inheritance - (Combination of single and multiple inheritance)\n"
   ]
  },
  {
   "cell_type": "code",
   "execution_count": 4,
   "metadata": {},
   "outputs": [
    {
     "name": "stdout",
     "output_type": "stream",
     "text": [
      "The employee name is Chaman and the ID number is 23\n",
      "The employee name is Sam samu and the ID number is 45\n",
      "The employee name is Jhon singh and the ID number is 420\n",
      "This programmer uses Python\n"
     ]
    }
   ],
   "source": [
    "class Employee():\n",
    "    def __init__(self, name, id):\n",
    "        self.name = name\n",
    "        self.id = id\n",
    "    \n",
    "    def showDetails(self):\n",
    "        print(f\"The employee name is {self.name} and the ID number is {self.id}\")\n",
    "        \n",
    "class Programmer(Employee):\n",
    "    \n",
    "    def showLanguage(self):\n",
    "        print(\"This programmer uses Python\")\n",
    "            \n",
    "# Creating objects of the Employee class \n",
    "e1 = Employee(\"Chaman\", 23)\n",
    "e1.showDetails()\n",
    "e2 = Employee(\"Sam samu\", 45)\n",
    "e2.showDetails()\n",
    "\n",
    "e3 = Programmer(\"Jhon singh\", 420)\n",
    "e3.showDetails()\n",
    "e3.showLanguage()"
   ]
  },
  {
   "cell_type": "markdown",
   "metadata": {},
   "source": [
    "## Access Specifiers/ Modifiers:\n",
    "Access specifiers or access modifiers in python programming are used to limit the access of class variables and class methods outside of class while implementing the concepts of inheritance.\n",
    "\n",
    "Let us see the each one of access specifiers in detail:\n",
    "\n",
    "### Types of access specifiers:\n",
    "1. Public access modifier\n",
    "2. Private access modifier\n",
    "3. Protected access modifier\n",
    "\n",
    "#### Public Access Specifier in Python\n",
    "All the variables and methods (member functions) in python are by default public. Any instance variable in a class followed by the ‘self’ keyword ie. `self.var_name` are public accessed."
   ]
  },
  {
   "cell_type": "code",
   "execution_count": 1,
   "metadata": {},
   "outputs": [
    {
     "name": "stdout",
     "output_type": "stream",
     "text": [
      "Sam\n",
      "Doctor\n"
     ]
    }
   ],
   "source": [
    "class Employee():\n",
    "    #  Constructor to initialize employee object\n",
    "    def __init__(self, name, occupation):\n",
    "        self.name = name\n",
    "        self.occupation = occupation\n",
    "\n",
    "obj1 = Employee(\"Sam\", \"Doctor\")\n",
    "print(obj1.name)\n",
    "print(obj1.occupation)"
   ]
  },
  {
   "cell_type": "markdown",
   "metadata": {},
   "source": [
    "#### Private Access Modifier\n",
    "By definition, Private members of a class (variables or methods) are those members which are only accessible inside the class. We cannot use private members outside of class.\n",
    "\n",
    "In Python, there is no strict concept of \"private\" access modifiers like in some other programming languages. However, a convention has been established to indicate that a variable or method should be considered private by prefixing its name with a double underscore (__). This is known as a \"weak internal use indicator\" and it is a convention only, not a strict rule. Code outside the class can still access these \"private\" variables and methods, but it is generally understood that they should not be accessed or modified."
   ]
  },
  {
   "cell_type": "code",
   "execution_count": 2,
   "metadata": {},
   "outputs": [
    {
     "ename": "AttributeError",
     "evalue": "'Student' object has no attribute '__age'",
     "output_type": "error",
     "traceback": [
      "\u001b[1;31m---------------------------------------------------------------------------\u001b[0m",
      "\u001b[1;31mAttributeError\u001b[0m                            Traceback (most recent call last)",
      "Cell \u001b[1;32mIn[2], line 16\u001b[0m\n\u001b[0;32m     13\u001b[0m obj1 \u001b[38;5;241m=\u001b[39m Subject\n\u001b[0;32m     15\u001b[0m \u001b[38;5;66;03m# calling by object of class Student\u001b[39;00m\n\u001b[1;32m---> 16\u001b[0m \u001b[38;5;28mprint\u001b[39m(\u001b[43mobj\u001b[49m\u001b[38;5;241;43m.\u001b[39;49m\u001b[43m__age\u001b[49m)\n\u001b[0;32m     17\u001b[0m \u001b[38;5;28mprint\u001b[39m(obj\u001b[38;5;241m.\u001b[39m__funName())\n\u001b[0;32m     19\u001b[0m \u001b[38;5;66;03m# calling by object  of class Subject\u001b[39;00m\n",
      "\u001b[1;31mAttributeError\u001b[0m: 'Student' object has no attribute '__age'"
     ]
    }
   ],
   "source": [
    "class Student: \n",
    "    def __init__(self, age, name): \n",
    "        self.__age = age      # An indication of private variable\n",
    "        \n",
    "        def __funName(self):  # An indication of private function\n",
    "            self.y = 34\n",
    "            print(self.y)\n",
    "\n",
    "class Subject(Student):\n",
    "    pass\n",
    "\n",
    "obj = Student(21,\"Harry\")\n",
    "obj1 = Subject\n",
    "\n",
    "# calling by object of class Student\n",
    "print(obj.__age)\n",
    "print(obj.__funName())\n",
    "\n",
    "# calling by object  of class Subject\n",
    "print(obj1.__age)\n",
    "print(obj1.__funName())"
   ]
  },
  {
   "cell_type": "markdown",
   "metadata": {},
   "source": [
    "Private members of a class cannot be accessed or inherited outside of class. If we try to access or to inherit the properties of private members to child class (derived class). Then it will show the error.\n",
    "\n",
    "### Name mangling\n",
    "Name mangling in Python is a technique used to protect class-private and superclass-private attributes from being accidentally overwritten by subclasses. Names of class-private and superclass-private attributes are transformed by the addition of a single leading underscore and a double leading underscore respectively.\n"
   ]
  },
  {
   "cell_type": "code",
   "execution_count": 4,
   "metadata": {},
   "outputs": [
    {
     "name": "stdout",
     "output_type": "stream",
     "text": [
      "I am a nonmangled attribute\n",
      "I am a mangled attribute\n"
     ]
    }
   ],
   "source": [
    "class MyClass:\n",
    "    def __init__(self):\n",
    "        self._nonmangled_attribute = \"I am a nonmangled attribute\"\n",
    "        self.__mangled_attribute = \"I am a mangled attribute\"\n",
    "my_object = MyClass()\n",
    "print(my_object._nonmangled_attribute) # Output: I am a nonmangled attribute\n",
    "# print(my_object.__mangled_attribute) # Throws an AttributeError\n",
    "print(my_object._MyClass__mangled_attribute) # Output: I am a mangled attribute\n"
   ]
  },
  {
   "cell_type": "markdown",
   "metadata": {},
   "source": [
    "In the example above, the attribute _nonmangled_attribute is marked as nonmangled by convention, but can still be \n",
    "accessed from outside the class. The attribute __mangled_attribute is private and its name is \"mangled\" \n",
    "to _MyClass__mangled_attribute, so it can't be accessed directly from outside the class, but you can access it by \n",
    "calling _MyClass__mangled_attribute.\n",
    "\n",
    "\n",
    "#### Protected Access Modifier\n",
    "In object-oriented programming (OOP), the term \"protected\" is used to describe a member (i.e., a method or attribute) of a class that is intended to be accessed only by the class itself and its subclasses. In Python, the convention for indicating that a member is protected is to prefix its name with a single underscore (_). For example, if a class has a method called _my_method, it is indicating that the method should only be accessed by the class itself and its subclasses.\n",
    "\n",
    "It's important to note that the single underscore is just a naming convention, and does not actually provide any protection or restrict access to the member. The syntax we follow to make any variable protected is to write variable name followed by a single underscore (_) ie. _varName.\n",
    "\n",
    "Example:"
   ]
  },
  {
   "cell_type": "code",
   "execution_count": 5,
   "metadata": {},
   "outputs": [
    {
     "name": "stdout",
     "output_type": "stream",
     "text": [
      "Harry\n",
      "CodeWithHarry\n",
      "Harry\n",
      "CodeWithHarry\n"
     ]
    }
   ],
   "source": [
    "class Student:\n",
    "    def __init__(self):\n",
    "        self._name = \"Harry\"\n",
    "\n",
    "    def _funName(self):      # protected method\n",
    "        return \"CodeWithHarry\"\n",
    "\n",
    "class Subject(Student):       #inherited class\n",
    "    pass\n",
    "\n",
    "obj = Student()\n",
    "obj1 = Subject()\n",
    "\n",
    "# calling by object of Student class\n",
    "print(obj._name)      \n",
    "print(obj._funName())     \n",
    "# calling by object of Subject class\n",
    "print(obj1._name)    \n",
    "print(obj1._funName())"
   ]
  }
 ],
 "metadata": {
  "kernelspec": {
   "display_name": "Python 3",
   "language": "python",
   "name": "python3"
  },
  "language_info": {
   "codemirror_mode": {
    "name": "ipython",
    "version": 3
   },
   "file_extension": ".py",
   "mimetype": "text/x-python",
   "name": "python",
   "nbconvert_exporter": "python",
   "pygments_lexer": "ipython3",
   "version": "3.12.0"
  }
 },
 "nbformat": 4,
 "nbformat_minor": 2
}
