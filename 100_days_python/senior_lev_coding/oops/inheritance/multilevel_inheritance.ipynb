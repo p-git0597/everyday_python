{
 "cells": [
  {
   "cell_type": "markdown",
   "metadata": {},
   "source": [
    "## Multilevel Inheritance in Python\n",
    "Multilevel inheritance is a type of inheritance in object-oriented programming where a derived class inherits from another derived class. This type of inheritance allows you to build a hierarchy of classes where one class builds upon another, leading to a more specialized class.\n",
    "\n",
    "In Python, multilevel inheritance is achieved by using the class hierarchy. The syntax for multilevel inheritance is quite simple and follows the same syntax as single inheritance.\n",
    "\n",
    "### Syntax\n",
    "```\n",
    "class BaseClass:\n",
    "    # Base class code\n",
    "    \n",
    "class DerivedClass1(BaseClass):\n",
    "    # Derived class 1 code\n",
    "    \n",
    "class DerivedClass2(DerivedClass1):\n",
    "    # Derived class 2 code\n",
    "```\n",
    "In the above example, we have three classes: `BaseClass`, `DerivedClass1`, and `DerivedClass2`. The `DerivedClass1` class inherits from the `BaseClass`, and the `DerivedClass2` class inherits from the `DerivedClass1` class. This creates a hierarchy where `DerivedClass2` has access to all the attributes and methods of both `DerivedClass1` and `BaseClass`\n",
    "### Example\n",
    "Let's take a look at an example to understand how multilevel inheritance works in Python. Consider the following classes"
   ]
  },
  {
   "cell_type": "code",
   "execution_count": 9,
   "metadata": {},
   "outputs": [
    {
     "name": "stdout",
     "output_type": "stream",
     "text": [
      "Name: Tommy\n",
      "Species: Dog\n",
      "Breed: Pug\n",
      "###\n",
      "Name: Oreo\n",
      "Species: Bulldog\n",
      "###\n",
      "Name: Simba\n",
      "Species: Dog\n",
      "Breed: GOlden Retriever\n",
      "Color: Brown\n"
     ]
    }
   ],
   "source": [
    "class Animal:\n",
    "    \n",
    "    def __init__(self, name, species):\n",
    "        self.name = name\n",
    "        self.species = species\n",
    "        \n",
    "    def show_details(self):\n",
    "        print(f\"Name: {self.name}\")\n",
    "        print(f\"Species: {self.species}\")\n",
    "        \n",
    "class Dog(Animal):\n",
    "    \n",
    "    def __init__(self, name, breed):\n",
    "        Animal.__init__(self, name, species = \"Dog\")\n",
    "        self.breed = breed\n",
    "        \n",
    "    def show_details(self):\n",
    "        Animal.show_details(self)\n",
    "        print(f\"Breed: {self.breed}\")\n",
    "        \n",
    "class GoldenRetriever(Dog):\n",
    "    \n",
    "    def __init__(self, name, color):\n",
    "        Dog.__init__(self, name, breed = \"GOlden Retriever\")\n",
    "        self.color = color\n",
    "\n",
    "    def show_details(self):\n",
    "        Dog.show_details(self)\n",
    "        print(f\"Color: {self.color}\")\n",
    "        \n",
    "o = Dog(\"Tommy\", \"Pug\")\n",
    "o.show_details()\n",
    "print(\"###\")\n",
    "d = Animal(\"Oreo\", \"Bulldog\")\n",
    "d.show_details()\n",
    "print(\"###\")\n",
    "g = GoldenRetriever(\"Simba\", \"Brown\")\n",
    "g.show_details()"
   ]
  },
  {
   "cell_type": "markdown",
   "metadata": {},
   "source": [
    "In this example, we have three classes: `Animal`, `Dog`, and `GoldenRetriever`. The `Dog` class inherits from the `Animal` class, and the `GoldenRetriever` class inherits from the `Dog` class.\n",
    "\n",
    "Now, when we create an object of the `GoldenRetriever` class, it has access to all the attributes and methods of the `Animal` class and the `Dog` class. We can also see that the `GoldenRetriever` class has its own attributes and methods that are specific to the class.\n",
    "```\n",
    "dog = GoldenRetriever(\"Max\", \"Golden\")\n",
    "dog.show_details()\n",
    "```\n",
    "Output:\n",
    "```\n",
    "Name: Simba\n",
    "Species: Dog\n",
    "Breed: GOlden Retriever\n",
    "Color: Brown\n",
    "```\n",
    "As we can see from the output, the `GoldenRetriever` object has access to all the attributes and methods of the `Animal` and `Dog` classes, and, it has also added its own unique attributes and methods. This is a powerful feature of multilevel inheritance, as it allows you to create more complex and intricate classes by building upon existing ones.\n",
    "\n",
    "Another important aspect of multilevel inheritance is that it allows you to reuse code and avoid repeating the same logic multiple times. This can lead to better maintainability and readability of your code, as you can abstract away complex logic into base classes and build upon them.\n",
    "\n",
    "In conclusion, multilevel inheritance is a powerful feature in object-oriented programming that allows you to create complex and intricate classes by building upon existing ones. It provides the benefits of code reuse, maintainability, and readability, while also requiring careful consideration to avoid potential problems."
   ]
  }
 ],
 "metadata": {
  "kernelspec": {
   "display_name": "Python 3",
   "language": "python",
   "name": "python3"
  },
  "language_info": {
   "codemirror_mode": {
    "name": "ipython",
    "version": 3
   },
   "file_extension": ".py",
   "mimetype": "text/x-python",
   "name": "python",
   "nbconvert_exporter": "python",
   "pygments_lexer": "ipython3",
   "version": "3.12.0"
  }
 },
 "nbformat": 4,
 "nbformat_minor": 2
}
