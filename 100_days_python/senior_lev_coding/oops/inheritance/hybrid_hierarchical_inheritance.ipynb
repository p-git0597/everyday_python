{
 "cells": [
  {
   "cell_type": "markdown",
   "metadata": {},
   "source": [
    "## Hybrid Inheritance in Python\n",
    "Hybrid inheritance is a combination of multiple inheritance and single inheritance in object-oriented programming. It is a type of inheritance in which multiple inheritance is used to inherit the properties of multiple base classes into a single derived class, and single inheritance is used to inherit the properties of the derived class into a sub-derived class.\n",
    "\n",
    "In Python, hybrid inheritance can be implemented by creating a class hierarchy, in which a base class is inherited by multiple derived classes, and one of the derived classes is further inherited by a sub-derived class.\n",
    "\n",
    "### Syntax\n",
    "The syntax for implementing Hybrid Inheritance in Python is the same as for implementing Single Inheritance, Multiple Inheritance, or Hierarchical Inheritance.\n",
    "\n",
    "Here's the syntax for defining a hybrid inheritance class hierarchy:\n",
    "```\n",
    "class BaseClass1:\n",
    "  # attributes and methods\n",
    "class BaseClass2:\n",
    "  # attributes and methods\n",
    "class DerivedClass(BaseClass1, BaseClass2):\n",
    "  # attributes and methods\n",
    "```\n",
    "### Example\n",
    "Consider the example of a `Student` class that inherits from the `Person` class, which in turn inherits from the `Human` class. The `Student` class also has a `Program` class that it is associated with."
   ]
  },
  {
   "cell_type": "code",
   "execution_count": 1,
   "metadata": {},
   "outputs": [
    {
     "name": "stdout",
     "output_type": "stream",
     "text": [
      "Name: John Doe\n",
      "Age: 25\n",
      "Address: 123 Main St.\n",
      "Program Name: Computer Science\n",
      "Duration: 4\n"
     ]
    }
   ],
   "source": [
    "class Human:\n",
    "  def __init__(self, name, age):\n",
    "    self.name = name\n",
    "    self.age = age\n",
    "    \n",
    "  def show_details(self):\n",
    "    print(\"Name:\", self.name)\n",
    "    print(\"Age:\", self.age)\n",
    "    \n",
    "class Person(Human):\n",
    "  def __init__(self, name, age, address):\n",
    "    Human.__init__(self, name, age)\n",
    "    self.address = address\n",
    "    \n",
    "  def show_details(self):\n",
    "    Human.show_details(self)\n",
    "    print(\"Address:\", self.address)\n",
    "    \n",
    "class Program:\n",
    "  def __init__(self, program_name, duration):\n",
    "    self.program_name = program_name\n",
    "    self.duration = duration\n",
    "    \n",
    "  def show_details(self):\n",
    "    print(\"Program Name:\", self.program_name)\n",
    "    print(\"Duration:\", self.duration)\n",
    "    \n",
    "class Student(Person):\n",
    "  def __init__(self, name, age, address, program):\n",
    "    Person.__init__(self, name, age, address)\n",
    "    self.program = program\n",
    "    \n",
    "  def show_details(self):\n",
    "    Person.show_details(self)\n",
    "    self.program.show_details()\n",
    "\n",
    "# To create a Student object, we can do the following: \n",
    "program = Program(\"Computer Science\", 4)\n",
    "student = Student(\"John Doe\", 25, \"123 Main St.\", program)\n",
    "student.show_details()"
   ]
  },
  {
   "cell_type": "markdown",
   "metadata": {},
   "source": [
    "In this example, the `Student` class inherits from the `Person` class, which in turn inherits from the `Human` class. The `Student` class also has an association with the Program class. This is an example of `Hybrid Inheritance` in action, as it uses both Single Inheritance and Association to achieve the desired inheritance structure.\n",
    "\n",
    "As we can see from the output, the `Student` object has access to all the attributes and methods of the `Person` and `Human` classes, as well as the Program class through association.\n",
    "\n",
    "In this way, `hybrid inheritance` allows for a flexible and powerful way to inherit attributes and behaviors from multiple classes in a hierarchy or chain."
   ]
  },
  {
   "cell_type": "markdown",
   "metadata": {},
   "source": [
    "## Hierarchical Inheritance\n",
    "Hierarchical Inheritance is a type of inheritance in Object-Oriented Programming where multiple subclasses inherit from a single base class. In other words, a single base class acts as a parent class for multiple subclasses. This is a way of establishing relationships between classes in a hierarchical manner.\n",
    "\n",
    "Here's an example to illustrate the concept of hierarchical inheritance in Python:"
   ]
  },
  {
   "cell_type": "code",
   "execution_count": 2,
   "metadata": {},
   "outputs": [],
   "source": [
    "class Animal:\n",
    "    def __init__(self, name):\n",
    "        self.name = name\n",
    "\n",
    "    def show_details(self):\n",
    "        print(\"Name:\", self.name)\n",
    "\n",
    "class Dog(Animal):\n",
    "    def __init__(self, name, breed):\n",
    "        Animal.__init__(self, name)\n",
    "        self.breed = breed\n",
    "\n",
    "    def show_details(self):\n",
    "        Animal.show_details(self)\n",
    "        print(\"Species: Dog\")\n",
    "        print(\"Breed:\", self.breed)\n",
    "\n",
    "class Cat(Animal):\n",
    "    def __init__(self, name, color):\n",
    "        Animal.__init__(self, name)\n",
    "        self.color = color\n",
    "\n",
    "    def show_details(self):\n",
    "        Animal.show_details(self)\n",
    "        print(\"Species: Cat\")\n",
    "        print(\"Color:\", self.color)"
   ]
  },
  {
   "cell_type": "markdown",
   "metadata": {},
   "source": [
    "In the above code, the Animal class acts as the base class for two subclasses, Dog and Cat. The Dog class and the Cat class inherit the attributes and methods of the Animal class. However, they can also add their own unique attributes and methods.\n",
    "\n",
    "Here's an example of creating objects of the Dog and Cat classes and accessing their attributes and methods:"
   ]
  },
  {
   "cell_type": "code",
   "execution_count": 3,
   "metadata": {},
   "outputs": [
    {
     "name": "stdout",
     "output_type": "stream",
     "text": [
      "Name: Max\n",
      "Species: Dog\n",
      "Breed: Golden Retriever\n",
      "Name: Luna\n",
      "Species: Cat\n",
      "Color: Black\n"
     ]
    }
   ],
   "source": [
    "dog = Dog(\"Max\", \"Golden Retriever\")\n",
    "dog.show_details()\n",
    "cat = Cat(\"Luna\", \"Black\")\n",
    "cat.show_details()"
   ]
  },
  {
   "cell_type": "markdown",
   "metadata": {},
   "source": [
    "As we can see from the outputs, the Dog and Cat classes have inherited the attributes and methods of the Animal class, and have also added their own unique attributes and methods.\n",
    "\n",
    "In conclusion, hierarchical inheritance is a way of establishing relationships between classes in a hierarchical manner. It allows multiple subclasses to inherit from a single base class, which helps in code reuse and organization of code in a more structured manner."
   ]
  },
  {
   "cell_type": "markdown",
   "metadata": {},
   "source": []
  }
 ],
 "metadata": {
  "kernelspec": {
   "display_name": "Python 3",
   "language": "python",
   "name": "python3"
  },
  "language_info": {
   "codemirror_mode": {
    "name": "ipython",
    "version": 3
   },
   "file_extension": ".py",
   "mimetype": "text/x-python",
   "name": "python",
   "nbconvert_exporter": "python",
   "pygments_lexer": "ipython3",
   "version": "3.12.0"
  }
 },
 "nbformat": 4,
 "nbformat_minor": 2
}
