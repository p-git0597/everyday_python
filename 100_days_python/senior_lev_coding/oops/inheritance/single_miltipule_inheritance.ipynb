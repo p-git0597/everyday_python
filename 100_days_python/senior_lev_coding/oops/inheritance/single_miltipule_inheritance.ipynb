{
 "cells": [
  {
   "cell_type": "markdown",
   "metadata": {},
   "source": [
    "## Single Inheritance in Python\n",
    "Single inheritance is a type of inheritance where a class inherits properties and behaviors from a single parent class. This is the simplest and most common form of inheritance.\n",
    "\n",
    "### Syntax\n",
    "The syntax for single inheritance in Python is straightforward and easy to understand. To create a new class that inherits from a parent class, simply specify the parent class in the class definition, inside the parentheses, like this:\n",
    "```\n",
    "class ChildClass(ParentClass):\n",
    "    # class body\n",
    "```\n",
    "\n",
    "### Example\n",
    "Let's consider a simple example of single inheritance in Python. Consider a class named \"Animal\" that contains the attributes and behaviors that are common to all animals.\n"
   ]
  },
  {
   "cell_type": "code",
   "execution_count": 9,
   "metadata": {},
   "outputs": [
    {
     "name": "stdout",
     "output_type": "stream",
     "text": [
      "bark!\n",
      "Sound made by the animal\n",
      "Meow!\n",
      "Likes milk.\n"
     ]
    }
   ],
   "source": [
    "class Animal:\n",
    "    def __init__(self, name, species):\n",
    "        self.name = name\n",
    "        self.species = species\n",
    "        \n",
    "    def make_sound(self):\n",
    "        print(\"Sound made by the animal\")\n",
    "# If we want to create a new class for a specific type of animal, such as a dog, we can create a new class named \n",
    "# \"Dog\" that inherits from the Animal class.\n",
    "\n",
    "class Dog:\n",
    "\n",
    "    def __init__(self, name , breed):\n",
    "        Animal.__init__(self, name, species = \"Dog\")\n",
    "        self.breed = breed\n",
    "    def make_sound(self):\n",
    "        print(\"bark!\")\n",
    "# Quick Quiz: Implement a Cat class by using the animal class. Add some methods specific to cat    \n",
    "class Cat:\n",
    "    def __init__(self, name , colour):\n",
    "        Animal.__init__(self, name, species=\"cat\")\n",
    "        self.colour = colour\n",
    "    def make_sound(self):\n",
    "        print(\"Meow!\")\n",
    "    def food(self):\n",
    "        print(\"Likes milk.\")\n",
    "d = Dog(\"tommy\", \"Pug\")\n",
    "d.make_sound()\n",
    "\n",
    "a = Animal(\"Dog\", \"dog\")\n",
    "a.make_sound()\n",
    "\n",
    "c = Cat(\"Mario\", \"Bree\")\n",
    "c.make_sound()\n",
    "c.food()"
   ]
  },
  {
   "cell_type": "markdown",
   "metadata": {},
   "source": [
    "The Dog class inherits all the attributes and behaviors of the Animal class, including the `__init__` method and the `make_sound` method. Additionally, the Dog class has its own `__init__` method that adds a new attribute for the breed of the dog, and it also overrides the `make_sound` method to specify the sound that a dog makes.\n",
    "\n",
    "Single inheritance is a powerful tool in Python that allows you to create new classes based on existing classes. It allows you to reuse code, extend it to fit your needs, and make it easier to manage complex systems. Understanding single inheritance is an important step in becoming proficient in object-oriented programming in Python."
   ]
  },
  {
   "cell_type": "markdown",
   "metadata": {},
   "source": [
    "## Multiple Inheritance in Python\n",
    "Multiple inheritance is a powerful feature in object-oriented programming that allows a class to inherit attributes and methods from multiple parent classes. This can be useful in situations where a class needs to inherit functionality from multiple sources.\n",
    "\n",
    "### Syntax\n",
    "In Python, multiple inheritance is implemented by specifying multiple parent classes in the class definition, separated by commas.\n",
    "```\n",
    "class ChildClass(ParentClass1, ParentClass2, ParentClass3):\n",
    "    # class body\n",
    "```\n",
    "\n",
    "In this example, the `ChildClass` inherits attributes and methods from all three parent classes: `ParentClass1`, `ParentClass2`, and `ParentClass3`.\n",
    "\n",
    "It's important to note that, in case of multiple inheritance, Python follows a `method resolution order (MRO)` to resolve conflicts between methods or attributes from different parent classes. The MRO determines the order in which parent classes are searched for attributes and methods."
   ]
  },
  {
   "cell_type": "code",
   "execution_count": 11,
   "metadata": {},
   "outputs": [
    {
     "name": "stdout",
     "output_type": "stream",
     "text": [
      "Pug\n",
      "Tom\n"
     ]
    }
   ],
   "source": [
    "class Animal:\n",
    "    def __init__(self, name , species):\n",
    "        self.name = name\n",
    "        self.species = species\n",
    "        \n",
    "    def make_sound(self):\n",
    "        print(\"Sound made by the animal\")\n",
    "class Mammal:\n",
    "    def __init__(self, name, fur_color):\n",
    "        self.name = name\n",
    "        self.fur_color = fur_color\n",
    "        \n",
    "class Dog(Animal, Mammal):\n",
    "    def __init__(self, name, breed, fur_color):\n",
    "        Animal.__init__(self, name, species=\"dog\")\n",
    "        Mammal.__init__(self, name, fur_color)\n",
    "        self.breed = breed\n",
    "        \n",
    "    def make_sound(self):\n",
    "        print(\"Bark!!\")\n",
    "        \n",
    "d = Dog(\"Tom\", \"Pug\", \"Brown\")\n",
    "print(d.breed)\n",
    "print(d.name)"
   ]
  },
  {
   "cell_type": "markdown",
   "metadata": {},
   "source": [
    "In this example, the Dog class inherits from both the Animal and Mammal classes, so it can use attributes and methods from both parent classes."
   ]
  },
  {
   "cell_type": "code",
   "execution_count": 12,
   "metadata": {},
   "outputs": [
    {
     "name": "stdout",
     "output_type": "stream",
     "text": [
      "Shivani\n",
      "Kathak\n",
      "The name is Shivani\n",
      "[<class '__main__.DancerEmployee'>, <class '__main__.Employee'>, <class '__main__.Dancer'>, <class 'object'>]\n"
     ]
    }
   ],
   "source": [
    "class Employee:\n",
    "  def __init__(self, name):\n",
    "    self.name = name\n",
    "  def show(self):\n",
    "    print(f\"The name is {self.name}\")\n",
    "\n",
    "class Dancer:\n",
    "  def __init__(self, dance):\n",
    "    self.dance = dance\n",
    "\n",
    "  def show(self):\n",
    "    print(f\"The dance is {self.dance}\")\n",
    "\n",
    "class DancerEmployee(Employee, Dancer):\n",
    "  def __init__(self, dance, name):\n",
    "    self.dance = dance\n",
    "    self.name = name\n",
    "\n",
    "o  = DancerEmployee(\"Kathak\", \"Shivani\")\n",
    "print(o.name)\n",
    "print(o.dance)\n",
    "o.show() \n",
    "print(DancerEmployee.mro())"
   ]
  },
  {
   "cell_type": "markdown",
   "metadata": {},
   "source": [
    "### Method Resolution Order\n",
    "The Method Resolution Order (MRO) is the set of rules that construct the linearization. In the Python literature, the idiom \"the MRO of C\" is also used as a synonymous for the linearization of the class C."
   ]
  },
  {
   "cell_type": "markdown",
   "metadata": {},
   "source": []
  }
 ],
 "metadata": {
  "kernelspec": {
   "display_name": "Python 3",
   "language": "python",
   "name": "python3"
  },
  "language_info": {
   "codemirror_mode": {
    "name": "ipython",
    "version": 3
   },
   "file_extension": ".py",
   "mimetype": "text/x-python",
   "name": "python",
   "nbconvert_exporter": "python",
   "pygments_lexer": "ipython3",
   "version": "3.12.0"
  }
 },
 "nbformat": 4,
 "nbformat_minor": 2
}
