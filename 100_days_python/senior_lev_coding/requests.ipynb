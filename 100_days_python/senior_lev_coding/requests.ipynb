{
 "cells": [
  {
   "cell_type": "markdown",
   "metadata": {},
   "source": [
    "## Requests module in python\n",
    "The Python Requests module is an HTTP library that enables developers to send HTTP requests in Python. This module enables you to send HTTP requests using Python code and makes it possible to interact with APIs and web services.\n",
    "\n",
    "### Get Request\n",
    "Once you have installed the Requests module, you can start using it to send HTTP requests. Here is a simple example that sends a GET request to the Google homepage:\n",
    "```\n",
    "import requests\n",
    "response = requests.get(\"https://www.google.com\")\n",
    "print(response.text)\n",
    "```\n",
    "\n",
    "### Post Request\n",
    "Here is another example that sends a POST request to a web service and includes a custom header:\n",
    "```\n",
    "import requests\n",
    "url = \"https://api.example.com/login\"\n",
    "headers = {\n",
    "    \"User-Agent\": \"Mozilla/5.0 (Windows NT 10.0; Win64; x64) AppleWebKit/537.36 (KHTML, like Gecko) Chrome/58.0.3029.110 Safari/537.36\",\n",
    "    \"Content-Type\": \"application/json\"\n",
    "}\n",
    "data = {\n",
    "    \"username\": \"myusername\",\n",
    "    \"password\": \"mypassword\"\n",
    "}\n",
    "response = requests.post(url, headers=headers, json=data)\n",
    "print(response.text)\n",
    "```\n",
    "In this example, we send a POST request to a web service to authenticate a user. We include a custom User-Agent header and a JSON payload with the user's credentials.\n",
    "\n",
    "### bs4 Module\n",
    "There is another module called BeautifulSoup which is used for web scraping in Python. I have personally used bs4 module to finish a lot of freelancing task."
   ]
  },
  {
   "cell_type": "code",
   "execution_count": null,
   "metadata": {},
   "outputs": [],
   "source": [
    "import requests\n",
    "url = \"https://unsplash.com/photos/orange-lamborghini-car-oUBjd22gF6w\"\n",
    "r = requests.get(url)\n",
    "print(r.text)"
   ]
  },
  {
   "cell_type": "code",
   "execution_count": null,
   "metadata": {},
   "outputs": [],
   "source": [
    "from bs4 import BeautifulSoup\n",
    "soup = BeautifulSoup(r.text, 'html.parser')\n",
    "print(soup.prettify())\n",
    "for heading in soup.find_all(\"h2\"):\n",
    "  print(heading.text)"
   ]
  },
  {
   "cell_type": "code",
   "execution_count": 3,
   "metadata": {},
   "outputs": [
    {
     "name": "stdout",
     "output_type": "stream",
     "text": [
      "{\n",
      "  \"title\": \"Sam\",\n",
      "  \"body\": \"MerchantNavy\",\n",
      "  \"userId\": 404,\n",
      "  \"id\": 101\n",
      "}\n"
     ]
    }
   ],
   "source": [
    "url = \"https://jsonplaceholder.typicode.com/posts\"\n",
    "\n",
    "data = {\n",
    "    \"title\": 'Sam',\n",
    "    \"body\": 'MerchantNavy',\n",
    "    \"userId\": 404,\n",
    "  }\n",
    "headers =  {\n",
    "    'Content-type': 'application/json; charset=UTF-8',\n",
    "  }\n",
    "response = requests.post(url, headers=headers, json=data)\n",
    "\n",
    "print(response.text)"
   ]
  },
  {
   "cell_type": "code",
   "execution_count": null,
   "metadata": {},
   "outputs": [],
   "source": []
  }
 ],
 "metadata": {
  "kernelspec": {
   "display_name": "Python 3",
   "language": "python",
   "name": "python3"
  },
  "language_info": {
   "codemirror_mode": {
    "name": "ipython",
    "version": 3
   },
   "file_extension": ".py",
   "mimetype": "text/x-python",
   "name": "python",
   "nbconvert_exporter": "python",
   "pygments_lexer": "ipython3",
   "version": "3.12.0"
  }
 },
 "nbformat": 4,
 "nbformat_minor": 2
}
