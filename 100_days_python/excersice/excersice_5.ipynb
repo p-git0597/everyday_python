{
 "cells": [
  {
   "cell_type": "markdown",
   "metadata": {},
   "source": [
    "## Snake Water Gun\n",
    "Snake, Water and Gun is a variation of the children's game \"rock-paper-scissors\" where players use hand gestures to represent a snake, water, or a gun. The gun beats the snake, the water beats the gun, and the snake beats the water. Write a python program to create a Snake Water Gun game in Python using if-else statements. Do not create any fancy GUI. Use proper functions to check for win."
   ]
  },
  {
   "cell_type": "markdown",
   "metadata": {},
   "source": [
    "#### Example explanation:\n",
    "                 S W G\n",
    " computer =      0 1 2\n",
    " player =  S  0  D W L\n",
    "           W  1  L D W\n",
    "           G  2  W L D"
   ]
  },
  {
   "cell_type": "code",
   "execution_count": null,
   "metadata": {},
   "outputs": [],
   "source": []
  }
 ],
 "metadata": {
  "language_info": {
   "name": "python"
  }
 },
 "nbformat": 4,
 "nbformat_minor": 2
}
