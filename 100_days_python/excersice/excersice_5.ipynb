{
 "cells": [
  {
   "cell_type": "markdown",
   "metadata": {},
   "source": [
    "## Snake Water Gun\n",
    "Snake, Water and Gun is a variation of the children's game \"rock-paper-scissors\" where players use hand gestures to represent a snake, water, or a gun. The gun beats the snake, the water beats the gun, and the snake beats the water. Write a python program to create a Snake Water Gun game in Python using if-else statements. Do not create any fancy GUI. Use proper functions to check for win."
   ]
  },
  {
   "cell_type": "markdown",
   "metadata": {},
   "source": [
    "#### Example explanation:\n",
    "                 S W G\n",
    " computer =      0 1 2\n",
    " player =  S  0  D W L\n",
    "           W  1  L D W\n",
    "           G  2  W L D"
   ]
  },
  {
   "cell_type": "code",
   "execution_count": 4,
   "metadata": {},
   "outputs": [
    {
     "name": "stdout",
     "output_type": "stream",
     "text": [
      "you:  2\n",
      "Comp:  0\n",
      "Congratulations! You Win!\n"
     ]
    }
   ],
   "source": [
    "import random\n",
    "\n",
    "def check(comp, user):\n",
    "    if comp == user:\n",
    "        return 0\n",
    "    \n",
    "    if (comp == 0 and user == 1):\n",
    "        return -1\n",
    "    \n",
    "    if (comp == 2 and user == 0):\n",
    "        return -1\n",
    "    \n",
    "    if (comp == 1 and user == 2):\n",
    "        return -1\n",
    "    \n",
    "    return 1\n",
    "    \n",
    "comp = random.randint(0, 2)\n",
    "user = int(input(\"Select a user number: 0 for snake, 1 for water and 2 for Gun \\n\"))\n",
    "\n",
    "score  = check(comp, user)\n",
    "print(\"you: \", user)\n",
    "print(\"Comp: \", comp)\n",
    "\n",
    "if(score == 0):\n",
    "    print(\"It's a draw. Play again!\")\n",
    "elif(score == -1):\n",
    "    print(\"You loose.Computer Wins!\")\n",
    "else:\n",
    "    print(\"Congratulations! You Win!\")"
   ]
  },
  {
   "cell_type": "code",
   "execution_count": 6,
   "metadata": {},
   "outputs": [
    {
     "name": "stdout",
     "output_type": "stream",
     "text": [
      "Welcome to Snake Water Gun Game!\n",
      "The user choice snake\n",
      "\n",
      "The Computer choice is water\n",
      "\n",
      "You are the winner!\n",
      "Thanks for playing!\n"
     ]
    }
   ],
   "source": [
    "# Alternate Solution:\n",
    "import random\n",
    "\n",
    "def get_user_choice():\n",
    "    user = input(\"Enter your choice (snake, water, gun): \").lower()\n",
    "    while user not in ['snake', 'water', 'gun']:\n",
    "        print(\"Invalid input. please select from 'snake', 'water', 'gun'\")\n",
    "        user = input(\"Enter your choice again (snake, water, gun): \").lower()\n",
    "    return  user\n",
    "\n",
    "def get_computer_choice():\n",
    "    return random.choice(['snake', 'water', 'gun'])\n",
    "\n",
    "def whoIsTheWinner(user, computer):\n",
    "    if user == computer:\n",
    "        return \"It's a tie!\"\n",
    "    elif user == 'snake':\n",
    "        return  \"You are the winner!\" if computer == 'water' else \"You Loose!\"\n",
    "    elif user == 'gun':\n",
    "        return \"You are the winner!\" if computer == 'snake' else \"You Loose!\"\n",
    "    elif user == 'water':\n",
    "        return \"You are the winner!\" if computer == 'gun' else \"You Loose!\"\n",
    "    \n",
    "\n",
    "def play_game():\n",
    "    \n",
    "    print(\"Welcome to Snake Water Gun Game!\")\n",
    "    \n",
    "    while True:\n",
    "        user = get_user_choice()\n",
    "        computer = get_computer_choice()\n",
    "        \n",
    "        print(f\"The user choice {user}\\n\")\n",
    "        print(f\"The Computer choice is {computer}\\n\")\n",
    "        \n",
    "        result = whoIsTheWinner(user, computer)\n",
    "        print(result)\n",
    "        \n",
    "        play_again = input(\"Do you want to olay again? (yes/no): \").lower()\n",
    "        if play_again != 'yes':\n",
    "            print(\"Thanks for playing!\")\n",
    "            break\n",
    "        \n",
    "if __name__ == '__main__':\n",
    "    play_game()"
   ]
  },
  {
   "cell_type": "code",
   "execution_count": null,
   "metadata": {},
   "outputs": [],
   "source": []
  }
 ],
 "metadata": {
  "kernelspec": {
   "display_name": "Python 3",
   "language": "python",
   "name": "python3"
  },
  "language_info": {
   "codemirror_mode": {
    "name": "ipython",
    "version": 3
   },
   "file_extension": ".py",
   "mimetype": "text/x-python",
   "name": "python",
   "nbconvert_exporter": "python",
   "pygments_lexer": "ipython3",
   "version": "3.12.0"
  }
 },
 "nbformat": 4,
 "nbformat_minor": 2
}
