{
 "cells": [
  {
   "cell_type": "markdown",
   "metadata": {},
   "source": [
    "Write a program to pronounce list of names using win32 API. If you are given a list l as follows:\n",
    "```\n",
    "l = [\"Rahul\", \"Nishant\", \"Harry\"]\n",
    "```\n",
    "Your program should pronouce:\n",
    "```\n",
    "Shoutout to Rahul\n",
    "Shoutout to Nishant\n",
    "Shoutout to Harry\n",
    "```\n",
    "Note: If you are not using windows, try to figure out how to do the same thing using some other package"
   ]
  }
 ],
 "metadata": {
  "language_info": {
   "name": "python"
  }
 },
 "nbformat": 4,
 "nbformat_minor": 2
}
