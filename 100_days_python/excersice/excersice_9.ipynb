{
 "cells": [
  {
   "cell_type": "markdown",
   "metadata": {},
   "source": [
    "Write a program to pronounce list of names using win32 API. If you are given a list l as follows:\n",
    "```\n",
    "l = [\"Rahul\", \"Nishant\", \"Harry\"]\n",
    "```\n",
    "Your program should pronouce:\n",
    "```\n",
    "Shoutout to Rahul\n",
    "Shoutout to Nishant\n",
    "Shoutout to Harry\n",
    "```\n",
    "Note: If you are not using windows, try to figure out how to do the same thing using some other package"
   ]
  },
  {
   "cell_type": "code",
   "execution_count": 1,
   "metadata": {},
   "outputs": [],
   "source": [
    "# import the required module from text to speech conversion \n",
    "import win32com.client \n",
    "\n",
    "speaker = win32com.client.Dispatch(\"SAPI.SpVoice\")\n",
    "\n",
    "list1 = [\"Shubham\", \"Rahul\", \"Sam\"]\n",
    "\n",
    "for i in list1:\n",
    "    speaker.Speak(i)"
   ]
  },
  {
   "cell_type": "code",
   "execution_count": null,
   "metadata": {},
   "outputs": [],
   "source": []
  }
 ],
 "metadata": {
  "kernelspec": {
   "display_name": "Python 3",
   "language": "python",
   "name": "python3"
  },
  "language_info": {
   "codemirror_mode": {
    "name": "ipython",
    "version": 3
   },
   "file_extension": ".py",
   "mimetype": "text/x-python",
   "name": "python",
   "nbconvert_exporter": "python",
   "pygments_lexer": "ipython3",
   "version": "3.12.0"
  }
 },
 "nbformat": 4,
 "nbformat_minor": 2
}
