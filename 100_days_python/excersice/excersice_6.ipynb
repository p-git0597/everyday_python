{
 "cells": [
  {
   "cell_type": "markdown",
   "metadata": {},
   "source": [
    "Write a Library class with no_of_books and books as two instance variables. Write a program to create a library from this Library class and show how you can print all books, add a book and get the number of books using different methods. Show that your program doesnt persist the books after the program is stopped!"
   ]
  },
  {
   "cell_type": "code",
   "execution_count": 1,
   "metadata": {},
   "outputs": [
    {
     "name": "stdout",
     "output_type": "stream",
     "text": [
      "the library has 3 books. The books are: \n",
      "Harry Potter\n",
      "Miss Nikita\n",
      "Banglore dairies\n"
     ]
    }
   ],
   "source": [
    "class Library():\n",
    "    \n",
    "    def __init__(self):\n",
    "        self.noBooks = 0\n",
    "        self.books = []\n",
    "        \n",
    "    def addBooks(self, book):\n",
    "        self.books.append(book)\n",
    "        self.noBooks = len(self.books)\n",
    "        \n",
    "    def showinfo(self):\n",
    "        print(f\"the library has {self.noBooks} books. The books are: \")\n",
    "        for i in self.books:\n",
    "            print(i)\n",
    "            \n",
    "l1 = Library()\n",
    "l1.addBooks(\"Harry Potter\")\n",
    "l1.addBooks(\"Miss Nikita\")\n",
    "l1.addBooks(\"Banglore dairies\")   \n",
    "l1.showinfo()     "
   ]
  }
 ],
 "metadata": {
  "kernelspec": {
   "display_name": "Python 3",
   "language": "python",
   "name": "python3"
  },
  "language_info": {
   "codemirror_mode": {
    "name": "ipython",
    "version": 3
   },
   "file_extension": ".py",
   "mimetype": "text/x-python",
   "name": "python",
   "nbconvert_exporter": "python",
   "pygments_lexer": "ipython3",
   "version": "3.12.0"
  }
 },
 "nbformat": 4,
 "nbformat_minor": 2
}
