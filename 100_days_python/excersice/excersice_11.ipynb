{
 "cells": [
  {
   "cell_type": "markdown",
   "metadata": {},
   "source": [
    "## Exercise 11 - Drink Water Reminder (Solution)\n",
    "Write a python program which reminds you of drinking water every hour or two. Your program can either beep or send desktop notifications for a specific operating system"
   ]
  },
  {
   "cell_type": "code",
   "execution_count": 1,
   "metadata": {},
   "outputs": [
    {
     "name": "stdout",
     "output_type": "stream",
     "text": [
      "Time to drink water!\n"
     ]
    }
   ],
   "source": [
    "import time\n",
    "import winsound  # For Windows OS\n",
    "\n",
    "def drink_water_reminder():\n",
    "    while True:\n",
    "        # Beep sound\n",
    "        winsound.Beep(1000, 500)  # Frequency = 1000Hz, Duration = 500ms\n",
    "\n",
    "        # Display reminder message\n",
    "        print(\"Time to drink water!\")\n",
    "\n",
    "        # Wait for an hour before the next reminder\n",
    "        time.sleep(3600)  # 3600 seconds = 1 hour\n",
    "\n",
    "if __name__ == \"__main__\":\n",
    "    drink_water_reminder()\n"
   ]
  }
 ],
 "metadata": {
  "kernelspec": {
   "display_name": "Python 3",
   "language": "python",
   "name": "python3"
  },
  "language_info": {
   "codemirror_mode": {
    "name": "ipython",
    "version": 3
   },
   "file_extension": ".py",
   "mimetype": "text/x-python",
   "name": "python",
   "nbconvert_exporter": "python",
   "pygments_lexer": "ipython3",
   "version": "3.12.0"
  }
 },
 "nbformat": 4,
 "nbformat_minor": 2
}
