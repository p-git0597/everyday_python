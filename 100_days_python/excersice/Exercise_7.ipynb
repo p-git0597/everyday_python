{
 "cells": [
  {
   "cell_type": "markdown",
   "metadata": {},
   "source": [
    "## Exercise 7 - Clear the Clutter\n",
    "Write a program to clear the clutter inside a folder on your computer. You should use os module to rename all the png images from 1.png all the way till n.png where n is the number of png files in that folder. Do the same for other file formats. For example:\n",
    "```\n",
    "sfdsf.png --> 1.png\n",
    "vfsf.png --> 2.png\n",
    "this.png --> 3.png\n",
    "design.png --> 4.png\n",
    "name.png --> 5.png\n",
    "```"
   ]
  },
  {
   "cell_type": "code",
   "execution_count": 10,
   "metadata": {},
   "outputs": [
    {
     "name": "stdout",
     "output_type": "stream",
     "text": [
      "1.png\n",
      "2.png\n",
      "3.png\n",
      "4.png\n",
      "5.png\n",
      "6.png\n",
      "7.png\n"
     ]
    }
   ],
   "source": [
    "import os\n",
    "flies = os.listdir(\"images\")\n",
    "i = 1\n",
    "for file in flies:\n",
    "    if file.endswith(\".png\"):\n",
    "        print(file)\n",
    "        os.rename(f\"images/{file}\", f\"images/{i}.png\")\n",
    "        i = i + 1    "
   ]
  }
 ],
 "metadata": {
  "kernelspec": {
   "display_name": "Python 3",
   "language": "python",
   "name": "python3"
  },
  "language_info": {
   "codemirror_mode": {
    "name": "ipython",
    "version": 3
   },
   "file_extension": ".py",
   "mimetype": "text/x-python",
   "name": "python",
   "nbconvert_exporter": "python",
   "pygments_lexer": "ipython3",
   "version": "3.12.0"
  }
 },
 "nbformat": 4,
 "nbformat_minor": 2
}
